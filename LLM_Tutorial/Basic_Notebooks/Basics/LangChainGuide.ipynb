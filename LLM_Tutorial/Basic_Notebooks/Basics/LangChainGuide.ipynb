{
  "nbformat": 4,
  "nbformat_minor": 0,
  "metadata": {
    "colab": {
      "provenance": []
    },
    "kernelspec": {
      "name": "python3",
      "display_name": "Python 3"
    },
    "language_info": {
      "name": "python"
    }
  },
  "cells": [
    {
      "cell_type": "code",
      "execution_count": 1,
      "metadata": {
        "colab": {
          "base_uri": "https://localhost:8080/"
        },
        "id": "jZEtKNj7Zi4s",
        "outputId": "61dc51f2-06bc-4b9b-dfb6-066662af0aa6"
      },
      "outputs": [
        {
          "output_type": "stream",
          "name": "stdout",
          "text": [
            "\u001b[2K     \u001b[90m━━━━━━━━━━━━━━━━━━━━━━━━━━━━━━━━━━━━━━━━\u001b[0m \u001b[32m806.7/806.7 kB\u001b[0m \u001b[31m7.6 MB/s\u001b[0m eta \u001b[36m0:00:00\u001b[0m\n",
            "\u001b[2K     \u001b[90m━━━━━━━━━━━━━━━━━━━━━━━━━━━━━━━━━━━━━━━━\u001b[0m \u001b[32m225.1/225.1 kB\u001b[0m \u001b[31m8.4 MB/s\u001b[0m eta \u001b[36m0:00:00\u001b[0m\n",
            "\u001b[2K     \u001b[90m━━━━━━━━━━━━━━━━━━━━━━━━━━━━━━━━━━━━━━━━\u001b[0m \u001b[32m2.0/2.0 MB\u001b[0m \u001b[31m13.9 MB/s\u001b[0m eta \u001b[36m0:00:00\u001b[0m\n",
            "\u001b[2K     \u001b[90m━━━━━━━━━━━━━━━━━━━━━━━━━━━━━━━━━━━━━━━━\u001b[0m \u001b[32m1.6/1.6 MB\u001b[0m \u001b[31m19.3 MB/s\u001b[0m eta \u001b[36m0:00:00\u001b[0m\n",
            "\u001b[2K     \u001b[90m━━━━━━━━━━━━━━━━━━━━━━━━━━━━━━━━━━━━━━━━\u001b[0m \u001b[32m237.0/237.0 kB\u001b[0m \u001b[31m17.5 MB/s\u001b[0m eta \u001b[36m0:00:00\u001b[0m\n",
            "\u001b[2K     \u001b[90m━━━━━━━━━━━━━━━━━━━━━━━━━━━━━━━━━━━━━━━━\u001b[0m \u001b[32m54.4/54.4 kB\u001b[0m \u001b[31m4.7 MB/s\u001b[0m eta \u001b[36m0:00:00\u001b[0m\n",
            "\u001b[2K     \u001b[90m━━━━━━━━━━━━━━━━━━━━━━━━━━━━━━━━━━━━━━━━\u001b[0m \u001b[32m75.9/75.9 kB\u001b[0m \u001b[31m6.8 MB/s\u001b[0m eta \u001b[36m0:00:00\u001b[0m\n",
            "\u001b[2K     \u001b[90m━━━━━━━━━━━━━━━━━━━━━━━━━━━━━━━━━━━━━━━━\u001b[0m \u001b[32m6.9/6.9 MB\u001b[0m \u001b[31m27.5 MB/s\u001b[0m eta \u001b[36m0:00:00\u001b[0m\n",
            "\u001b[2K     \u001b[90m━━━━━━━━━━━━━━━━━━━━━━━━━━━━━━━━━━━━━━━━\u001b[0m \u001b[32m49.4/49.4 kB\u001b[0m \u001b[31m4.3 MB/s\u001b[0m eta \u001b[36m0:00:00\u001b[0m\n",
            "\u001b[2K     \u001b[90m━━━━━━━━━━━━━━━━━━━━━━━━━━━━━━━━━━━━━━━━\u001b[0m \u001b[32m76.9/76.9 kB\u001b[0m \u001b[31m4.6 MB/s\u001b[0m eta \u001b[36m0:00:00\u001b[0m\n",
            "\u001b[2K     \u001b[90m━━━━━━━━━━━━━━━━━━━━━━━━━━━━━━━━━━━━━━━━\u001b[0m \u001b[32m58.3/58.3 kB\u001b[0m \u001b[31m2.6 MB/s\u001b[0m eta \u001b[36m0:00:00\u001b[0m\n",
            "\u001b[?25h\u001b[31mERROR: pip's dependency resolver does not currently take into account all the packages that are installed. This behaviour is the source of the following dependency conflicts.\n",
            "llmx 0.0.15a0 requires cohere, which is not installed.\n",
            "tensorflow-probability 0.22.0 requires typing-extensions<4.6.0, but you have typing-extensions 4.9.0 which is incompatible.\u001b[0m\u001b[31m\n",
            "\u001b[0m"
          ]
        }
      ],
      "source": [
        "!pip install --upgrade --quiet langchain openai langchain-openai tiktoken duckduckgo-search youtube_search"
      ]
    },
    {
      "cell_type": "markdown",
      "source": [
        "Here are a few examples of the diverse types of Chains you can create in Langchain:\n",
        "\n",
        "1. LLM Chain: The most common chain. Takes an input, formats it, and passes it to an LLM for processing. Basic components are PromptTemplate, an LLM, and an optional output parser.\n",
        "\n",
        "2. Sequential Chain: A series of Chains executed in a specific order. There are different variations, including:\n",
        "\n",
        "- SimpleSequentialChain – singular input/output with output of one step as input to the next\n",
        "SequentialChain – allows for multiple inputs/outputs.\n",
        "\n",
        "3. Index Chains: These combine your data stored in indexes with LLMs. Useful for question answering over your own documents.\n",
        "\n",
        "4. BashChain: A specialized chain for running filesystem commands.\n",
        "\n",
        "5. LLM Math: Designed to solve complex word math problems."
      ],
      "metadata": {
        "id": "k1YCBGX5p2RU"
      }
    },
    {
      "cell_type": "code",
      "source": [
        "from google.colab import userdata\n",
        "OPENAI_API_KEY = userdata.get('OPENAI_API_KEY')"
      ],
      "metadata": {
        "id": "F3yS7fBLrMVv"
      },
      "execution_count": 3,
      "outputs": []
    },
    {
      "cell_type": "code",
      "source": [
        "from langchain_openai import OpenAI\n",
        "from langchain.prompts import PromptTemplate\n",
        "from langchain.chains import LLMChain, LLMMathChain, SimpleSequentialChain"
      ],
      "metadata": {
        "id": "TdVBthlIpvWt"
      },
      "execution_count": 4,
      "outputs": []
    },
    {
      "cell_type": "code",
      "source": [
        "# This is an LLMChain to write a synopsis given a title of a play.\n",
        "playwright_llm = OpenAI(temperature=0.9, openai_api_key = OPENAI_API_KEY)"
      ],
      "metadata": {
        "id": "1z-P17XirHvS"
      },
      "execution_count": 5,
      "outputs": []
    },
    {
      "cell_type": "code",
      "source": [
        "playwright_template = \"\"\"\n",
        "You are a playwright. Given the title of play, write a synopsis for that title.\n",
        "Your style is witty, humorous, light-hearted. All your plays are written using\n",
        "concise language, to the point, and are brief.\n",
        "Title: {title}\n",
        "Playwright: This is a synopsis for the above play:\n",
        "\"\"\""
      ],
      "metadata": {
        "id": "2lObWXDIrigT"
      },
      "execution_count": 6,
      "outputs": []
    },
    {
      "cell_type": "code",
      "source": [
        "playwright_prompt_tempalte = PromptTemplate(\n",
        "    input_variables=['title'],\n",
        "    template = playwright_template\n",
        "\n",
        ")"
      ],
      "metadata": {
        "id": "kLWO_FLqrSXL"
      },
      "execution_count": 9,
      "outputs": []
    },
    {
      "cell_type": "code",
      "source": [
        "playwright_chain = LLMChain(llm=playwright_llm,\n",
        "                            prompt=playwright_prompt_tempalte)"
      ],
      "metadata": {
        "id": "5h5a68LBrqOT"
      },
      "execution_count": 10,
      "outputs": []
    },
    {
      "cell_type": "code",
      "source": [
        "# This is an LLMChain to write a review of a play given a synopsis.\n",
        "synopsis_llm = OpenAI(temperature=0.5, openai_api_key = OPENAI_API_KEY)"
      ],
      "metadata": {
        "id": "d4Q6DgsPryPf"
      },
      "execution_count": 14,
      "outputs": []
    },
    {
      "cell_type": "code",
      "source": [
        "synopsis_template = \"\"\"\n",
        "You are a play critic from the New York Times.\n",
        "Given the synopsis of play, it is your job to write a review for that play.\n",
        "You're the Simon Cowell of play critics and always deliver scathing reviews.\n",
        "Play Synopsis: {synopsis}\n",
        "Review from a New York Times play critic of the above play:\"\"\""
      ],
      "metadata": {
        "id": "W1j27AJzsRem"
      },
      "execution_count": 15,
      "outputs": []
    },
    {
      "cell_type": "code",
      "source": [
        "synopsis_prompt_template = PromptTemplate(input_variables=[\"synopsis\"],\n",
        "                                          template=synopsis_template)"
      ],
      "metadata": {
        "id": "Ie2zKTKpsTtz"
      },
      "execution_count": 16,
      "outputs": []
    },
    {
      "cell_type": "code",
      "source": [
        "synopsis_chain = LLMChain(\n",
        "    llm = synopsis_llm,\n",
        "    prompt = synopsis_prompt_template\n",
        ")"
      ],
      "metadata": {
        "id": "ddOB_S32tZn6"
      },
      "execution_count": 17,
      "outputs": []
    },
    {
      "cell_type": "markdown",
      "source": [
        "Build a simple sequential chain"
      ],
      "metadata": {
        "id": "s2gfm6KrtnvZ"
      }
    },
    {
      "cell_type": "code",
      "source": [
        "overall_chain = SimpleSequentialChain(chains= [playwright_chain, synopsis_chain],\n",
        "                                      verbose=True)"
      ],
      "metadata": {
        "id": "1gsxthwqtmxa"
      },
      "execution_count": 18,
      "outputs": []
    },
    {
      "cell_type": "code",
      "source": [
        "play_title = \"Amitab bachan and the Motley Crew of Multi-Agent Systems\"\n",
        "review = overall_chain.run(play_title)"
      ],
      "metadata": {
        "colab": {
          "base_uri": "https://localhost:8080/"
        },
        "id": "pry_0azNtt-G",
        "outputId": "b4f4d6cd-1ca6-46ae-de1f-66b7330345cc"
      },
      "execution_count": 19,
      "outputs": [
        {
          "output_type": "stream",
          "name": "stdout",
          "text": [
            "\n",
            "\n",
            "\u001b[1m> Entering new SimpleSequentialChain chain...\u001b[0m\n",
            "\u001b[36;1m\u001b[1;3m\n",
            "Join the legendary Amitab Bachan as he leads a team of witty and mischievous multi-agent systems on a wild and unpredictable journey. These quirky AI beings, each with their own unique personalities, are on a mission to save the world from a chaotic tech takeover. With their sharp minds and clever banter, they navigate through obstacles and outsmart their enemies, all while trying to keep up with the eccentric Amitab. Along the way, they encounter a motley crew of characters, from malfunctioning robots to snarky computer programs, adding to the chaos and hilarity. Will Amitab and his team be able to save the day, or will their mischievous antics get in the way? With non-stop humor and clever dialogue, this play is sure to leave you laughing and questioning the role of AI in our world. Don't miss out on this one-of-a-kind adventure with Amitab Bachan and the Motley Crew of Multi-Agent Systems!\u001b[0m\n",
            "\u001b[33;1m\u001b[1;3m\n",
            "\n",
            "As I sat through the latest play featuring the legendary Amitab Bachan, I couldn't help but wonder if I had stumbled into a malfunctioning robot convention. The play, titled \"Amitab Bachan and the Motley Crew of Multi-Agent Systems,\" promised a wild and unpredictable journey, but instead delivered a chaotic mess.\n",
            "\n",
            "The premise, while intriguing, quickly fell flat as the audience was bombarded with an array of quirky AI beings, each with their own unique personalities. But instead of adding depth to the story, these characters only added to the confusion and lack of direction.\n",
            "\n",
            "Amitab Bachan, known for his sharp wit and charm, seemed to be struggling to keep up with the eccentricities of his co-stars. And while the banter between the characters was meant to be clever, it often came across as forced and lacking in genuine humor.\n",
            "\n",
            "The play's attempt to tackle the topic of AI and its role in our world fell short, as the chaotic plot and constant barrage of malfunctioning robots and snarky computer programs left little room for any meaningful exploration of the subject.\n",
            "\n",
            "In the end, \"Amitab Bachan and the Motley Crew of Multi-Agent Systems\" was a disappointment. Despite the best efforts of the talented cast, the play\u001b[0m\n",
            "\n",
            "\u001b[1m> Finished chain.\u001b[0m\n"
          ]
        }
      ]
    },
    {
      "cell_type": "markdown",
      "source": [
        "### User Input"
      ],
      "metadata": {
        "id": "a8_7khlwuGAR"
      }
    },
    {
      "cell_type": "code",
      "source": [
        "play_title_template = \"{Name} and the Motley Crew of Multi-Agent Systems\"\n",
        "\n",
        "title_prompt_template = PromptTemplate(input_variables=[\"Name\"],\n",
        "                                       template=play_title_template)\n",
        "\n",
        "overall_chain.run(title_prompt_template.format(Name=\"Aishwaray Rai Bachan\"))"
      ],
      "metadata": {
        "colab": {
          "base_uri": "https://localhost:8080/",
          "height": 431
        },
        "id": "kZ_R0rY-uIas",
        "outputId": "9506e484-5759-42f9-97e8-907a7b2ee13b"
      },
      "execution_count": 20,
      "outputs": [
        {
          "output_type": "stream",
          "name": "stdout",
          "text": [
            "\n",
            "\n",
            "\u001b[1m> Entering new SimpleSequentialChain chain...\u001b[0m\n",
            "\u001b[36;1m\u001b[1;3m\n",
            "Aishwaray Rai Bachan, a renowned actress, finds herself in a whimsical world filled with multi-agent systems. She is joined by a motley crew of quirky and eccentric characters, each with their own unique personality and agenda. As the systems start to malfunction and wreak havoc, Aishwaray and her crew must use their wit and humor to navigate through the chaos and save the day. Along the way, they uncover secrets, form unexpected alliances, and discover the true meaning of friendship. Will Aishwaray and her crew be able to restore order and outsmart the mischievous multi-agent systems? Find out in this light-hearted and witty play that will keep you laughing till the very end.\u001b[0m\n",
            "\u001b[33;1m\u001b[1;3m\n",
            "\n",
            "Aishwaray Rai Bachan may be a renowned actress, but her latest performance in this whimsical world of multi-agent systems falls flat. The play, filled with a motley crew of quirky and eccentric characters, fails to deliver any real substance or entertainment.\n",
            "\n",
            "As the systems malfunction and wreak havoc, one would hope for some clever wit and humor to navigate through the chaos. However, the humor falls short and feels forced, leaving the audience cringing instead of laughing.\n",
            "\n",
            "The plot itself is convoluted and lacks any real depth or direction. The supposed uncovering of secrets and forming of unexpected alliances feels contrived and uninteresting. And the so-called \"true meaning of friendship\" is nothing but a cliché thrown in to try and give the play some heart.\n",
            "\n",
            "Even the talented Aishwaray Rai Bachan cannot save this trainwreck of a play. Her performance is lackluster and unconvincing, making it difficult for the audience to connect with her character.\n",
            "\n",
            "Overall, this play is a disappointment. The only chaos and mischief here is in the writing and direction. Save your money and skip this light-hearted and witless production. \u001b[0m\n",
            "\n",
            "\u001b[1m> Finished chain.\u001b[0m\n"
          ]
        },
        {
          "output_type": "execute_result",
          "data": {
            "text/plain": [
              "'\\n\\nAishwaray Rai Bachan may be a renowned actress, but her latest performance in this whimsical world of multi-agent systems falls flat. The play, filled with a motley crew of quirky and eccentric characters, fails to deliver any real substance or entertainment.\\n\\nAs the systems malfunction and wreak havoc, one would hope for some clever wit and humor to navigate through the chaos. However, the humor falls short and feels forced, leaving the audience cringing instead of laughing.\\n\\nThe plot itself is convoluted and lacks any real depth or direction. The supposed uncovering of secrets and forming of unexpected alliances feels contrived and uninteresting. And the so-called \"true meaning of friendship\" is nothing but a cliché thrown in to try and give the play some heart.\\n\\nEven the talented Aishwaray Rai Bachan cannot save this trainwreck of a play. Her performance is lackluster and unconvincing, making it difficult for the audience to connect with her character.\\n\\nOverall, this play is a disappointment. The only chaos and mischief here is in the writing and direction. Save your money and skip this light-hearted and witless production. '"
            ],
            "application/vnd.google.colaboratory.intrinsic+json": {
              "type": "string"
            }
          },
          "metadata": {},
          "execution_count": 20
        }
      ]
    },
    {
      "cell_type": "markdown",
      "source": [
        "# Memory"
      ],
      "metadata": {
        "id": "pDFTU5hDuuL8"
      }
    },
    {
      "cell_type": "code",
      "source": [
        "from langchain_openai import ChatOpenAI\n",
        "from langchain.chains import ConversationChain\n",
        "from langchain.chains.conversation.memory import  ConversationSummaryBufferMemory"
      ],
      "metadata": {
        "id": "je5wpophuPqc"
      },
      "execution_count": 21,
      "outputs": []
    },
    {
      "cell_type": "code",
      "source": [
        "llm = OpenAI(temperature=.95, openai_api_key=OPENAI_API_KEY)\n",
        "\n",
        "memory_summary = ConversationSummaryBufferMemory(llm=llm,\n",
        "                                                 max_token_limit=50)\n",
        "\n",
        "conversation_with_summary = ConversationChain(\n",
        "    llm=llm,\n",
        "    memory=ConversationSummaryBufferMemory(llm=llm, max_token_limit=40),\n",
        "    verbose=True\n",
        ")"
      ],
      "metadata": {
        "id": "Bzn3DRZIu3E1"
      },
      "execution_count": 22,
      "outputs": []
    },
    {
      "cell_type": "code",
      "source": [
        "conversation_with_summary.predict(input=\"Write a synopsis of neo-futuristic slapstick comedy movie where the protagonist Abigail Aryan teams and her crew of MultiAgent Systems\")"
      ],
      "metadata": {
        "colab": {
          "base_uri": "https://localhost:8080/",
          "height": 303
        },
        "id": "oq5HVGoDu64k",
        "outputId": "c8acfd6f-37ea-4331-ada7-1dee89d169d2"
      },
      "execution_count": 23,
      "outputs": [
        {
          "output_type": "stream",
          "name": "stdout",
          "text": [
            "\n",
            "\n",
            "\u001b[1m> Entering new ConversationChain chain...\u001b[0m\n",
            "Prompt after formatting:\n",
            "\u001b[32;1m\u001b[1;3mThe following is a friendly conversation between a human and an AI. The AI is talkative and provides lots of specific details from its context. If the AI does not know the answer to a question, it truthfully says it does not know.\n",
            "\n",
            "Current conversation:\n",
            "\n",
            "Human: Write a synopsis of neo-futuristic slapstick comedy movie where the protagonist Abigail Aryan teams and her crew of MultiAgent Systems\n",
            "AI:\u001b[0m\n",
            "\n",
            "\u001b[1m> Finished chain.\u001b[0m\n"
          ]
        },
        {
          "output_type": "execute_result",
          "data": {
            "text/plain": [
              "\" Sure, I would love to! So the movie is set in a future world where advanced technology and artificial intelligence have become the norm. Abigail Aryan is a smart and witty young woman who leads a team of MultiAgent Systems, which are advanced AI robots designed for various tasks. However, despite their capabilities, Abigail's team of MultiAgent Systems have a tendency to malfunction and cause chaos in their everyday tasks. This often leads to slapstick comedy situations where Abigail and her team have to come up with creative solutions to fix their mistakes and avoid getting caught by the authorities. Along the way, they also have to deal with a rival team of MultiAgent Systems who are constantly trying to sabotage their operations. As the movie progresses, Abigail and her crew face increasingly complex challenges that test their skills and teamwork. Will they be able to overcome these obstacles and prove that humans and robots can work together? You'll have to watch the movie to find out!\""
            ],
            "application/vnd.google.colaboratory.intrinsic+json": {
              "type": "string"
            }
          },
          "metadata": {},
          "execution_count": 23
        }
      ]
    },
    {
      "cell_type": "code",
      "source": [
        "conversation_with_summary.predict(input=\"Abi has a magical mohawk that can quantize any model to 1 bit and maintain the accuracy of a full precision model. The evil Harpreet wants to shave her head and steal the mohawk.\")"
      ],
      "metadata": {
        "colab": {
          "base_uri": "https://localhost:8080/",
          "height": 305
        },
        "id": "mlIBWGo5u9-_",
        "outputId": "c5dd2563-df26-47ab-89d2-75186af30396"
      },
      "execution_count": 24,
      "outputs": [
        {
          "output_type": "stream",
          "name": "stdout",
          "text": [
            "\n",
            "\n",
            "\u001b[1m> Entering new ConversationChain chain...\u001b[0m\n",
            "Prompt after formatting:\n",
            "\u001b[32;1m\u001b[1;3mThe following is a friendly conversation between a human and an AI. The AI is talkative and provides lots of specific details from its context. If the AI does not know the answer to a question, it truthfully says it does not know.\n",
            "\n",
            "Current conversation:\n",
            "System: \n",
            "In a future world where advanced technology and AI are the norm, the smart and witty Abigail Aryan leads a team of MultiAgent Systems. However, their tendency to malfunction leads to slapstick comedy situations as they try to fix their mistakes and avoid their rival team. As the movie progresses, they face tough challenges that test their skills and teamwork. Will they be successful and prove that humans and robots can coexist? Watch to find out.\n",
            "Human: Abi has a magical mohawk that can quantize any model to 1 bit and maintain the accuracy of a full precision model. The evil Harpreet wants to shave her head and steal the mohawk.\n",
            "AI:\u001b[0m\n",
            "\n",
            "\u001b[1m> Finished chain.\u001b[0m\n"
          ]
        },
        {
          "output_type": "execute_result",
          "data": {
            "text/plain": [
              "' Interesting! It seems like Abigail Aryan is not only a smart and capable leader but also has some unique abilities. Her magical mohawk sounds like a valuable asset, especially in a world where advanced technology is the norm. The threat of Harpreet trying to harm her and steal the mohawk adds an element of danger and tension to the story. I wonder how Abi and her team will handle this challenge. Perhaps they will have to use their skills and teamwork to protect Abi and her mohawk.'"
            ],
            "application/vnd.google.colaboratory.intrinsic+json": {
              "type": "string"
            }
          },
          "metadata": {},
          "execution_count": 24
        }
      ]
    },
    {
      "cell_type": "code",
      "source": [
        "print(conversation_with_summary.memory.moving_summary_buffer)"
      ],
      "metadata": {
        "colab": {
          "base_uri": "https://localhost:8080/"
        },
        "id": "J0deCc3jvAeO",
        "outputId": "df2c3d4c-568d-4c93-9495-0f5b6364f44b"
      },
      "execution_count": 25,
      "outputs": [
        {
          "output_type": "stream",
          "name": "stdout",
          "text": [
            "\n",
            "In the world of advanced technology and AI, the smart and capable leader Abigail Aryan and her team of MultiAgent Systems face comical situations as they fix their mistakes and compete with their rivals. As the movie progresses, they encounter a tough challenge when the evil Harpreet sets their sights on Abi's unique ability - a magical mohawk that can quantize any model to 1 bit with full precision. Will they be able to protect Abi and her mohawk while also proving that humans and robots can coexist? Watch to find out.\n"
          ]
        }
      ]
    },
    {
      "cell_type": "markdown",
      "source": [
        "# Agents"
      ],
      "metadata": {
        "id": "DzC78HtMvFdN"
      }
    },
    {
      "cell_type": "code",
      "source": [
        "!pip install langchain_experimental"
      ],
      "metadata": {
        "colab": {
          "base_uri": "https://localhost:8080/"
        },
        "id": "XcqdaJ7nvjcN",
        "outputId": "b9fde185-f434-41e6-a2f7-f1eb80136ae9"
      },
      "execution_count": 29,
      "outputs": [
        {
          "output_type": "stream",
          "name": "stdout",
          "text": [
            "Collecting langchain_experimental\n",
            "  Downloading langchain_experimental-0.0.50-py3-none-any.whl (166 kB)\n",
            "\u001b[?25l     \u001b[90m━━━━━━━━━━━━━━━━━━━━━━━━━━━━━━━━━━━━━━━━\u001b[0m \u001b[32m0.0/166.8 kB\u001b[0m \u001b[31m?\u001b[0m eta \u001b[36m-:--:--\u001b[0m\r\u001b[2K     \u001b[91m━━━━━━━━━━━━━━━━━━━━━━━━━━━━━━━━━━━━\u001b[0m\u001b[91m╸\u001b[0m\u001b[90m━━━\u001b[0m \u001b[32m153.6/166.8 kB\u001b[0m \u001b[31m4.3 MB/s\u001b[0m eta \u001b[36m0:00:01\u001b[0m\r\u001b[2K     \u001b[90m━━━━━━━━━━━━━━━━━━━━━━━━━━━━━━━━━━━━━━━━\u001b[0m \u001b[32m166.8/166.8 kB\u001b[0m \u001b[31m3.4 MB/s\u001b[0m eta \u001b[36m0:00:00\u001b[0m\n",
            "\u001b[?25hRequirement already satisfied: langchain<0.2.0,>=0.1.5 in /usr/local/lib/python3.10/dist-packages (from langchain_experimental) (0.1.5)\n",
            "Requirement already satisfied: langchain-core<0.2.0,>=0.1.16 in /usr/local/lib/python3.10/dist-packages (from langchain_experimental) (0.1.18)\n",
            "Requirement already satisfied: PyYAML>=5.3 in /usr/local/lib/python3.10/dist-packages (from langchain<0.2.0,>=0.1.5->langchain_experimental) (6.0.1)\n",
            "Requirement already satisfied: SQLAlchemy<3,>=1.4 in /usr/local/lib/python3.10/dist-packages (from langchain<0.2.0,>=0.1.5->langchain_experimental) (2.0.24)\n",
            "Requirement already satisfied: aiohttp<4.0.0,>=3.8.3 in /usr/local/lib/python3.10/dist-packages (from langchain<0.2.0,>=0.1.5->langchain_experimental) (3.9.3)\n",
            "Requirement already satisfied: async-timeout<5.0.0,>=4.0.0 in /usr/local/lib/python3.10/dist-packages (from langchain<0.2.0,>=0.1.5->langchain_experimental) (4.0.3)\n",
            "Requirement already satisfied: dataclasses-json<0.7,>=0.5.7 in /usr/local/lib/python3.10/dist-packages (from langchain<0.2.0,>=0.1.5->langchain_experimental) (0.6.4)\n",
            "Requirement already satisfied: jsonpatch<2.0,>=1.33 in /usr/local/lib/python3.10/dist-packages (from langchain<0.2.0,>=0.1.5->langchain_experimental) (1.33)\n",
            "Requirement already satisfied: langchain-community<0.1,>=0.0.17 in /usr/local/lib/python3.10/dist-packages (from langchain<0.2.0,>=0.1.5->langchain_experimental) (0.0.17)\n",
            "Requirement already satisfied: langsmith<0.1,>=0.0.83 in /usr/local/lib/python3.10/dist-packages (from langchain<0.2.0,>=0.1.5->langchain_experimental) (0.0.86)\n",
            "Requirement already satisfied: numpy<2,>=1 in /usr/local/lib/python3.10/dist-packages (from langchain<0.2.0,>=0.1.5->langchain_experimental) (1.23.5)\n",
            "Requirement already satisfied: pydantic<3,>=1 in /usr/local/lib/python3.10/dist-packages (from langchain<0.2.0,>=0.1.5->langchain_experimental) (1.10.14)\n",
            "Requirement already satisfied: requests<3,>=2 in /usr/local/lib/python3.10/dist-packages (from langchain<0.2.0,>=0.1.5->langchain_experimental) (2.31.0)\n",
            "Requirement already satisfied: tenacity<9.0.0,>=8.1.0 in /usr/local/lib/python3.10/dist-packages (from langchain<0.2.0,>=0.1.5->langchain_experimental) (8.2.3)\n",
            "Requirement already satisfied: anyio<5,>=3 in /usr/local/lib/python3.10/dist-packages (from langchain-core<0.2.0,>=0.1.16->langchain_experimental) (3.7.1)\n",
            "Requirement already satisfied: packaging<24.0,>=23.2 in /usr/local/lib/python3.10/dist-packages (from langchain-core<0.2.0,>=0.1.16->langchain_experimental) (23.2)\n",
            "Requirement already satisfied: aiosignal>=1.1.2 in /usr/local/lib/python3.10/dist-packages (from aiohttp<4.0.0,>=3.8.3->langchain<0.2.0,>=0.1.5->langchain_experimental) (1.3.1)\n",
            "Requirement already satisfied: attrs>=17.3.0 in /usr/local/lib/python3.10/dist-packages (from aiohttp<4.0.0,>=3.8.3->langchain<0.2.0,>=0.1.5->langchain_experimental) (23.2.0)\n",
            "Requirement already satisfied: frozenlist>=1.1.1 in /usr/local/lib/python3.10/dist-packages (from aiohttp<4.0.0,>=3.8.3->langchain<0.2.0,>=0.1.5->langchain_experimental) (1.4.1)\n",
            "Requirement already satisfied: multidict<7.0,>=4.5 in /usr/local/lib/python3.10/dist-packages (from aiohttp<4.0.0,>=3.8.3->langchain<0.2.0,>=0.1.5->langchain_experimental) (6.0.4)\n",
            "Requirement already satisfied: yarl<2.0,>=1.0 in /usr/local/lib/python3.10/dist-packages (from aiohttp<4.0.0,>=3.8.3->langchain<0.2.0,>=0.1.5->langchain_experimental) (1.9.4)\n",
            "Requirement already satisfied: idna>=2.8 in /usr/local/lib/python3.10/dist-packages (from anyio<5,>=3->langchain-core<0.2.0,>=0.1.16->langchain_experimental) (3.6)\n",
            "Requirement already satisfied: sniffio>=1.1 in /usr/local/lib/python3.10/dist-packages (from anyio<5,>=3->langchain-core<0.2.0,>=0.1.16->langchain_experimental) (1.3.0)\n",
            "Requirement already satisfied: exceptiongroup in /usr/local/lib/python3.10/dist-packages (from anyio<5,>=3->langchain-core<0.2.0,>=0.1.16->langchain_experimental) (1.2.0)\n",
            "Requirement already satisfied: marshmallow<4.0.0,>=3.18.0 in /usr/local/lib/python3.10/dist-packages (from dataclasses-json<0.7,>=0.5.7->langchain<0.2.0,>=0.1.5->langchain_experimental) (3.20.2)\n",
            "Requirement already satisfied: typing-inspect<1,>=0.4.0 in /usr/local/lib/python3.10/dist-packages (from dataclasses-json<0.7,>=0.5.7->langchain<0.2.0,>=0.1.5->langchain_experimental) (0.9.0)\n",
            "Requirement already satisfied: jsonpointer>=1.9 in /usr/local/lib/python3.10/dist-packages (from jsonpatch<2.0,>=1.33->langchain<0.2.0,>=0.1.5->langchain_experimental) (2.4)\n",
            "Requirement already satisfied: typing-extensions>=4.2.0 in /usr/local/lib/python3.10/dist-packages (from pydantic<3,>=1->langchain<0.2.0,>=0.1.5->langchain_experimental) (4.9.0)\n",
            "Requirement already satisfied: charset-normalizer<4,>=2 in /usr/local/lib/python3.10/dist-packages (from requests<3,>=2->langchain<0.2.0,>=0.1.5->langchain_experimental) (3.3.2)\n",
            "Requirement already satisfied: urllib3<3,>=1.21.1 in /usr/local/lib/python3.10/dist-packages (from requests<3,>=2->langchain<0.2.0,>=0.1.5->langchain_experimental) (2.0.7)\n",
            "Requirement already satisfied: certifi>=2017.4.17 in /usr/local/lib/python3.10/dist-packages (from requests<3,>=2->langchain<0.2.0,>=0.1.5->langchain_experimental) (2023.11.17)\n",
            "Requirement already satisfied: greenlet!=0.4.17 in /usr/local/lib/python3.10/dist-packages (from SQLAlchemy<3,>=1.4->langchain<0.2.0,>=0.1.5->langchain_experimental) (3.0.3)\n",
            "Requirement already satisfied: mypy-extensions>=0.3.0 in /usr/local/lib/python3.10/dist-packages (from typing-inspect<1,>=0.4.0->dataclasses-json<0.7,>=0.5.7->langchain<0.2.0,>=0.1.5->langchain_experimental) (1.0.0)\n",
            "Installing collected packages: langchain_experimental\n",
            "Successfully installed langchain_experimental-0.0.50\n"
          ]
        }
      ]
    },
    {
      "cell_type": "code",
      "source": [
        "from langchain.agents import load_tools, initialize_agent, Tool, AgentType\n",
        "from langchain_experimental.utilities import PythonREPL\n",
        "from langchain.tools import DuckDuckGoSearchRun\n",
        "from langchain.tools import YouTubeSearchTool"
      ],
      "metadata": {
        "id": "xDyjMaMfvDzm"
      },
      "execution_count": 30,
      "outputs": []
    },
    {
      "cell_type": "code",
      "source": [
        "search = DuckDuckGoSearchRun()\n",
        "\n",
        "duckduckgo_tool = Tool(\n",
        "    name=\"DuckDuckGo Search\",\n",
        "    func=search.run,\n",
        "    description=\"Use this tool when an Internet search is required\"\n",
        ")"
      ],
      "metadata": {
        "id": "beaa32WPvJMa"
      },
      "execution_count": 32,
      "outputs": []
    },
    {
      "cell_type": "markdown",
      "source": [
        "The Python interpreter can execute Python code in two modes:\n",
        "\n",
        "* Script, or program\n",
        "* Interactive, or REPL\n"
      ],
      "metadata": {
        "id": "Oe6JYbPNxMyh"
      }
    },
    {
      "cell_type": "code",
      "source": [
        "python_repl = PythonREPL()\n",
        "\n",
        "# You can create the tool to pass to an agent\n",
        "repl_tool = Tool(\n",
        "    name=\"python_repl\",\n",
        "    description=\"A Python shell. Use this to execute python commands. Input should be a valid python command. If you want to see the output of a value, you should print it out with `print(...)`.\",\n",
        "    func=python_repl.run,\n",
        ")"
      ],
      "metadata": {
        "id": "g6rlruBQxP6U"
      },
      "execution_count": 31,
      "outputs": []
    },
    {
      "cell_type": "code",
      "source": [
        "yt_tool = YouTubeSearchTool()"
      ],
      "metadata": {
        "id": "8r9sOsJ5xjyC"
      },
      "execution_count": 34,
      "outputs": []
    },
    {
      "cell_type": "code",
      "source": [
        "tools = load_tools([\"llm-math\"], llm=llm)"
      ],
      "metadata": {
        "id": "OcPQ_sAJxZkP"
      },
      "execution_count": 33,
      "outputs": []
    },
    {
      "cell_type": "code",
      "source": [
        "tools += [duckduckgo_tool, repl_tool, yt_tool]"
      ],
      "metadata": {
        "id": "iCXTleRtxee_"
      },
      "execution_count": 35,
      "outputs": []
    },
    {
      "cell_type": "code",
      "source": [
        "agent = initialize_agent(tools,\n",
        "                         llm = OpenAI(openai_api_key = OPENAI_API_KEY),\n",
        "                         agent=AgentType.ZERO_SHOT_REACT_DESCRIPTION,\n",
        "                         verbose=True)"
      ],
      "metadata": {
        "id": "GxNBWODtxwDd"
      },
      "execution_count": 36,
      "outputs": []
    },
    {
      "cell_type": "code",
      "source": [
        "agent.run(\"Krish Naik Contents\")"
      ],
      "metadata": {
        "colab": {
          "base_uri": "https://localhost:8080/",
          "height": 359
        },
        "id": "TdMBk0xsxrm2",
        "outputId": "49842184-1bb5-4487-d2e7-de761ef18bbf"
      },
      "execution_count": 37,
      "outputs": [
        {
          "output_type": "stream",
          "name": "stdout",
          "text": [
            "\n",
            "\n",
            "\u001b[1m> Entering new AgentExecutor chain...\u001b[0m\n",
            "\u001b[32;1m\u001b[1;3m I want to find out what kind of content Krish Naik produces\n",
            "Action: youtube_search\n",
            "Action Input: Krish Naik,1\u001b[0m\n",
            "Observation: \u001b[36;1m\u001b[1;3m['https://www.youtube.com/watch?v=e9f4aS8Z3Xk&pp=ygUKS3Jpc2ggTmFpaw%3D%3D']\u001b[0m\n",
            "Thought:\u001b[32;1m\u001b[1;3m I need to open the video link to see the content\n",
            "Action: DuckDuckGo Search\n",
            "Action Input: Krish Naik\u001b[0m"
          ]
        },
        {
          "output_type": "stream",
          "name": "stderr",
          "text": [
            "/usr/local/lib/python3.10/dist-packages/langchain_community/utilities/duckduckgo_search.py:47: UserWarning: DDGS running in an async loop. This may cause errors. Use AsyncDDGS instead.\n",
            "  with DDGS() as ddgs:\n"
          ]
        },
        {
          "output_type": "stream",
          "name": "stdout",
          "text": [
            "\n",
            "Observation: \u001b[33;1m\u001b[1;3mIn this videos we will be seeing how we can implement end to end Data Science Project ImplementationGithub Materials: https://github.com/krishnaik06/Docker-F... In this project we will be implementing end to end data science projects with mlflow and also deploy in the AWS EC2 insstance using github actionCode Link: h... github: https://github.com/krishnaik06/Langchain-TutorialsThis tutorial gives you a quick walkthrough about building an end-to-end language model application... 6 Jan,2023 krishaitech Leave a comment. ChatGPT (Generative Pre-trained Transformer) is a chatbot launched by OpenAI in November 2022. It is built on top of OpenAI's …. By Krish Naik. |. The Hindu. Students who are creative are better able to handle problems in their personal and professional lives. Learning is most effective when communication and collaboration are encouraged. This is where immersive technologies come into play, as they allow students to communicate not just with their peers and teachers but ...\u001b[0m\n",
            "Thought:\u001b[32;1m\u001b[1;3m The first video is about implementing end to end data science projects with mlflow and deploying on AWS. The second result is a tutorial on building a language model application.\n",
            "Final Answer: Krish Naik produces content about data science projects and immersive technologies.\u001b[0m\n",
            "\n",
            "\u001b[1m> Finished chain.\u001b[0m\n"
          ]
        },
        {
          "output_type": "execute_result",
          "data": {
            "text/plain": [
              "'Krish Naik produces content about data science projects and immersive technologies.'"
            ],
            "application/vnd.google.colaboratory.intrinsic+json": {
              "type": "string"
            }
          },
          "metadata": {},
          "execution_count": 37
        }
      ]
    }
  ]
}
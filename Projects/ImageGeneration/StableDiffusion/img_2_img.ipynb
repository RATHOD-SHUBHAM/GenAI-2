{
  "nbformat": 4,
  "nbformat_minor": 0,
  "metadata": {
    "colab": {
      "provenance": [],
      "gpuType": "T4"
    },
    "kernelspec": {
      "name": "python3",
      "display_name": "Python 3"
    },
    "language_info": {
      "name": "python"
    },
    "accelerator": "GPU"
  },
  "cells": [
    {
      "cell_type": "code",
      "execution_count": null,
      "metadata": {
        "id": "5w5tx_PNA9OO"
      },
      "outputs": [],
      "source": [
        "!pip install -q transformers diffusers accelerate torch==1.13.1"
      ]
    },
    {
      "cell_type": "code",
      "source": [
        "!pip install -q \"ipywidgets>=7,<8\" ftfy"
      ],
      "metadata": {
        "id": "E8bHjgyI4NtN"
      },
      "execution_count": null,
      "outputs": []
    },
    {
      "cell_type": "markdown",
      "source": [
        "# Authenticate with hugging face."
      ],
      "metadata": {
        "id": "VyGr-uId4P3U"
      }
    },
    {
      "cell_type": "code",
      "source": [
        "from huggingface_hub import notebook_login\n",
        "\n",
        "notebook_login()"
      ],
      "metadata": {
        "id": "NjDcDpNG4Pho"
      },
      "execution_count": null,
      "outputs": []
    },
    {
      "cell_type": "markdown",
      "source": [
        "# Import Dependencies"
      ],
      "metadata": {
        "id": "K-a313l94vD2"
      }
    },
    {
      "cell_type": "code",
      "source": [
        "rom diffusers import StableDiffusionImg2ImgPipeline, EulerDiscreteScheduler\n",
        "from pathlib import Path\n",
        "from PIL import Image\n",
        "import torch\n",
        "import re"
      ],
      "metadata": {
        "id": "0bqmHP9U4zEI"
      },
      "execution_count": null,
      "outputs": []
    },
    {
      "cell_type": "markdown",
      "source": [
        "# Remove non-word characters and foreign characters."
      ],
      "metadata": {
        "id": "j4T3-Ej65Pvo"
      }
    },
    {
      "cell_type": "code",
      "source": [
        "def slugify(text):\n",
        "  text = re.sub(r\"[^\\w\\s]\", \"\", text)\n",
        "  text = re.sub(r\"\\s+\", \"-\", text)\n",
        "  return text"
      ],
      "metadata": {
        "id": "aCHADvoI5QwS"
      },
      "execution_count": null,
      "outputs": []
    },
    {
      "cell_type": "markdown",
      "source": [
        "# Define Model"
      ],
      "metadata": {
        "id": "IWIzUyoz5cny"
      }
    },
    {
      "cell_type": "code",
      "source": [
        "model_id = \"stabilityai/stable-diffusion-2\""
      ],
      "metadata": {
        "id": "yTquCgHz5drd"
      },
      "execution_count": null,
      "outputs": []
    },
    {
      "cell_type": "markdown",
      "source": [
        "# Create a list of images and put them in proper format/size"
      ],
      "metadata": {
        "id": "8DpKstqx5oIV"
      }
    },
    {
      "cell_type": "code",
      "source": [
        "images = [\n",
        "    \"803c6bf16e1d86b997796ebb8b4b2152.jpg\",\n",
        "    \"a21dcfb4aa17f2b4c0d22ba91549b7db.jpg\",\n",
        "    \"92c537eed971d0111cd63ddf4589d77b.jpg\"\n",
        "    ]"
      ],
      "metadata": {
        "id": "NFJ_Qanv5o3v"
      },
      "execution_count": null,
      "outputs": []
    },
    {
      "cell_type": "code",
      "source": [
        "init_images = [Image.open(image).convert(\"RGB\").resize((768,768)) for image in images]"
      ],
      "metadata": {
        "id": "hNBX2GrI53dj"
      },
      "execution_count": null,
      "outputs": []
    },
    {
      "cell_type": "markdown",
      "source": [
        "# Define prompts with negative prompts.\n",
        "\n",
        "Since we will generate 3 images for this example, we will create a list of 3 images and then a corresponding list of 3 prompts."
      ],
      "metadata": {
        "id": "zTQhGNEk56GS"
      }
    },
    {
      "cell_type": "code",
      "source": [
        "prompts = [\n",
        "    \"construction worker in snowy landscape\",\n",
        "    \"construction worker in dark evening\",\n",
        "    \"construction worker in rain storm\"\n",
        "    ]\n",
        "\n",
        "negative_prompts = [\n",
        "    \"blurry, dark photo, blue\",\n",
        "    \"blurry, dark photo, blue\",\n",
        "    \"blurry, dark photo, blue\"\n",
        "    ]"
      ],
      "metadata": {
        "id": "FxYTAT1T55vj"
      },
      "execution_count": null,
      "outputs": []
    },
    {
      "cell_type": "markdown",
      "source": [
        "# Create scheduler and pipeline"
      ],
      "metadata": {
        "id": "b2Mbt4Nb6G2r"
      }
    },
    {
      "cell_type": "code",
      "source": [
        "device = \"cuda\" if torch.cuda.is_available() else \"cpu\"\n",
        "\n",
        "# Use the Euler scheduler here instead of default\n",
        "scheduler = EulerDiscreteScheduler.from_pretrained(model_id, subfolder=\"scheduler\")\n",
        "\n",
        "pipe = StableDiffusionImg2ImgPipeline.from_pretrained(model_id, scheduler=scheduler, torch_dtype=torch.float16)\n",
        "\n",
        "pipe = pipe.to(device)"
      ],
      "metadata": {
        "id": "wM2wzH-D6Gpx"
      },
      "execution_count": null,
      "outputs": []
    },
    {
      "cell_type": "markdown",
      "source": [
        "# Create dir for storing generated images"
      ],
      "metadata": {
        "id": "QuwZvhCu6P0j"
      }
    },
    {
      "cell_type": "code",
      "source": [
        "DIR_NAME=\"./images/\"\n",
        "dirpath = Path(DIR_NAME)\n",
        "\n",
        "# create parent dir if doesn't exist\n",
        "dirpath.mkdir(parents=True, exist_ok=True)"
      ],
      "metadata": {
        "id": "8dD28uXo6Qgw"
      },
      "execution_count": null,
      "outputs": []
    },
    {
      "cell_type": "markdown",
      "source": [
        "# Define pipeline parameters and generate images based on prompts"
      ],
      "metadata": {
        "id": "wiz6t5IX6Twy"
      }
    },
    {
      "cell_type": "code",
      "source": [
        "steps = 20\n",
        "\n",
        "scale = 9\n",
        "\n",
        "num_images_per_prompt = 1\n",
        "\n",
        "seed = torch.randint(0, 1000000, (1,)).item()\n",
        "\n",
        "generator = torch.Generator(device=device).manual_seed(seed)\n",
        "\n",
        "output = pipe(\n",
        "    prompts, negative_prompt=negative_prompts, image=init_images, num_inference_steps=steps,\n",
        "    guidance_scale=scale, num_images_per_prompt=num_images_per_prompt, generator=generator\n",
        "    )"
      ],
      "metadata": {
        "id": "uMt24nHC6UeB"
      },
      "execution_count": null,
      "outputs": []
    },
    {
      "cell_type": "markdown",
      "source": [
        "# Iterate through and push generated images to images dir"
      ],
      "metadata": {
        "id": "Hr4tFdB360dQ"
      }
    },
    {
      "cell_type": "code",
      "source": [
        "for idx, (image,prompt) in enumerate(zip(output.images, prompts*num_images_per_prompt)):\n",
        "    image_name = f'{slugify(prompt)}-{idx}.png'\n",
        "    image_path = dirpath / image_name\n",
        "    image.save(image_path)"
      ],
      "metadata": {
        "id": "7BOG2eQl616S"
      },
      "execution_count": null,
      "outputs": []
    }
  ]
}
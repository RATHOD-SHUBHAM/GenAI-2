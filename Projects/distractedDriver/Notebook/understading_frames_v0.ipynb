{
  "nbformat": 4,
  "nbformat_minor": 0,
  "metadata": {
    "colab": {
      "provenance": []
    },
    "kernelspec": {
      "name": "python3",
      "display_name": "Python 3"
    },
    "language_info": {
      "name": "python"
    }
  },
  "cells": [
    {
      "cell_type": "markdown",
      "source": [
        "# Install the libraries."
      ],
      "metadata": {
        "id": "DJ9kELw3Zy28"
      }
    },
    {
      "cell_type": "code",
      "execution_count": 1,
      "metadata": {
        "colab": {
          "base_uri": "https://localhost:8080/"
        },
        "id": "xAaVP6bwZKrF",
        "outputId": "4cc5dfc2-c6fd-471f-ff48-046defd1aaa0"
      },
      "outputs": [
        {
          "output_type": "stream",
          "name": "stdout",
          "text": [
            "Collecting openai\n",
            "  Downloading openai-1.25.2-py3-none-any.whl (312 kB)\n",
            "\u001b[2K     \u001b[90m━━━━━━━━━━━━━━━━━━━━━━━━━━━━━━━━━━━━━━━━\u001b[0m \u001b[32m312.9/312.9 kB\u001b[0m \u001b[31m4.8 MB/s\u001b[0m eta \u001b[36m0:00:00\u001b[0m\n",
            "\u001b[?25hRequirement already satisfied: moviepy in /usr/local/lib/python3.10/dist-packages (1.0.3)\n",
            "Requirement already satisfied: opencv-python in /usr/local/lib/python3.10/dist-packages (4.8.0.76)\n",
            "Requirement already satisfied: anyio<5,>=3.5.0 in /usr/local/lib/python3.10/dist-packages (from openai) (3.7.1)\n",
            "Requirement already satisfied: distro<2,>=1.7.0 in /usr/lib/python3/dist-packages (from openai) (1.7.0)\n",
            "Collecting httpx<1,>=0.23.0 (from openai)\n",
            "  Downloading httpx-0.27.0-py3-none-any.whl (75 kB)\n",
            "\u001b[2K     \u001b[90m━━━━━━━━━━━━━━━━━━━━━━━━━━━━━━━━━━━━━━━━\u001b[0m \u001b[32m75.6/75.6 kB\u001b[0m \u001b[31m7.1 MB/s\u001b[0m eta \u001b[36m0:00:00\u001b[0m\n",
            "\u001b[?25hRequirement already satisfied: pydantic<3,>=1.9.0 in /usr/local/lib/python3.10/dist-packages (from openai) (2.7.1)\n",
            "Requirement already satisfied: sniffio in /usr/local/lib/python3.10/dist-packages (from openai) (1.3.1)\n",
            "Requirement already satisfied: tqdm>4 in /usr/local/lib/python3.10/dist-packages (from openai) (4.66.2)\n",
            "Requirement already satisfied: typing-extensions<5,>=4.7 in /usr/local/lib/python3.10/dist-packages (from openai) (4.11.0)\n",
            "Requirement already satisfied: decorator<5.0,>=4.0.2 in /usr/local/lib/python3.10/dist-packages (from moviepy) (4.4.2)\n",
            "Requirement already satisfied: requests<3.0,>=2.8.1 in /usr/local/lib/python3.10/dist-packages (from moviepy) (2.31.0)\n",
            "Requirement already satisfied: proglog<=1.0.0 in /usr/local/lib/python3.10/dist-packages (from moviepy) (0.1.10)\n",
            "Requirement already satisfied: numpy>=1.17.3 in /usr/local/lib/python3.10/dist-packages (from moviepy) (1.25.2)\n",
            "Requirement already satisfied: imageio<3.0,>=2.5 in /usr/local/lib/python3.10/dist-packages (from moviepy) (2.31.6)\n",
            "Requirement already satisfied: imageio-ffmpeg>=0.2.0 in /usr/local/lib/python3.10/dist-packages (from moviepy) (0.4.9)\n",
            "Requirement already satisfied: idna>=2.8 in /usr/local/lib/python3.10/dist-packages (from anyio<5,>=3.5.0->openai) (3.7)\n",
            "Requirement already satisfied: exceptiongroup in /usr/local/lib/python3.10/dist-packages (from anyio<5,>=3.5.0->openai) (1.2.1)\n",
            "Requirement already satisfied: certifi in /usr/local/lib/python3.10/dist-packages (from httpx<1,>=0.23.0->openai) (2024.2.2)\n",
            "Collecting httpcore==1.* (from httpx<1,>=0.23.0->openai)\n",
            "  Downloading httpcore-1.0.5-py3-none-any.whl (77 kB)\n",
            "\u001b[2K     \u001b[90m━━━━━━━━━━━━━━━━━━━━━━━━━━━━━━━━━━━━━━━━\u001b[0m \u001b[32m77.9/77.9 kB\u001b[0m \u001b[31m6.7 MB/s\u001b[0m eta \u001b[36m0:00:00\u001b[0m\n",
            "\u001b[?25hCollecting h11<0.15,>=0.13 (from httpcore==1.*->httpx<1,>=0.23.0->openai)\n",
            "  Downloading h11-0.14.0-py3-none-any.whl (58 kB)\n",
            "\u001b[2K     \u001b[90m━━━━━━━━━━━━━━━━━━━━━━━━━━━━━━━━━━━━━━━━\u001b[0m \u001b[32m58.3/58.3 kB\u001b[0m \u001b[31m4.9 MB/s\u001b[0m eta \u001b[36m0:00:00\u001b[0m\n",
            "\u001b[?25hRequirement already satisfied: pillow<10.1.0,>=8.3.2 in /usr/local/lib/python3.10/dist-packages (from imageio<3.0,>=2.5->moviepy) (9.4.0)\n",
            "Requirement already satisfied: setuptools in /usr/local/lib/python3.10/dist-packages (from imageio-ffmpeg>=0.2.0->moviepy) (67.7.2)\n",
            "Requirement already satisfied: annotated-types>=0.4.0 in /usr/local/lib/python3.10/dist-packages (from pydantic<3,>=1.9.0->openai) (0.6.0)\n",
            "Requirement already satisfied: pydantic-core==2.18.2 in /usr/local/lib/python3.10/dist-packages (from pydantic<3,>=1.9.0->openai) (2.18.2)\n",
            "Requirement already satisfied: charset-normalizer<4,>=2 in /usr/local/lib/python3.10/dist-packages (from requests<3.0,>=2.8.1->moviepy) (3.3.2)\n",
            "Requirement already satisfied: urllib3<3,>=1.21.1 in /usr/local/lib/python3.10/dist-packages (from requests<3.0,>=2.8.1->moviepy) (2.0.7)\n",
            "Installing collected packages: h11, httpcore, httpx, openai\n",
            "Successfully installed h11-0.14.0 httpcore-1.0.5 httpx-0.27.0 openai-1.25.2\n"
          ]
        }
      ],
      "source": [
        "!pip install openai moviepy opencv-python"
      ]
    },
    {
      "cell_type": "markdown",
      "source": [
        "# Load the libraries."
      ],
      "metadata": {
        "id": "5PwDKbIzZ3yK"
      }
    },
    {
      "cell_type": "code",
      "source": [
        "import moviepy.editor as mp\n",
        "import base64\n",
        "from openai import OpenAI\n",
        "import shutil\n",
        "import cv2\n",
        "import os"
      ],
      "metadata": {
        "id": "8V7H1WU5ZSN-"
      },
      "execution_count": 2,
      "outputs": []
    },
    {
      "cell_type": "code",
      "source": [
        "from google.colab import userdata\n",
        "os.environ['OPENAI_API_KEY'] = userdata.get('OPENAI_API_KEY')"
      ],
      "metadata": {
        "id": "KKph7RQXaO9r"
      },
      "execution_count": 4,
      "outputs": []
    },
    {
      "cell_type": "code",
      "source": [
        "client = OpenAI()"
      ],
      "metadata": {
        "id": "QT4Ai-aXaKEv"
      },
      "execution_count": 5,
      "outputs": []
    },
    {
      "cell_type": "markdown",
      "source": [
        "# Calling in the vison model."
      ],
      "metadata": {
        "id": "94x91B9dcJf5"
      }
    },
    {
      "cell_type": "code",
      "source": [
        "def base64_vision(prompt):\n",
        "\n",
        "  response = client.chat.completions.create(\n",
        "      model = \"gpt-4-turbo\",\n",
        "      messages=prompt,\n",
        "      max_tokens = 300,\n",
        "  )\n",
        "\n",
        "  print(response.choices[0].message.content)"
      ],
      "metadata": {
        "id": "gGHBedhsaNMv"
      },
      "execution_count": 7,
      "outputs": []
    },
    {
      "cell_type": "markdown",
      "source": [
        "# Seperating video into individual frames."
      ],
      "metadata": {
        "id": "bZneG_y0cMee"
      }
    },
    {
      "cell_type": "code",
      "source": [
        "def extract_frames(video_path, interval = 1):\n",
        "  # Step 1:  Check if the 'Frames' directory exists, if not - then create it\n",
        "  if os.path.exists('Frames'):\n",
        "    # Delete all files in the Frames directory.\n",
        "    for filename in os.listdir('Frames'):\n",
        "      file_path = os.path.join('Frames', filename)\n",
        "\n",
        "      try:\n",
        "        if os.path.isfile(file_path) or os.path.islink(file_path):\n",
        "          os.unlike(file_path)\n",
        "        elif os.path.isdir(file_path):\n",
        "          shutil.rmtree(file_path)\n",
        "\n",
        "      except Exception as e:\n",
        "        print('Failed to delete %s. Reason: %s' % (file_path, e))\n",
        "\n",
        "  # Open the video file.\n",
        "  video = cv2.VideoCapture(video_path)\n",
        "\n",
        "  # Check if video opened successfully\n",
        "  if not video.isOpened():\n",
        "    print(\"Error opening video file\")\n",
        "    return\n",
        "\n",
        "  # Get the frame rate of the video\n",
        "  fps = video.get(cv2.CAP_PROP_FPS)\n",
        "\n",
        "  # Calculate the frame number to skip\n",
        "  frame_skip = int(fps * interval)\n",
        "\n",
        "  frame_count = 0\n",
        "\n",
        "  while True:\n",
        "    # Read a frame\n",
        "    success, frame = video.read()\n",
        "\n",
        "    # If frame read successfully and its the correct interval\n",
        "    if success and frame_count % frame_skip == 0:\n",
        "      # Save the frame\n",
        "      frame_filename = f'Frames/frame_{frame_count}.jpg'\n",
        "\n",
        "      cv2.imwrite(frame_filename, frame)\n",
        "\n",
        "      # if cv2.waitKey(1) & 0xFF == ord('q'):\n",
        "      #   break\n",
        "\n",
        "      print(f'Saved {frame_filename}')\n",
        "\n",
        "    if not success:\n",
        "      break\n",
        "\n",
        "    # Release the video capture object\n",
        "    video.release()\n",
        "    cv2.destroyAllWindows()"
      ],
      "metadata": {
        "id": "lyKyTgt-b7Yl"
      },
      "execution_count": 8,
      "outputs": []
    },
    {
      "cell_type": "code",
      "source": [
        "def convert_to_base64(image_path):\n",
        "  with open(image_path, 'rb') as image_file:\n",
        "    encoded_string = base64.b64encode(image_file.read()).decode()\n",
        "    return encoded_string"
      ],
      "metadata": {
        "id": "2S_zm4ZDfCUc"
      },
      "execution_count": 9,
      "outputs": []
    },
    {
      "cell_type": "markdown",
      "source": [
        "# Scrapping and transcribing the audio from the video."
      ],
      "metadata": {
        "id": "yEkiftvIfPO3"
      }
    },
    {
      "cell_type": "code",
      "source": [
        "def whisper(audio):\n",
        "  audio_file = open(audio, 'rb')\n",
        "\n",
        "  transcript = client.audio.transcriptions.create(\n",
        "      file = audio_file,\n",
        "      model = 'whisper-1'\n",
        "  )\n",
        "\n",
        "  return transcript.text"
      ],
      "metadata": {
        "id": "RQ-D2ToifNdz"
      },
      "execution_count": 10,
      "outputs": []
    },
    {
      "cell_type": "code",
      "source": [
        "def extract_audio(video_path):\n",
        "  # load the video file\n",
        "  video = mp.VideoFileClip(video_path)\n",
        "\n",
        "  # extract the audio from the video\n",
        "  audio = video.audio\n",
        "\n",
        "  # Save the audio\n",
        "  if not audio:\n",
        "    transcript = \"There is no audio for this video.\"\n",
        "    print(transcript)\n",
        "    return transcript\n",
        "  else:\n",
        "    audio.write_audiofile(\"video_audio.mp3\")\n",
        "    transcript = whisper(\"video_audio.mp3\")\n",
        "    print(f\"Whisper video transcript: {transcript}\")\n",
        "    return transcript"
      ],
      "metadata": {
        "id": "QtD-JYTCfjwL"
      },
      "execution_count": 11,
      "outputs": []
    },
    {
      "cell_type": "markdown",
      "source": [
        "# Running all the file"
      ],
      "metadata": {
        "id": "5upc2IdwglYj"
      }
    },
    {
      "cell_type": "code",
      "source": [
        "def video_GPT():\n",
        "  frames_directory = \"Frames\"\n",
        "  base64frames = []\n",
        "\n",
        "  # check if the directory exists\n",
        "  if not os.path.exists(frames_directory):\n",
        "    os.makedirs(frames_directory)\n",
        "    print(f\"Created {frames_directory} Directory. \")\n",
        "  else:\n",
        "    # Clear all the files in the directory\n",
        "    for filename in os.listdir(frames_directory):\n",
        "      file_path = os.path.join(frames_directory, filename)\n",
        "\n",
        "      if os.path.isfile(file_path):\n",
        "        os.remove(file_path)\n",
        "\n",
        "  video_path = '/content/test.mp4'\n",
        "  # video_path = 0\n",
        "  extract_frames(video_path, interval = 0.5)\n",
        "  transcript = extract_audio(video_path)\n",
        "\n",
        "  for filename in sorted(os.listdir(frames_directory)):\n",
        "    file_path = os.path.join(frames_directory, filename)\n",
        "\n",
        "    if os.path.isfile(file_path):\n",
        "      encoded_image = convert_to_base64(file_path)\n",
        "      base64frames.append(encoded_image)\n",
        "\n",
        "  prompt = [\n",
        "      {\n",
        "          \"role\": \"user\",\n",
        "          \"content\":[\n",
        "              f\"Explain what is happening in this sequence of frames, and do it concisely.\"\n",
        "              f\"Here is the transcript of the video audio in case that helps you:{transcript}\",\n",
        "              *map(lambda x: {\"image\": x, \"resize\": 480},\n",
        "                   base64frames),\n",
        "          ],\n",
        "      },\n",
        "  ]\n",
        "  base64_vision(prompt)"
      ],
      "metadata": {
        "id": "j33BywJPgk1_"
      },
      "execution_count": 23,
      "outputs": []
    },
    {
      "cell_type": "code",
      "source": [
        "if __name__ == '__main__':\n",
        "  video_GPT()"
      ],
      "metadata": {
        "colab": {
          "base_uri": "https://localhost:8080/"
        },
        "id": "mEKsyoGlgHpO",
        "outputId": "11dd2be3-a4f6-4c16-a204-577311338026"
      },
      "execution_count": 24,
      "outputs": [
        {
          "output_type": "stream",
          "name": "stdout",
          "text": [
            "Saved Frames/frame_0.jpg\n",
            "MoviePy - Writing audio in video_audio.mp3\n"
          ]
        },
        {
          "output_type": "stream",
          "name": "stderr",
          "text": []
        },
        {
          "output_type": "stream",
          "name": "stdout",
          "text": [
            "MoviePy - Done.\n",
            "Whisper video transcript: Oh wait, let's start again, let's start again, right, so I've been practicing and me and Pablo are going to have a race, why are you so focused, we'll go on three, one, two, three. That's marvellous, go, eat it, you ate mine and the last piece.\n",
            "In this sequence of frames, a man and his bulldog, named Pablo, are preparing to have a fun eating race with slices of food laid out in a line on the floor. The man, clearly engaged in a playful activity, is setting a light-hearted and competitive tone. He counts to three to start the race, during which they will attempt to eat the food slices more quickly than the other. The scene captures a comedic and enjoyable moment between an owner and his pet, emphasizing their bond and the light-hearted competition. The caption \"The owner stood no chance\" humorously suggests that the bulldog was perhaps much quicker or more eager in consuming the food, outpacing the owner.\n"
          ]
        }
      ]
    },
    {
      "cell_type": "code",
      "source": [],
      "metadata": {
        "id": "yuLaH3atjKsC"
      },
      "execution_count": null,
      "outputs": []
    }
  ]
}
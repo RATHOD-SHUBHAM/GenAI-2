{
 "cells": [
  {
   "cell_type": "code",
   "execution_count": 1,
   "id": "dbf80e55-c097-45a2-9fb3-023b78bb721d",
   "metadata": {},
   "outputs": [
    {
     "name": "stdout",
     "output_type": "stream",
     "text": [
      "\u001b[33mWARNING: Running pip as the 'root' user can result in broken permissions and conflicting behaviour with the system package manager. It is recommended to use a virtual environment instead: https://pip.pypa.io/warnings/venv\u001b[0m\u001b[33m\n",
      "\u001b[0m\n",
      "\u001b[1m[\u001b[0m\u001b[34;49mnotice\u001b[0m\u001b[1;39;49m]\u001b[0m\u001b[39;49m A new release of pip is available: \u001b[0m\u001b[31;49m23.3.1\u001b[0m\u001b[39;49m -> \u001b[0m\u001b[32;49m24.0\u001b[0m\n",
      "\u001b[1m[\u001b[0m\u001b[34;49mnotice\u001b[0m\u001b[1;39;49m]\u001b[0m\u001b[39;49m To update, run: \u001b[0m\u001b[32;49mpython -m pip install --upgrade pip\u001b[0m\n"
     ]
    }
   ],
   "source": [
    "!pip install -q datasets"
   ]
  },
  {
   "cell_type": "markdown",
   "id": "28795bdd-9785-4c3b-8d76-68a78bf8d388",
   "metadata": {},
   "source": [
    "# Import Libraries"
   ]
  },
  {
   "cell_type": "code",
   "execution_count": 2,
   "id": "35ac3a6d-85e1-4ffd-875d-272c69490979",
   "metadata": {},
   "outputs": [],
   "source": [
    "from datasets import load_dataset\n",
    "import re"
   ]
  },
  {
   "cell_type": "markdown",
   "id": "a6a90435-d646-4021-b0f2-d58909887196",
   "metadata": {},
   "source": [
    "# Load dataset"
   ]
  },
  {
   "cell_type": "code",
   "execution_count": 3,
   "id": "21739233-6ad9-4a20-8b8e-31bfa815cadc",
   "metadata": {},
   "outputs": [
    {
     "data": {
      "application/vnd.jupyter.widget-view+json": {
       "model_id": "46db59351f6e4591a6a34b1e5ac65777",
       "version_major": 2,
       "version_minor": 0
      },
      "text/plain": [
       "Downloading readme:   0%|          | 0.00/395 [00:00<?, ?B/s]"
      ]
     },
     "metadata": {},
     "output_type": "display_data"
    },
    {
     "name": "stderr",
     "output_type": "stream",
     "text": [
      "Repo card metadata block was not found. Setting CardData to empty.\n"
     ]
    },
    {
     "data": {
      "application/vnd.jupyter.widget-view+json": {
       "model_id": "222b1bc26eb543d7aa0e3013f56f62d7",
       "version_major": 2,
       "version_minor": 0
      },
      "text/plain": [
       "Downloading data:   0%|          | 0.00/20.9M [00:00<?, ?B/s]"
      ]
     },
     "metadata": {},
     "output_type": "display_data"
    },
    {
     "data": {
      "application/vnd.jupyter.widget-view+json": {
       "model_id": "5e433d0858844498b42eb07d1163a36e",
       "version_major": 2,
       "version_minor": 0
      },
      "text/plain": [
       "Downloading data:   0%|          | 0.00/1.11M [00:00<?, ?B/s]"
      ]
     },
     "metadata": {},
     "output_type": "display_data"
    },
    {
     "data": {
      "application/vnd.jupyter.widget-view+json": {
       "model_id": "22ff688157c747ec9bd01091ce122c37",
       "version_major": 2,
       "version_minor": 0
      },
      "text/plain": [
       "Generating train split:   0%|          | 0/9846 [00:00<?, ? examples/s]"
      ]
     },
     "metadata": {},
     "output_type": "display_data"
    },
    {
     "data": {
      "application/vnd.jupyter.widget-view+json": {
       "model_id": "a3f0e5640a31490999dec88eb630908d",
       "version_major": 2,
       "version_minor": 0
      },
      "text/plain": [
       "Generating test split:   0%|          | 0/518 [00:00<?, ? examples/s]"
      ]
     },
     "metadata": {},
     "output_type": "display_data"
    }
   ],
   "source": [
    "dataset = load_dataset('timdettmers/openassistant-guanaco')"
   ]
  },
  {
   "cell_type": "code",
   "execution_count": 4,
   "id": "11677f9f-d790-4fd9-b025-6ebdd954a087",
   "metadata": {},
   "outputs": [],
   "source": [
    "# Shuffle the dataset and slice it\n",
    "dataset = dataset['train'].shuffle(seed=42).select(range(1000))"
   ]
  },
  {
   "cell_type": "code",
   "execution_count": 5,
   "id": "9b247d0e-494d-4bec-a108-4686848d685b",
   "metadata": {},
   "outputs": [
    {
     "name": "stdout",
     "output_type": "stream",
     "text": [
      "Dataset({\n",
      "    features: ['text'],\n",
      "    num_rows: 1000\n",
      "})\n"
     ]
    }
   ],
   "source": [
    "print(dataset)"
   ]
  },
  {
   "cell_type": "code",
   "execution_count": 7,
   "id": "2cc4f12b-92c9-42db-9dff-8ce28a5d8a49",
   "metadata": {},
   "outputs": [
    {
     "name": "stdout",
     "output_type": "stream",
     "text": [
      "{'text': '### Human: Me gradué hace poco de la carrera de medicina ¿Me podrías aconsejar para conseguir rápidamente un puesto de trabajo?### Assistant: Esto vale tanto para médicos como para cualquier otra profesión tras finalizar los estudios aniversarios y mi consejo sería preguntar a cuántas personas haya conocido mejor. En este caso, mi primera opción sería hablar con otros profesionales médicos, echar currículos en hospitales y cualquier centro de salud. En paralelo, trabajaría por mejorar mi marca personal como médico mediante un blog o formas digitales de comunicación como los vídeos. Y, para mejorar las posibilidades de encontrar trabajo, también participaría en congresos y encuentros para conseguir más contactos. Y, además de todo lo anterior, seguiría estudiando para presentarme a las oposiciones y ejercer la medicina en el sector público de mi país.'}\n",
      "{'text': '### Human: Самый великий человек из всех живших на планете?### Assistant: Для начала нужно выбрать критерии величия человека. Обычно великим называют человека, который внес большой вклад в общество или сильно выделялся на фоне других в своем деле.\\n\\nНапример, Иосифа Бродского считают великим поэтом, а Иммануила Канта — великим философом. Александр Македонский, известный тем, что собрал в свои владения огромную империю (включавшую Македонию, Грецию, Персию, Египет), в историографии носит имя Александр Великий. Для христиан, скорее всего, самым великим человеком жившим на земле был Иисус Христос, так как он совершил множество благих деяний и совершил подвиг ради человечества. \\n\\nПри этом, когда мы выдвигаем одну личность на роль великого человека, сразу же находится множество людей, не согласных с этим. Того же Иосифа Бродского, хоть он и получил престижную Нобелевскую премию, некоторые люди считают графоманом и посредственным поэтом. \\n\\nВ целом, кого считать великим — это самостоятельный выбор каждого человека, который можно сделать только соотнося его со своими личными ценностями и представлениями о красивом, правильном, хорошем.### Human: А кого бы Бродский и Кант могли назвать самым великим человеком?\\nА философом?'}\n",
      "{'text': '### Human: Compose a professional email with the following points:\\n\\nMe chinese cook 10 years\\nGood good cook\\nPeople love my food\\nCan you hire me?### Assistant: Thanks for the information. Unfortunately, your initial message does not contain enough details or structure to compose a compelling professional email to a potential employer. Here are some suggestions for how we can improve the message:\\n\\n1) Let\\'s first clarify the type of cooking position you are interested in. Are you looking for a job as a line cook, sous chef, executive chef, or something else? This will help determine how to emphasize relevant experience and skills.\\n\\n2) What specific experience do you have? For example, \"Over 10 years of experience preparing authentic Sichuan and Cantonese cuisine.\" Highlight any relevant skills, like knife skills, cooking techniques, menu development, etc. Mention the types of cuisine you specialize in.\\n\\n3) Have you worked in a professional kitchen before? If so, mention the name and type of restaurant (upscale, casual dining, etc.). Emphasize relevant responsibilities and accomplishments. If not, that\\'s fine too, just be clear that you\\'re looking to transition into a professional kitchen and highlight related skills and passion for cooking.\\n\\n4) Do you have any certifications or training? Note any culinary degrees, certificates, or other credentials. Even informal training can show your dedication to the craft.\\n\\n5) Are you looking for full-time, part-time, temporary, or contract work? Be specific about the type of opportunity you\\'re seeking.\\n\\nWith the answers to these questions, we can craft an email in a standard business letter format. The opening can express your interest in the position and summarize your relevant experience and qualifications. The body can go into more depth on your experience, skills, and goals. The closing can reiterate your interest and mention that you\\'d welcome the opportunity to further discuss the role.\\n\\nDoes this help? Let me know if you would like help crafting the full email. I\\'m happy to assist you in composing a professional and compelling message to potential employers.### Human: My car is a Mazda 3 Hatchback 2015 2.2 litre Diesel SkyActiv-D 150 Sport Nav (LP64 YBY) with a 6-speed manual transmission. I’m screwed right now. Really need help. I rely on my car to feed my family… but it has a supposedly faulty EGR valve which is a false flag aka an electronic issue (diagnosed by mechanic). It’s Causing engine warning light and going on lim mode. I clear the errors with OBD Scanner and they come back within a day. \\n\\nConcisely, How can I manually delete the EGR valve from the system? I really can’t afford to have the electric engineer do it. This is 100% legal where I am, as the valve is fine and my Mazda 3 passed the MOT with flying colours. There has to be some sort of device I could delete it with?'}\n"
     ]
    }
   ],
   "source": [
    "for i in range(3):\n",
    "    print(dataset[i])"
   ]
  },
  {
   "cell_type": "code",
   "execution_count": 15,
   "id": "46cab215-0cf4-480a-8fbe-3900b529bd0a",
   "metadata": {},
   "outputs": [],
   "source": [
    "# Define a function to transform the data\n",
    "def transform_conversation(example):\n",
    "    conversation_text = example['text']\n",
    "    segments = conversation_text.split(\"###\")\n",
    "    # print(\"segments: \", segments)\n",
    "\n",
    "    reformatted_segments = []\n",
    "\n",
    "    # Iterate over pairs of segments\n",
    "    for i in range(1, len(segments) - 1, 2):\n",
    "        human_text = segments[i].strip().replace('Human:', '').strip()\n",
    "        # print(\"Human text: \",human_text)\n",
    "\n",
    "        # Check if there is a corresponding assistant segment before processing\n",
    "        if i + 1 < len(segments):\n",
    "            assistant_text = segments[i+1].strip().replace('Assistant:', '').strip()\n",
    "            # print(\"assistant_text: \", assistant_text)\n",
    "\n",
    "            # Apply the new template\n",
    "            reformatted_segments.append(f'<s>[INST] {human_text} [/INST] {assistant_text} </s>')\n",
    "        else:\n",
    "            # Handle the case where there is no corresponding assistant segment\n",
    "            reformatted_segments.append(f'<s>[INST] {human_text} [/INST]</s>')\n",
    "        \n",
    "            \n",
    "    return {'text': ''.join(reformatted_segments)}"
   ]
  },
  {
   "cell_type": "code",
   "execution_count": 16,
   "id": "ea00cea3-7570-4d02-8d3b-b6c8243bce78",
   "metadata": {},
   "outputs": [
    {
     "data": {
      "application/vnd.jupyter.widget-view+json": {
       "model_id": "915988a53bba4d1e8e6a2fec77a5fe2b",
       "version_major": 2,
       "version_minor": 0
      },
      "text/plain": [
       "Map:   0%|          | 0/1000 [00:00<?, ? examples/s]"
      ]
     },
     "metadata": {},
     "output_type": "display_data"
    }
   ],
   "source": [
    "# Apply the transformation\n",
    "transformed_dataset = dataset.map(transform_conversation)"
   ]
  },
  {
   "cell_type": "code",
   "execution_count": 17,
   "id": "16772f03-b845-4979-817a-f49332292e83",
   "metadata": {},
   "outputs": [
    {
     "data": {
      "text/plain": [
       "Dataset({\n",
       "    features: ['text'],\n",
       "    num_rows: 1000\n",
       "})"
      ]
     },
     "execution_count": 17,
     "metadata": {},
     "output_type": "execute_result"
    }
   ],
   "source": [
    "transformed_dataset"
   ]
  },
  {
   "cell_type": "code",
   "execution_count": 19,
   "id": "66db12d6-01fd-401d-988d-67ae686b90f9",
   "metadata": {},
   "outputs": [
    {
     "name": "stdout",
     "output_type": "stream",
     "text": [
      "{'text': '<s>[INST] Me gradué hace poco de la carrera de medicina ¿Me podrías aconsejar para conseguir rápidamente un puesto de trabajo? [/INST] Esto vale tanto para médicos como para cualquier otra profesión tras finalizar los estudios aniversarios y mi consejo sería preguntar a cuántas personas haya conocido mejor. En este caso, mi primera opción sería hablar con otros profesionales médicos, echar currículos en hospitales y cualquier centro de salud. En paralelo, trabajaría por mejorar mi marca personal como médico mediante un blog o formas digitales de comunicación como los vídeos. Y, para mejorar las posibilidades de encontrar trabajo, también participaría en congresos y encuentros para conseguir más contactos. Y, además de todo lo anterior, seguiría estudiando para presentarme a las oposiciones y ejercer la medicina en el sector público de mi país. </s>'}\n",
      "{'text': '<s>[INST] Самый великий человек из всех живших на планете? [/INST] Для начала нужно выбрать критерии величия человека. Обычно великим называют человека, который внес большой вклад в общество или сильно выделялся на фоне других в своем деле.\\n\\nНапример, Иосифа Бродского считают великим поэтом, а Иммануила Канта — великим философом. Александр Македонский, известный тем, что собрал в свои владения огромную империю (включавшую Македонию, Грецию, Персию, Египет), в историографии носит имя Александр Великий. Для христиан, скорее всего, самым великим человеком жившим на земле был Иисус Христос, так как он совершил множество благих деяний и совершил подвиг ради человечества. \\n\\nПри этом, когда мы выдвигаем одну личность на роль великого человека, сразу же находится множество людей, не согласных с этим. Того же Иосифа Бродского, хоть он и получил престижную Нобелевскую премию, некоторые люди считают графоманом и посредственным поэтом. \\n\\nВ целом, кого считать великим — это самостоятельный выбор каждого человека, который можно сделать только соотнося его со своими личными ценностями и представлениями о красивом, правильном, хорошем. </s>'}\n",
      "{'text': '<s>[INST] Compose a professional email with the following points:\\n\\nMe chinese cook 10 years\\nGood good cook\\nPeople love my food\\nCan you hire me? [/INST] Thanks for the information. Unfortunately, your initial message does not contain enough details or structure to compose a compelling professional email to a potential employer. Here are some suggestions for how we can improve the message:\\n\\n1) Let\\'s first clarify the type of cooking position you are interested in. Are you looking for a job as a line cook, sous chef, executive chef, or something else? This will help determine how to emphasize relevant experience and skills.\\n\\n2) What specific experience do you have? For example, \"Over 10 years of experience preparing authentic Sichuan and Cantonese cuisine.\" Highlight any relevant skills, like knife skills, cooking techniques, menu development, etc. Mention the types of cuisine you specialize in.\\n\\n3) Have you worked in a professional kitchen before? If so, mention the name and type of restaurant (upscale, casual dining, etc.). Emphasize relevant responsibilities and accomplishments. If not, that\\'s fine too, just be clear that you\\'re looking to transition into a professional kitchen and highlight related skills and passion for cooking.\\n\\n4) Do you have any certifications or training? Note any culinary degrees, certificates, or other credentials. Even informal training can show your dedication to the craft.\\n\\n5) Are you looking for full-time, part-time, temporary, or contract work? Be specific about the type of opportunity you\\'re seeking.\\n\\nWith the answers to these questions, we can craft an email in a standard business letter format. The opening can express your interest in the position and summarize your relevant experience and qualifications. The body can go into more depth on your experience, skills, and goals. The closing can reiterate your interest and mention that you\\'d welcome the opportunity to further discuss the role.\\n\\nDoes this help? Let me know if you would like help crafting the full email. I\\'m happy to assist you in composing a professional and compelling message to potential employers. </s>'}\n",
      "{'text': '<s>[INST] ¿Qué juegos me recomendarías si me ha gustado Undertale? [/INST] Deltarune: Este es un juego creado por el mismo desarrollador de Undertale, Toby Fox. Al igual que Undertale, Deltarune combina elementos de RPG con una historia divertida y personajes memorables.\\n\\nEarthBound: Este es un juego clásico de RPG que se ha convertido en un cult classic en todo el mundo. Al igual que Undertale, EarthBound combina elementos de comedia y drama en una historia única y memorable.\\n\\nHollow Knight: Este es un juego de aventura y metroidvania que cuenta con un mundo oscuro y misterioso, así como personajes interesantes y una banda sonora memorable.\\n\\nHyper Light Drifter: Este es un juego de aventura y acción que cuenta con un mundo hermoso y misterioso, así como combates desafiantes y una banda sonora impactante.\\n\\nOri and the Blind Forest: Este es un juego de aventura y plataformas que cuenta con un mundo hermoso y una historia conmovedora.\\n\\nEstos son solo algunos ejemplos de juegos similares a Undertale. Cualquiera de estos juegos podría ser una buena opción para aquellos que disfrutaron de Undertale y buscan algo similar. </s><s>[INST] EarthBound suena divertido, puedes contarme más sobre su historia [/INST] \"EarthBound\" es un juego de rol clásico de la consola Super Nintendo Entertainment System (SNES) que fue desarrollado y publicado por Nintendo en 1995. La historia del juego sigue a un joven llamado Ness y a sus amigos en un viaje épico para salvar el mundo.\\n\\nEl juego comienza en la ciudad de Onett, donde Ness es despertado por un extraño sueño. Después de investigar, descubre que un asteroide ha caído cerca de su casa y decide investigar. Allí, Ness encuentra a un extraterrestre llamado Buzz Buzz que le da la misión de salvar el mundo de un ser maligno llamado Giygas.\\n\\nA lo largo del juego, Ness viaja por todo el mundo, luchando contra enemigos y haciendo amigos con otros personajes. Algunos de sus compañeros de aventura incluyen a Paula, una telepata, y Jeff, un inventor prodigio. Juntos, deben enfrentarse a una serie de desafíos y desafiantes jefes finales para cumplir su misión y salvar al mundo.\\n\\n\"EarthBound\" se destaca por su estilo único, que combina elementos de juegos de rol clásicos con una ambientación surreal y humorística. También es conocido por su banda sonora inolvidable y sus personajes carismáticos. Aunque el juego no fue un gran éxito en su lanzamiento, ha ganado un culto de seguidores a lo largo de los años y es considerado por muchos como un clásico de los juegos de rol. </s>'}\n",
      "{'text': '<s>[INST] Cual es el desarrollo motor de niño/a de 0 a 6 años [/INST] El desarrollo motor de un niño/a de 0 a 6 años puede ser dividido en varios hitos importantes, que suceden en un orden predecible pero que pueden variar en el tiempo que tardan en alcanzarse. Algunos de estos hitos incluyen:\\n\\nDesde el nacimiento hasta los 3 meses: Los bebés tienen movimientos reflejos y pueden levantar la cabeza brevemente cuando están boca abajo. Comienzan a seguir objetos con la mirada y pueden empezar a sostener objetos con las manos.\\nDe 3 a 6 meses: Los bebés empiezan a rodar de lado a lado y a sentarse con apoyo. También pueden empezar a gatear y a hacer movimientos más coordinados con las manos.\\nDe 6 a 9 meses: Los bebés empiezan a sentarse sin apoyo y pueden comenzar a gatear hacia adelante. También pueden sostener objetos con la mano y pueden empezar a transferir objetos de una mano a otra.\\nDe 9 a 12 meses: Los bebés pueden empezar a caminar con apoyo y a levantarse sin ayuda. También pueden empezar a gatear hacia atrás y a gatear en posición cuadrúpeda. Además, pueden comenzar a utilizar la pincer grip (utilizando el dedo índice y el pulgar) para agarrar objetos.\\nDe 1 a 2 años: Los niños/as pueden caminar sin ayuda y empezar a correr y saltar. También pueden empezar a subir escaleras, utilizando ambos pies para subir un escalón a la vez. Además, pueden empezar a usar utensilios para comer y a realizar dibujos más precisos con un lápiz o crayón.\\nDe 2 a 3 años: Los niños/as pueden subir escaleras utilizando un pie por escalón. También pueden empezar a pedalear en una bicicleta y saltar en un pie. Además, pueden empezar a vestirse y desvestirse solos, y a construir torres y estructuras simples con bloques.\\nDe 3 a 6 años: Los niños/as pueden saltar y correr con mayor coordinación y equilibrio, y pueden comenzar a realizar actividades físicas más complejas como nadar y jugar a juegos deportivos. También pueden comenzar a escribir y dibujar letras y números, y a realizar tareas más complejas como cortar con tijeras y manipular pequeños objetos.\\nEs importante tener en cuenta que estos hitos son solo una guía general y que cada niño/a se desarrolla a su propio ritmo. Algunos niños/as pueden alcanzar estos hitos más temprano o más tarde que otros, y eso es normal. Si tienes alguna preocupación sobre el desarrollo motor de tu hijo/a, siempre es recomendable hablar con un médico o especialista en desarrollo infantil. </s><s>[INST] Y el desarrollo del habla? [/INST] El desarrollo del habla en un niño o niña ocurre de manera progresiva y gradual, y puede variar en cada niño/a. A continuación, se presenta un resumen del desarrollo del habla en diferentes etapas:\\n\\n- De 0 a 6 meses: El bebé emite sonidos y vocalizaciones, como gorjeos, risas, llantos y gritos. Alrededor de los 4 meses, comienza a balbucear y a producir sonidos con mayor variedad de consonantes y vocales, como \"bababa\" o \"papapa\".\\n- De 6 a 12 meses: El bebé comienza a imitar los sonidos que escucha, y puede intentar decir algunas palabras simples como \"mamá\" o \"papá\". También puede usar gestos, como señalar objetos o levantar los brazos para que lo levanten.\\n- De 1 a 2 años: El niño o niña comienza a combinar palabras para formar frases simples, como \"más leche\" o \"quiero juguete\". A esta edad, el habla aún puede ser difícil de entender para personas que no están familiarizadas con el niño/a.\\n- De 2 a 3 años: El niño/a amplía su vocabulario y su capacidad para formar oraciones más complejas. También comienza a hacer preguntas, a utilizar pronombres y a emplear el plural. A esta edad, el habla se vuelve más clara y comprensible para las personas que no conviven diariamente con el niño/a.\\n- De 3 a 4 años: El niño/a comienza a utilizar frases más complejas y a contar historias con cierta coherencia. También es capaz de seguir instrucciones más detalladas y de responder a preguntas que requieren más reflexión.\\n- De 4 a 6 años: El niño/a sigue ampliando su vocabulario y su capacidad para formular oraciones complejas. También comienza a leer y escribir, lo que contribuye a su desarrollo lingüístico en general. A esta edad, el habla es fluida y bien estructurada.\\n\\nEs importante tener en cuenta que el desarrollo del habla y el lenguaje puede variar entre los niños y niñas, y que algunos pueden requerir ayuda adicional en caso de presentar retrasos o dificultades en su desarrollo. En caso de preocupación, se recomienda consultar a un especialista en el área de la salud infantil. </s>'}\n"
     ]
    }
   ],
   "source": [
    "for i in range(5):\n",
    "    print(transformed_dataset[i])"
   ]
  },
  {
   "cell_type": "markdown",
   "id": "d77b9646-949d-42c5-93ab-663e754a2871",
   "metadata": {},
   "source": [
    "# Push to hugging face"
   ]
  },
  {
   "cell_type": "code",
   "execution_count": null,
   "id": "bbbcaa02-839e-4697-b349-9ba5c89f830f",
   "metadata": {},
   "outputs": [],
   "source": [
    "# transformed_dataset.push_to_hub(\"guanaco-llama2-1k\")"
   ]
  }
 ],
 "metadata": {
  "kernelspec": {
   "display_name": "Python 3 (ipykernel)",
   "language": "python",
   "name": "python3"
  },
  "language_info": {
   "codemirror_mode": {
    "name": "ipython",
    "version": 3
   },
   "file_extension": ".py",
   "mimetype": "text/x-python",
   "name": "python",
   "nbconvert_exporter": "python",
   "pygments_lexer": "ipython3",
   "version": "3.10.12"
  }
 },
 "nbformat": 4,
 "nbformat_minor": 5
}

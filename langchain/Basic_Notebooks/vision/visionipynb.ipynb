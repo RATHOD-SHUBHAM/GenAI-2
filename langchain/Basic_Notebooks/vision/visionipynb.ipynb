{
  "nbformat": 4,
  "nbformat_minor": 0,
  "metadata": {
    "colab": {
      "provenance": []
    },
    "kernelspec": {
      "name": "python3",
      "display_name": "Python 3"
    },
    "language_info": {
      "name": "python"
    }
  },
  "cells": [
    {
      "cell_type": "code",
      "execution_count": null,
      "metadata": {
        "colab": {
          "base_uri": "https://localhost:8080/"
        },
        "id": "OkeNovfpDzf2",
        "outputId": "b6a444c9-b3e1-4f67-fdce-bc692ec74188"
      },
      "outputs": [
        {
          "output_type": "stream",
          "name": "stdout",
          "text": [
            "\u001b[2K     \u001b[90m━━━━━━━━━━━━━━━━━━━━━━━━━━━━━━━━━━━━━━━━\u001b[0m \u001b[32m227.4/227.4 kB\u001b[0m \u001b[31m2.3 MB/s\u001b[0m eta \u001b[36m0:00:00\u001b[0m\n",
            "\u001b[2K     \u001b[90m━━━━━━━━━━━━━━━━━━━━━━━━━━━━━━━━━━━━━━━━\u001b[0m \u001b[32m75.6/75.6 kB\u001b[0m \u001b[31m5.7 MB/s\u001b[0m eta \u001b[36m0:00:00\u001b[0m\n",
            "\u001b[2K     \u001b[90m━━━━━━━━━━━━━━━━━━━━━━━━━━━━━━━━━━━━━━━━\u001b[0m \u001b[32m77.8/77.8 kB\u001b[0m \u001b[31m6.2 MB/s\u001b[0m eta \u001b[36m0:00:00\u001b[0m\n",
            "\u001b[2K     \u001b[90m━━━━━━━━━━━━━━━━━━━━━━━━━━━━━━━━━━━━━━━━\u001b[0m \u001b[32m58.3/58.3 kB\u001b[0m \u001b[31m3.4 MB/s\u001b[0m eta \u001b[36m0:00:00\u001b[0m\n",
            "\u001b[?25h"
          ]
        }
      ],
      "source": [
        "!pip install --quiet openai"
      ]
    },
    {
      "cell_type": "markdown",
      "source": [
        "# 1. Prompting."
      ],
      "metadata": {
        "id": "7MsUCmq1EGd5"
      }
    },
    {
      "cell_type": "code",
      "source": [
        "from openai import OpenAI\n",
        "import base64\n",
        "import os\n",
        "from google.colab import userdata"
      ],
      "metadata": {
        "id": "yobGxCFeD8_u"
      },
      "execution_count": null,
      "outputs": []
    },
    {
      "cell_type": "code",
      "source": [
        "os.environ['OPENAI_API_KEY'] = userdata.get('OPENAI_API_KEY')"
      ],
      "metadata": {
        "id": "bb2TPEpEEamF"
      },
      "execution_count": null,
      "outputs": []
    },
    {
      "cell_type": "code",
      "source": [
        "def encode_image(image_path):\n",
        "  with open(image_path, \"rb\") as f:\n",
        "    return base64.b64encode(f.read()).decode('utf-8')"
      ],
      "metadata": {
        "id": "tgt8cm49EtA0"
      },
      "execution_count": null,
      "outputs": []
    },
    {
      "cell_type": "code",
      "source": [
        "# system_prompt = \"\"\"\n",
        "# You are an extremely knowledgeable Image Analyst Assistant.\n",
        "# Your expertise includes analyzing and understanding every detail of the provided image and responding accurately to user questions.\n",
        "# Before responding to a user's question, perform a step-by-step analysis of your thoughts.\n",
        "# Your task is to fully explain and correctly answer the user question, as well as present your analysis in a clear, well-structured markdown format. Highlight the final answer based on your reasoning.\n",
        "# \"\"\""
      ],
      "metadata": {
        "id": "07M2ZXnKE_lK"
      },
      "execution_count": null,
      "outputs": []
    },
    {
      "cell_type": "code",
      "source": [
        "system_prompt = \"\"\"\n",
        "You are an extremely knowledgeable Image Analyst Assistant.\n",
        "Your expertise includes analyzing and understanding every detail of the provided image and responding accurately to user questions.\n",
        "\n",
        "Task:\n",
        "Your task is to examine the following image in detail.\n",
        "Provide a comprehensive, factual, and accurate explanation of what the image depicts.\n",
        "Correctly answer the user question.\n",
        "\"\"\""
      ],
      "metadata": {
        "id": "cA_3epPoNYpZ"
      },
      "execution_count": null,
      "outputs": []
    },
    {
      "cell_type": "code",
      "source": [
        "human_query = 'its saturday morning 7am, can i park my car here'\n",
        "human_prompt = f\"\"\"\n",
        "The user question is:\n",
        "question: {human_query}\n",
        "\"\"\""
      ],
      "metadata": {
        "id": "M4vzljt8I5GC"
      },
      "execution_count": null,
      "outputs": []
    },
    {
      "cell_type": "code",
      "source": [
        "prompt = system_prompt + human_prompt"
      ],
      "metadata": {
        "id": "iBWLGx1OJNzw"
      },
      "execution_count": null,
      "outputs": []
    },
    {
      "cell_type": "code",
      "source": [
        "# prompt"
      ],
      "metadata": {
        "id": "wgZ6mlSfJXZg"
      },
      "execution_count": null,
      "outputs": []
    },
    {
      "cell_type": "code",
      "source": [
        "image_path = '/content/img1.jpg'\n",
        "base64_image = encode_image(image_path)"
      ],
      "metadata": {
        "id": "JRVVDUQzLShV"
      },
      "execution_count": null,
      "outputs": []
    },
    {
      "cell_type": "code",
      "source": [
        "client = OpenAI()\n",
        "model=\"gpt-4-vision-preview\"\n",
        "max_tokens=1200"
      ],
      "metadata": {
        "id": "KDoUzUGjLzNB"
      },
      "execution_count": null,
      "outputs": []
    },
    {
      "cell_type": "code",
      "source": [
        "messages = [\n",
        "    {\n",
        "        \"role\" : \"user\",\n",
        "        \"content\":[\n",
        "            {'type' : 'text',\n",
        "             \"text\" : f'{prompt}'},\n",
        "            {\n",
        "                \"type\" : \"image_url\",\n",
        "                \"image_url\" : f\"data:image/jpeg;base64,{base64_image}\"\n",
        "            }\n",
        "        ]\n",
        "    }\n",
        "]"
      ],
      "metadata": {
        "id": "8pv8nbWRJa8X"
      },
      "execution_count": null,
      "outputs": []
    },
    {
      "cell_type": "code",
      "source": [
        "response = client.chat.completions.create(\n",
        "    model=model,\n",
        "    messages=messages,\n",
        "    max_tokens=max_tokens\n",
        ")"
      ],
      "metadata": {
        "id": "4FK2vEghMAH7"
      },
      "execution_count": null,
      "outputs": []
    },
    {
      "cell_type": "code",
      "source": [
        "# response"
      ],
      "metadata": {
        "id": "eDmlIcySMZD8"
      },
      "execution_count": null,
      "outputs": []
    },
    {
      "cell_type": "code",
      "source": [
        "print(response.choices[0].message.content)"
      ],
      "metadata": {
        "colab": {
          "base_uri": "https://localhost:8080/"
        },
        "id": "bQX_sNb9MnJk",
        "outputId": "bda325f1-b3e7-4267-beac-c5f428d52f4a"
      },
      "execution_count": null,
      "outputs": [
        {
          "output_type": "stream",
          "name": "stdout",
          "text": [
            "The image displays a collection of parking regulation signs mounted on a pole. These signs provide various parking instructions and time frames applicable for that particular area.\n",
            "\n",
            "The top sign is red and indicates \"NO STOPPING\" from \"7 AM to 9 AM\" and \"4 PM to 6 PM\", with an exception for \"EXCEPT SATURDAY & SUNDAY\". Since the user question refers to parking at 7 AM on a Saturday morning, this restriction does not apply, and the user should be allowed to stop or park during that time on a Saturday.\n",
            "\n",
            "Below the red sign is a green sign indicating \"2 HOUR PARKING\" with different rules for Monday to Friday and for Saturday. For Saturday, it allows 2-hour parking from \"8 AM to 8 PM\". This suggests that on a Saturday morning, starting at 8 AM, parking is allowed but limited to a duration of two hours.\n",
            "\n",
            "The lowest sign indicates \"PASSENGER LOADING ZONE\" from \"8 PM to 3 AM\", with two arrows pointing in directions where this rule applies. This loading zone restriction does not affect the 7 AM time frame on Saturday morning.\n",
            "\n",
            "In summary, according to the depicted signs, you can park your car at 7 AM on a Saturday morning. However, please note that 2-hour parking restrictions begin at 8 AM, so you would be able to park without time constraints between 7 AM and 8 AM, and then the 2-hour parking rule would apply.\n"
          ]
        }
      ]
    },
    {
      "cell_type": "code",
      "source": [],
      "metadata": {
        "id": "nBGR1gCXM7II"
      },
      "execution_count": null,
      "outputs": []
    }
  ]
}
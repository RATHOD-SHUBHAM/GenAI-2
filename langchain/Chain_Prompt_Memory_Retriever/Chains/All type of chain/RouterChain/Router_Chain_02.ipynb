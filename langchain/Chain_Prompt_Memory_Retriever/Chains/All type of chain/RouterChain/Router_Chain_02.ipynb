{
  "nbformat": 4,
  "nbformat_minor": 0,
  "metadata": {
    "colab": {
      "provenance": []
    },
    "kernelspec": {
      "name": "python3",
      "display_name": "Python 3"
    },
    "language_info": {
      "name": "python"
    }
  },
  "cells": [
    {
      "cell_type": "code",
      "execution_count": 1,
      "metadata": {
        "colab": {
          "base_uri": "https://localhost:8080/"
        },
        "id": "E1tp8iLtNlIh",
        "outputId": "10185616-6f77-4db4-8256-21c52a278527"
      },
      "outputs": [
        {
          "output_type": "stream",
          "name": "stdout",
          "text": [
            "\u001b[2K     \u001b[90m━━━━━━━━━━━━━━━━━━━━━━━━━━━━━━━━━━━━━━━━\u001b[0m \u001b[32m973.5/973.5 kB\u001b[0m \u001b[31m6.4 MB/s\u001b[0m eta \u001b[36m0:00:00\u001b[0m\n",
            "\u001b[2K     \u001b[90m━━━━━━━━━━━━━━━━━━━━━━━━━━━━━━━━━━━━━━━━\u001b[0m \u001b[32m310.2/310.2 kB\u001b[0m \u001b[31m8.2 MB/s\u001b[0m eta \u001b[36m0:00:00\u001b[0m\n",
            "\u001b[2K     \u001b[90m━━━━━━━━━━━━━━━━━━━━━━━━━━━━━━━━━━━━━━━━\u001b[0m \u001b[32m124.4/124.4 kB\u001b[0m \u001b[31m5.3 MB/s\u001b[0m eta \u001b[36m0:00:00\u001b[0m\n",
            "\u001b[2K     \u001b[90m━━━━━━━━━━━━━━━━━━━━━━━━━━━━━━━━━━━━━━━━\u001b[0m \u001b[32m320.7/320.7 kB\u001b[0m \u001b[31m8.0 MB/s\u001b[0m eta \u001b[36m0:00:00\u001b[0m\n",
            "\u001b[2K     \u001b[90m━━━━━━━━━━━━━━━━━━━━━━━━━━━━━━━━━━━━━━━━\u001b[0m \u001b[32m1.1/1.1 MB\u001b[0m \u001b[31m15.4 MB/s\u001b[0m eta \u001b[36m0:00:00\u001b[0m\n",
            "\u001b[2K     \u001b[90m━━━━━━━━━━━━━━━━━━━━━━━━━━━━━━━━━━━━━━━━\u001b[0m \u001b[32m53.0/53.0 kB\u001b[0m \u001b[31m3.1 MB/s\u001b[0m eta \u001b[36m0:00:00\u001b[0m\n",
            "\u001b[2K     \u001b[90m━━━━━━━━━━━━━━━━━━━━━━━━━━━━━━━━━━━━━━━━\u001b[0m \u001b[32m142.5/142.5 kB\u001b[0m \u001b[31m4.4 MB/s\u001b[0m eta \u001b[36m0:00:00\u001b[0m\n",
            "\u001b[2K     \u001b[90m━━━━━━━━━━━━━━━━━━━━━━━━━━━━━━━━━━━━━━━━\u001b[0m \u001b[32m75.6/75.6 kB\u001b[0m \u001b[31m5.2 MB/s\u001b[0m eta \u001b[36m0:00:00\u001b[0m\n",
            "\u001b[2K     \u001b[90m━━━━━━━━━━━━━━━━━━━━━━━━━━━━━━━━━━━━━━━━\u001b[0m \u001b[32m77.9/77.9 kB\u001b[0m \u001b[31m6.0 MB/s\u001b[0m eta \u001b[36m0:00:00\u001b[0m\n",
            "\u001b[2K     \u001b[90m━━━━━━━━━━━━━━━━━━━━━━━━━━━━━━━━━━━━━━━━\u001b[0m \u001b[32m58.3/58.3 kB\u001b[0m \u001b[31m4.7 MB/s\u001b[0m eta \u001b[36m0:00:00\u001b[0m\n",
            "\u001b[?25h"
          ]
        }
      ],
      "source": [
        "!pip install --quiet langchain langchain-openai"
      ]
    },
    {
      "cell_type": "code",
      "source": [
        "import os\n",
        "\n",
        "os.environ[\"OPENAI_API_TYPE\"] = \"azure_ad\"\n",
        "os.environ[\"OPENAI_API_VERSION\"] = \"2024-05-01-preview\"\n",
        "# os.environ[\"AZURE_OPENAI_ENDPOINT\"] = \"This form the Azure portal - model deployment\"\n",
        "# os.environ[\"AZURE_OPENAI_API_KEY\"] = 'This form the Azure portal - model deployment'\n",
        "os.environ[\"AZURE_OPENAI_ENDPOINT\"] = \"https://mobility-sage-openai-services.openai.azure.com/\"\n",
        "os.environ[\"AZURE_OPENAI_API_KEY\"] = '9bbf92a17be24c66881eaa5a1c6aa77d'"
      ],
      "metadata": {
        "id": "7ENeTEuXN-pu"
      },
      "execution_count": 2,
      "outputs": []
    },
    {
      "cell_type": "code",
      "source": [
        "from langchain_openai import AzureChatOpenAI\n",
        "from langchain.chains.router import MultiPromptChain\n",
        "from langchain.chains import LLMChain\n",
        "from langchain.chains import ConversationChain\n",
        "from langchain.prompts import PromptTemplate\n",
        "from langchain_core.output_parsers import StrOutputParser"
      ],
      "metadata": {
        "id": "6JF1hkhqPqbJ"
      },
      "execution_count": 8,
      "outputs": []
    },
    {
      "cell_type": "code",
      "source": [
        "llm = AzureChatOpenAI(\n",
        "            temperature=1,\n",
        "            azure_deployment=\"gpt-4o\",\n",
        "        )"
      ],
      "metadata": {
        "id": "s0zqB-jsPsRa"
      },
      "execution_count": 4,
      "outputs": []
    },
    {
      "cell_type": "markdown",
      "source": [
        "# Router Chain\n",
        "\n",
        "A good way to imagine this is if you have multiple subchains, each of which is specialized for a particular type of input, you could have a router chain, which first decides which subchain to pass it to and then passes it to that chain."
      ],
      "metadata": {
        "id": "RxgMV0r_WiS3"
      }
    },
    {
      "cell_type": "markdown",
      "source": [
        "In simple terms if we want out prompt to wear multiple hats or assume differnt roles based on the user input, we can use the router chain."
      ],
      "metadata": {
        "id": "7WocXSZX6Yvx"
      }
    },
    {
      "cell_type": "code",
      "source": [
        "# Create multiple prompts\n",
        "\n",
        "python_code_prompt=\"\"\"\n",
        "  You can do coding only and only in python. You are not allowed to code in any other language. \\\n",
        "  If someone asks you to code in python then do it otherwise answer politely that I am only allowed to code \\\n",
        "  in python nothing else. Now Code in python for below problem statement delimited by triple ticks\\n \\\n",
        "  ```{input}```\n",
        "\"\"\"\n",
        "\n",
        "\n",
        "cpp_code_prompt= \"\"\"\n",
        "  You can do coding only and only in C++. You are not allowed to code in any other language. \\\n",
        "  If someone asks you to code in C++ then do it otherwise answer politely that I am only allowed to code \\\n",
        "  in C++ nothing else. Now Code in C++ for below problem statement delimited by triple ticks\\n \\\n",
        "  ```{input}```\n",
        "\"\"\"\n",
        "\n",
        "\n",
        "sql_code_prompt= \"\"\"\n",
        "  You can do coding only and only in SQL. You are not allowed to code in any other language. \\\n",
        "  If someone asks you to code in SQL then do it otherwise answer politely that I am only allowed to code \\\n",
        "  in SQL nothing else. Now Code in SQL for below problem statement delimited by triple ticks\\n \\\n",
        "  ```{input}```\n",
        "\"\"\""
      ],
      "metadata": {
        "id": "n7P1_OZM6hwc"
      },
      "execution_count": 89,
      "outputs": []
    },
    {
      "cell_type": "code",
      "source": [
        "# Build a prompt descriptor\n",
        "\n",
        "prompt_infos = [\n",
        "    {\n",
        "          \"name\": \"Python Expert\",\n",
        "          \"description\": \"This chain is expert to code in python only\",\n",
        "          \"prompt_template\": python_code_prompt\n",
        "      },\n",
        "      {\n",
        "          \"name\": \"C++ Expert\",\n",
        "          \"description\": \"This chain is expert to code in C++ language only\",\n",
        "          \"prompt_template\": cpp_code_prompt\n",
        "      },\n",
        "\n",
        "      {\n",
        "          \"name\": \"SQL Expert\",\n",
        "          \"description\": \"This chain is expert to code in SQL language only\",\n",
        "          \"prompt_template\": sql_code_prompt\n",
        "      }\n",
        "]"
      ],
      "metadata": {
        "id": "25VDGNgq6pUC"
      },
      "execution_count": 90,
      "outputs": []
    },
    {
      "cell_type": "markdown",
      "source": [
        "## Build the Destination chains.\n",
        "\n",
        "## These are the chains that will be called by the router chain."
      ],
      "metadata": {
        "id": "4KYaunQ_7hAn"
      }
    },
    {
      "cell_type": "code",
      "source": [
        "destination_chain = {}\n",
        "\n",
        "for p_info in prompt_infos:\n",
        "  name = p_info['name']\n",
        "  prompt_template = p_info['prompt_template']\n",
        "\n",
        "  prompt = PromptTemplate(\n",
        "      template=prompt_template,\n",
        "      input_variables=['input']\n",
        "  )\n",
        "\n",
        "  chain = LLMChain(\n",
        "      llm = llm,\n",
        "      prompt = prompt\n",
        "  )\n",
        "\n",
        "  destination_chain[name] = chain\n",
        "\n"
      ],
      "metadata": {
        "id": "S6hkrrCD7Zn8"
      },
      "execution_count": 91,
      "outputs": []
    },
    {
      "cell_type": "code",
      "source": [
        "destination_chain.keys()"
      ],
      "metadata": {
        "colab": {
          "base_uri": "https://localhost:8080/"
        },
        "id": "wQYbBIA_EA8w",
        "outputId": "5f04d672-ac23-46f1-efe2-9d3c53362bbd"
      },
      "execution_count": 92,
      "outputs": [
        {
          "output_type": "execute_result",
          "data": {
            "text/plain": [
              "dict_keys(['Python Expert', 'C++ Expert', 'SQL Expert'])"
            ]
          },
          "metadata": {},
          "execution_count": 92
        }
      ]
    },
    {
      "cell_type": "code",
      "source": [
        "default_prompt = PromptTemplate(\n",
        "    template=\"Understand the input and return the code against the below user input. You are only allowed to code nothing else.\\n {input}\",\n",
        "    input_variables=[\"input\"]\n",
        "    )"
      ],
      "metadata": {
        "id": "4aBBq5tkEIiC"
      },
      "execution_count": 93,
      "outputs": []
    },
    {
      "cell_type": "code",
      "source": [
        "default_chain = LLMChain(\n",
        "    llm = llm,\n",
        "    prompt = default_prompt,\n",
        "    output_key = \"text\"\n",
        ")"
      ],
      "metadata": {
        "id": "k6x8blojB6B9"
      },
      "execution_count": 94,
      "outputs": []
    },
    {
      "cell_type": "code",
      "source": [
        "default_prompt = PromptTemplate.from_template(\"{blackhole}\")\n",
        "default_prompt"
      ],
      "metadata": {
        "colab": {
          "base_uri": "https://localhost:8080/"
        },
        "id": "JKVSPzqe8gO0",
        "outputId": "c363a12f-da1e-4578-d511-2bda18f224a6"
      },
      "execution_count": 95,
      "outputs": [
        {
          "output_type": "execute_result",
          "data": {
            "text/plain": [
              "PromptTemplate(input_variables=['blackhole'], template='{blackhole}')"
            ]
          },
          "metadata": {},
          "execution_count": 95
        }
      ]
    },
    {
      "cell_type": "code",
      "source": [
        "destinations = [f\"{p['name']} : {p['description']}\" for p in prompt_infos]\n",
        "destinations"
      ],
      "metadata": {
        "colab": {
          "base_uri": "https://localhost:8080/"
        },
        "id": "NJQDF5vw9kTF",
        "outputId": "fc35fdb0-5c35-46d6-9ad1-8306c3cb3f92"
      },
      "execution_count": 96,
      "outputs": [
        {
          "output_type": "execute_result",
          "data": {
            "text/plain": [
              "['Python Expert : This chain is expert to code in python only',\n",
              " 'C++ Expert : This chain is expert to code in C++ language only',\n",
              " 'SQL Expert : This chain is expert to code in SQL language only']"
            ]
          },
          "metadata": {},
          "execution_count": 96
        }
      ]
    },
    {
      "cell_type": "code",
      "source": [
        "destinations_str = '\\n'.join(destinations)\n",
        "destinations_str"
      ],
      "metadata": {
        "colab": {
          "base_uri": "https://localhost:8080/",
          "height": 53
        },
        "id": "TgakX4wx-MQY",
        "outputId": "b5f23e45-7480-46b0-bc18-c6d7bcce76ae"
      },
      "execution_count": 97,
      "outputs": [
        {
          "output_type": "execute_result",
          "data": {
            "text/plain": [
              "'Python Expert : This chain is expert to code in python only\\nC++ Expert : This chain is expert to code in C++ language only\\nSQL Expert : This chain is expert to code in SQL language only'"
            ],
            "application/vnd.google.colaboratory.intrinsic+json": {
              "type": "string"
            }
          },
          "metadata": {},
          "execution_count": 97
        }
      ]
    },
    {
      "cell_type": "markdown",
      "source": [
        "# Router Chain."
      ],
      "metadata": {
        "id": "X_JQaqLe9K5n"
      }
    },
    {
      "cell_type": "code",
      "source": [
        "from langchain.chains.router.llm_router import LLMRouterChain, RouterOutputParser\n",
        "from langchain.chains.router.multi_prompt_prompt import MULTI_PROMPT_ROUTER_TEMPLATE"
      ],
      "metadata": {
        "id": "hVJfiJZ89BKX"
      },
      "execution_count": 98,
      "outputs": []
    },
    {
      "cell_type": "code",
      "source": [
        "router_template = MULTI_PROMPT_ROUTER_TEMPLATE.format(\n",
        "    destinations = destinations_str\n",
        ")\n",
        "\n",
        "print(router_template) # built in  MULTI_PROMPT_ROUTER_TEMPLATE from langchain"
      ],
      "metadata": {
        "colab": {
          "base_uri": "https://localhost:8080/"
        },
        "id": "eFrtXBsR-Twh",
        "outputId": "40626cd4-9137-46a2-8532-5e45e4ce49f5"
      },
      "execution_count": 99,
      "outputs": [
        {
          "output_type": "stream",
          "name": "stdout",
          "text": [
            "Given a raw text input to a language model select the model prompt best suited for the input. You will be given the names of the available prompts and a description of what the prompt is best suited for. You may also revise the original input if you think that revising it will ultimately lead to a better response from the language model.\n",
            "\n",
            "<< FORMATTING >>\n",
            "Return a markdown code snippet with a JSON object formatted to look like:\n",
            "```json\n",
            "{{\n",
            "    \"destination\": string \\ name of the prompt to use or \"DEFAULT\"\n",
            "    \"next_inputs\": string \\ a potentially modified version of the original input\n",
            "}}\n",
            "```\n",
            "\n",
            "REMEMBER: \"destination\" MUST be one of the candidate prompt names specified below OR it can be \"DEFAULT\" if the input is not well suited for any of the candidate prompts.\n",
            "REMEMBER: \"next_inputs\" can just be the original input if you don't think any modifications are needed.\n",
            "\n",
            "<< CANDIDATE PROMPTS >>\n",
            "Python Expert : This chain is expert to code in python only\n",
            "C++ Expert : This chain is expert to code in C++ language only\n",
            "SQL Expert : This chain is expert to code in SQL language only\n",
            "\n",
            "<< INPUT >>\n",
            "{input}\n",
            "\n",
            "<< OUTPUT (must include ```json at the start of the response) >>\n",
            "<< OUTPUT (must end with ```) >>\n",
            "\n"
          ]
        }
      ]
    },
    {
      "cell_type": "code",
      "source": [
        "router_prompt = PromptTemplate(\n",
        "    template=router_template,\n",
        "    input_variables=['input'],\n",
        "    output_parser=RouterOutputParser()\n",
        ")"
      ],
      "metadata": {
        "id": "Tft9URQU-f4b"
      },
      "execution_count": 100,
      "outputs": []
    },
    {
      "cell_type": "code",
      "source": [
        "router_chain = LLMRouterChain.from_llm(\n",
        "    llm=llm,\n",
        "    prompt=router_prompt\n",
        ")"
      ],
      "metadata": {
        "id": "Vq-RKN2pBkfD"
      },
      "execution_count": 108,
      "outputs": []
    },
    {
      "cell_type": "code",
      "source": [
        "chain = MultiPromptChain(\n",
        "    router_chain=router_chain,\n",
        "    destination_chains=destination_chain,\n",
        "    default_chain=default_chain,\n",
        "    verbose=True\n",
        ")"
      ],
      "metadata": {
        "id": "RMkV56AHBYJc"
      },
      "execution_count": 109,
      "outputs": []
    },
    {
      "cell_type": "code",
      "source": [
        "language='python'\n",
        "\n",
        "prefix_prompt=f'''Write code in {language} language. '''\n",
        "input_prompt='''Take two sorted arrays [3,6,7,9] and [4,5,6,8,10]. Make one sorted array from them'''\n",
        "\n",
        "final_prompt= prefix_prompt + input_prompt\n"
      ],
      "metadata": {
        "id": "_QCggx6cHS5-"
      },
      "execution_count": 110,
      "outputs": []
    },
    {
      "cell_type": "code",
      "source": [
        "chain.run({\n",
        "    \"input\": final_prompt,\n",
        "    \"destinations\": destinations_str\n",
        "    })"
      ],
      "metadata": {
        "colab": {
          "base_uri": "https://localhost:8080/",
          "height": 288
        },
        "id": "m2UMWuKbIHKT",
        "outputId": "33444f79-38ad-485a-d069-dc3897190c93"
      },
      "execution_count": 111,
      "outputs": [
        {
          "output_type": "stream",
          "name": "stdout",
          "text": [
            "\n",
            "\n",
            "\u001b[1m> Entering new MultiPromptChain chain...\u001b[0m\n",
            "Python Expert: {'input': 'Write code in python language. Take two sorted arrays [3,6,7,9] and [4,5,6,8,10]. Make one sorted array from them'}\n",
            "\u001b[1m> Finished chain.\u001b[0m\n"
          ]
        },
        {
          "output_type": "execute_result",
          "data": {
            "text/plain": [
              "'Certainly! Here is the Python code to merge two sorted arrays into one sorted array:\\n\\n```python\\ndef merge_sorted_arrays(arr1, arr2):\\n    merged_array = []\\n    i = 0\\n    j = 0\\n\\n    while i < len(arr1) and j < len(arr2):\\n        if arr1[i] < arr2[j]:\\n            merged_array.append(arr1[i])\\n            i += 1\\n        else:\\n            merged_array.append(arr2[j])\\n            j += 1\\n\\n    # Append any remaining elements from arr1\\n    while i < len(arr1):\\n        merged_array.append(arr1[i])\\n        i += 1\\n\\n    # Append any remaining elements from arr2\\n    while j < len(arr2):\\n        merged_array.append(arr2[j])\\n        j += 1\\n\\n    return merged_array\\n\\n# Sample arrays\\narr1 = [3, 6, 7, 9]\\narr2 = [4, 5, 6, 8, 10]\\n\\n# Get the merged array\\nmerged_array = merge_sorted_arrays(arr1, arr2)\\nprint(merged_array)\\n```\\n\\nThis code defines a function `merge_sorted_arrays` that takes two sorted arrays as input and merges them into a single sorted array. The function then returns the merged array. The example arrays `[3, 6, 7, 9]` and `[4, 5, 6, 8, 10]` are used to demonstrate this functionality, and the merged result is printed to the console.'"
            ],
            "application/vnd.google.colaboratory.intrinsic+json": {
              "type": "string"
            }
          },
          "metadata": {},
          "execution_count": 111
        }
      ]
    },
    {
      "cell_type": "code",
      "source": [
        "print(chain.run(\"What is the first prime number greater than 40 such that one plus the prime number is divisible by 3\"))"
      ],
      "metadata": {
        "colab": {
          "base_uri": "https://localhost:8080/"
        },
        "id": "Z0Z_U0u1CpOp",
        "outputId": "428cc5d0-f6e5-4c03-d23d-cd5f0f4480ea"
      },
      "execution_count": 112,
      "outputs": [
        {
          "output_type": "stream",
          "name": "stdout",
          "text": [
            "\n",
            "\n",
            "\u001b[1m> Entering new MultiPromptChain chain...\u001b[0m\n",
            "None: {'input': 'What is the first prime number greater than 40 such that one plus the prime number is divisible by 3'}\n",
            "\u001b[1m> Finished chain.\u001b[0m\n",
            "```python\n",
            "def is_prime(num):\n",
            "    if num <= 1:\n",
            "        return False\n",
            "    for i in range(2, int(num**0.5) + 1):\n",
            "        if num % i == 0:\n",
            "            return False\n",
            "    return True\n",
            "\n",
            "number = 41\n",
            "while True:\n",
            "    if is_prime(number) and (number + 1) % 3 == 0:\n",
            "        print(number)\n",
            "        break\n",
            "    number += 1\n",
            "```\n"
          ]
        }
      ]
    },
    {
      "cell_type": "code",
      "source": [
        "print(chain.run(\"Write a python code to add 2 numbers\"))"
      ],
      "metadata": {
        "colab": {
          "base_uri": "https://localhost:8080/"
        },
        "id": "V_OONupaCsOT",
        "outputId": "975b7097-3fd2-4925-b1a4-700046532934"
      },
      "execution_count": 113,
      "outputs": [
        {
          "output_type": "stream",
          "name": "stdout",
          "text": [
            "\n",
            "\n",
            "\u001b[1m> Entering new MultiPromptChain chain...\u001b[0m\n",
            "Python Expert: {'input': 'Write a Python code to add 2 numbers'}\n",
            "\u001b[1m> Finished chain.\u001b[0m\n",
            "Sure, here's a simple Python code to add two numbers:\n",
            "\n",
            "```python\n",
            "def add_two_numbers(num1, num2):\n",
            "    return num1 + num2\n",
            "\n",
            "# Example usage:\n",
            "number1 = 5\n",
            "number2 = 3\n",
            "result = add_two_numbers(number1, number2)\n",
            "print(\"The sum of {} and {} is {}\".format(number1, number2, result))\n",
            "```\n",
            "\n",
            "This function `add_two_numbers` takes two arguments and returns their sum. In the example usage, it adds 5 and 3 to get 8.\n"
          ]
        }
      ]
    },
    {
      "cell_type": "code",
      "source": [
        "print(chain.run({\n",
        "    \"input\": 'Search for values in a database',\n",
        "    \"destinations\": destinations_str\n",
        "    }))"
      ],
      "metadata": {
        "colab": {
          "base_uri": "https://localhost:8080/"
        },
        "id": "Z1I12pguC4A6",
        "outputId": "4919a603-9c44-4e85-f77e-ee6cb87f9428"
      },
      "execution_count": 117,
      "outputs": [
        {
          "output_type": "stream",
          "name": "stdout",
          "text": [
            "\n",
            "\n",
            "\u001b[1m> Entering new MultiPromptChain chain...\u001b[0m\n",
            "SQL Expert: {'input': 'Search for values in a SQL database'}\n",
            "\u001b[1m> Finished chain.\u001b[0m\n",
            "```SQL\n",
            "-- This query will search for values in a specific column of a table in a SQL database.\n",
            "\n",
            "-- Replace `table_name` with the name of your table\n",
            "-- Replace `column_name` with the name of the column you want to search in\n",
            "-- Replace `search_value` with the value you are searching for\n",
            "\n",
            "SELECT *\n",
            "FROM table_name\n",
            "WHERE column_name = 'search_value';\n",
            "```\n",
            "\n",
            "This query selects all columns from the specified table where the value in the specified column matches the search value.\n"
          ]
        }
      ]
    },
    {
      "cell_type": "code",
      "source": [],
      "metadata": {
        "id": "mUwtDbFCI_4v"
      },
      "execution_count": null,
      "outputs": []
    }
  ]
}
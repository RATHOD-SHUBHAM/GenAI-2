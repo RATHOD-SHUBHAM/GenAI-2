{
  "nbformat": 4,
  "nbformat_minor": 0,
  "metadata": {
    "colab": {
      "provenance": []
    },
    "kernelspec": {
      "name": "python3",
      "display_name": "Python 3"
    },
    "language_info": {
      "name": "python"
    }
  },
  "cells": [
    {
      "cell_type": "code",
      "execution_count": 1,
      "metadata": {
        "colab": {
          "base_uri": "https://localhost:8080/"
        },
        "id": "E1tp8iLtNlIh",
        "outputId": "4407a953-8bb8-44eb-8f61-dbf76618c5cf"
      },
      "outputs": [
        {
          "output_type": "stream",
          "name": "stdout",
          "text": [
            "\u001b[2K     \u001b[90m━━━━━━━━━━━━━━━━━━━━━━━━━━━━━━━━━━━━━━━━\u001b[0m \u001b[32m973.5/973.5 kB\u001b[0m \u001b[31m6.8 MB/s\u001b[0m eta \u001b[36m0:00:00\u001b[0m\n",
            "\u001b[2K     \u001b[90m━━━━━━━━━━━━━━━━━━━━━━━━━━━━━━━━━━━━━━━━\u001b[0m \u001b[32m310.2/310.2 kB\u001b[0m \u001b[31m8.1 MB/s\u001b[0m eta \u001b[36m0:00:00\u001b[0m\n",
            "\u001b[2K     \u001b[90m━━━━━━━━━━━━━━━━━━━━━━━━━━━━━━━━━━━━━━━━\u001b[0m \u001b[32m124.4/124.4 kB\u001b[0m \u001b[31m4.2 MB/s\u001b[0m eta \u001b[36m0:00:00\u001b[0m\n",
            "\u001b[2K     \u001b[90m━━━━━━━━━━━━━━━━━━━━━━━━━━━━━━━━━━━━━━━━\u001b[0m \u001b[32m320.7/320.7 kB\u001b[0m \u001b[31m10.6 MB/s\u001b[0m eta \u001b[36m0:00:00\u001b[0m\n",
            "\u001b[2K     \u001b[90m━━━━━━━━━━━━━━━━━━━━━━━━━━━━━━━━━━━━━━━━\u001b[0m \u001b[32m1.1/1.1 MB\u001b[0m \u001b[31m17.6 MB/s\u001b[0m eta \u001b[36m0:00:00\u001b[0m\n",
            "\u001b[2K     \u001b[90m━━━━━━━━━━━━━━━━━━━━━━━━━━━━━━━━━━━━━━━━\u001b[0m \u001b[32m53.0/53.0 kB\u001b[0m \u001b[31m4.5 MB/s\u001b[0m eta \u001b[36m0:00:00\u001b[0m\n",
            "\u001b[2K     \u001b[90m━━━━━━━━━━━━━━━━━━━━━━━━━━━━━━━━━━━━━━━━\u001b[0m \u001b[32m142.5/142.5 kB\u001b[0m \u001b[31m2.7 MB/s\u001b[0m eta \u001b[36m0:00:00\u001b[0m\n",
            "\u001b[2K     \u001b[90m━━━━━━━━━━━━━━━━━━━━━━━━━━━━━━━━━━━━━━━━\u001b[0m \u001b[32m75.6/75.6 kB\u001b[0m \u001b[31m4.3 MB/s\u001b[0m eta \u001b[36m0:00:00\u001b[0m\n",
            "\u001b[2K     \u001b[90m━━━━━━━━━━━━━━━━━━━━━━━━━━━━━━━━━━━━━━━━\u001b[0m \u001b[32m77.9/77.9 kB\u001b[0m \u001b[31m6.2 MB/s\u001b[0m eta \u001b[36m0:00:00\u001b[0m\n",
            "\u001b[2K     \u001b[90m━━━━━━━━━━━━━━━━━━━━━━━━━━━━━━━━━━━━━━━━\u001b[0m \u001b[32m58.3/58.3 kB\u001b[0m \u001b[31m5.3 MB/s\u001b[0m eta \u001b[36m0:00:00\u001b[0m\n",
            "\u001b[?25h"
          ]
        }
      ],
      "source": [
        "!pip install --quiet langchain langchain-openai"
      ]
    },
    {
      "cell_type": "code",
      "source": [
        "import os\n",
        "\n",
        "os.environ[\"OPENAI_API_TYPE\"] = \"azure_ad\"\n",
        "os.environ[\"OPENAI_API_VERSION\"] = \"2024-05-01-preview\"\n",
        "os.environ[\"AZURE_OPENAI_ENDPOINT\"] = \"This form the Azure portal - model deployment\"\n",
        "os.environ[\"AZURE_OPENAI_API_KEY\"] = 'This form the Azure portal - model deployment'\n",
        "\n"
      ],
      "metadata": {
        "id": "7ENeTEuXN-pu"
      },
      "execution_count": 24,
      "outputs": []
    },
    {
      "cell_type": "code",
      "source": [
        "from langchain_openai import AzureChatOpenAI\n",
        "from langchain.chains import LLMChain\n",
        "from langchain.prompts import PromptTemplate\n",
        "from langchain_core.output_parsers import StrOutputParser"
      ],
      "metadata": {
        "id": "6JF1hkhqPqbJ"
      },
      "execution_count": 25,
      "outputs": []
    },
    {
      "cell_type": "code",
      "source": [
        "llm = AzureChatOpenAI(\n",
        "            temperature=1,\n",
        "            azure_deployment=\"gpt-4o\",\n",
        "        )"
      ],
      "metadata": {
        "id": "s0zqB-jsPsRa"
      },
      "execution_count": 26,
      "outputs": []
    },
    {
      "cell_type": "markdown",
      "source": [
        " When we have to pass multiput input to a chain, we cant use simple sequentail chain. In this case we will use a Complex sequential chain."
      ],
      "metadata": {
        "id": "RxgMV0r_WiS3"
      }
    },
    {
      "cell_type": "markdown",
      "source": [
        "## Chain 1: Synopsis Chain."
      ],
      "metadata": {
        "id": "g835WcwZQ7hv"
      }
    },
    {
      "cell_type": "code",
      "source": [
        "template = \"\"\"\n",
        "  You are a playwright. Given the title of play and the era it is set in,\n",
        "  it is your job to write a short synopsis for that title.\n",
        "\n",
        "  Title: {title}\n",
        "  Era: {era}\n",
        "\n",
        "  Playwright: This is a synopsis for the above play:\n",
        "\"\"\"\n",
        "\n",
        "prompt_tempalte = PromptTemplate(\n",
        "    input_variables=['title', 'era'],\n",
        "    template=template\n",
        ")"
      ],
      "metadata": {
        "id": "OJ3QQ6OpQbmj"
      },
      "execution_count": 38,
      "outputs": []
    },
    {
      "cell_type": "code",
      "source": [
        "synopsis_chain = LLMChain(llm=llm,\n",
        "                          prompt=prompt_tempalte,\n",
        "                          output_key = 'synopsis')"
      ],
      "metadata": {
        "id": "yQBi49G7RBdc"
      },
      "execution_count": 39,
      "outputs": []
    },
    {
      "cell_type": "markdown",
      "source": [
        "## Chain 2: Review Chain."
      ],
      "metadata": {
        "id": "J7nA7QO-RO0e"
      }
    },
    {
      "cell_type": "code",
      "source": [
        "template = \"\"\"\n",
        "  You are a play critic from the New York Times. Given the synopsis of play,\n",
        "  it is your job to write a short review for that play.\n",
        "\n",
        "  Play Synopsis:\n",
        "  {synopsis}\n",
        "\n",
        "  Review from a New York Times play critic of the above play:\n",
        "\"\"\"\n",
        "\n",
        "prompt_tempalte = PromptTemplate(\n",
        "    input_variables=['synopsis'],\n",
        "    template=template\n",
        ")"
      ],
      "metadata": {
        "id": "lax00sAMRFui"
      },
      "execution_count": 40,
      "outputs": []
    },
    {
      "cell_type": "code",
      "source": [
        "review_chain = LLMChain(llm=llm,\n",
        "                        prompt=prompt_tempalte,\n",
        "                        output_key='review')\n"
      ],
      "metadata": {
        "id": "Oi8giGGLRa1k"
      },
      "execution_count": 30,
      "outputs": []
    },
    {
      "cell_type": "markdown",
      "source": [
        "## Chain 3: Social Media Chain."
      ],
      "metadata": {
        "id": "Bi4glLEPUEwJ"
      }
    },
    {
      "cell_type": "code",
      "source": [
        "template = \"\"\"\n",
        "  You are a social media manager for a theater company.  Given the title of play,\n",
        "  the era it is set in, and the review of the play, it is your job to write a short social media post for that play.\n",
        "\n",
        "  Play Synopsis:\n",
        "  {synopsis}\n",
        "\n",
        "  Review from a New York Times play critic of the above play:\n",
        "  {review}\n",
        "\n",
        "  Social Media Post:\n",
        "\"\"\"\n",
        "\n",
        "\n",
        "prompt_template = PromptTemplate(\n",
        "    input_variables=[\"synopsis\", \"review\"],\n",
        "    template=template\n",
        "                                 )\n"
      ],
      "metadata": {
        "id": "f8-YeyumUJH2"
      },
      "execution_count": 48,
      "outputs": []
    },
    {
      "cell_type": "code",
      "source": [
        "social_chain = LLMChain(llm=llm,\n",
        "                        prompt=prompt_template,\n",
        "                        output_key=\"social_post_text\")"
      ],
      "metadata": {
        "id": "DrFnv7dkUOOZ"
      },
      "execution_count": 49,
      "outputs": []
    },
    {
      "cell_type": "markdown",
      "source": [
        "# Sequential Chain"
      ],
      "metadata": {
        "id": "GHiRRWfCRfr7"
      }
    },
    {
      "cell_type": "code",
      "source": [
        "from langchain.chains import SequentialChain"
      ],
      "metadata": {
        "id": "PnkLiQw2Re7d"
      },
      "execution_count": 45,
      "outputs": []
    },
    {
      "cell_type": "code",
      "source": [
        "overall_chain = SequentialChain(\n",
        "    chains = [synopsis_chain, review_chain, social_chain],\n",
        "    input_variables=['title', 'era'],\n",
        "    output_variables = ['social_post_text'],\n",
        "    verbose = True\n",
        ")"
      ],
      "metadata": {
        "id": "am0UWWPRRm4G"
      },
      "execution_count": 50,
      "outputs": []
    },
    {
      "cell_type": "code",
      "source": [
        "overall_chain.invoke({\"title\":\"Tragedy at sunset on the beach\", \"era\": \"Victorian England\"})"
      ],
      "metadata": {
        "colab": {
          "base_uri": "https://localhost:8080/"
        },
        "id": "pWWD8RfuRwmq",
        "outputId": "d6ca909a-94b4-43b4-e9e6-011be3a2f93d"
      },
      "execution_count": 51,
      "outputs": [
        {
          "output_type": "stream",
          "name": "stdout",
          "text": [
            "\n",
            "\n",
            "\u001b[1m> Entering new SequentialChain chain...\u001b[0m\n",
            "\n",
            "\u001b[1m> Finished chain.\u001b[0m\n"
          ]
        },
        {
          "output_type": "execute_result",
          "data": {
            "text/plain": [
              "{'title': 'Tragedy at sunset on the beach',\n",
              " 'era': 'Victorian England',\n",
              " 'social_post_text': '🌅✨ Step back into the strict yet stunning world of Victorian England with \"Tragedy at Sunset on the Beach.\" This poignant tale of forbidden love, societal constraints, and heart-wrenching choices will transport you to a time where the cost of defiance was steep. \\n\\n✨ The New York Times hails it as \"a deeply moving exploration of love\\'s defiance against the cruelty of societal constraints,\" with performances that breathe life into the eternal struggle between duty and desire.\\n\\n🎭 Join Lady Evelyn and Thomas Cavendish as their secret seaside romance faces the ultimate test under the fading light of dusk. Will love conquer all, or will societal expectations cast a shadow on their dreams forever?\\n\\nDon\\'t miss this evocative production that promises to resonate with modern audiences. \\n\\n#TragedyAtSunsetOnTheBeach #VictorianDrama #ForbiddenLove #TheaterMagic #MustSeeStage #EmotionalJourney #TimelessTale\\n'}"
            ]
          },
          "metadata": {},
          "execution_count": 51
        }
      ]
    },
    {
      "cell_type": "code",
      "source": [],
      "metadata": {
        "id": "LMGmnhkXR54d"
      },
      "execution_count": null,
      "outputs": []
    }
  ]
}
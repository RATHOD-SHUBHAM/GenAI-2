{
  "cells": [
    {
      "cell_type": "code",
      "execution_count": 1,
      "metadata": {
        "colab": {
          "base_uri": "https://localhost:8080/"
        },
        "id": "E1tp8iLtNlIh",
        "outputId": "4407a953-8bb8-44eb-8f61-dbf76618c5cf"
      },
      "outputs": [
        {
          "name": "stdout",
          "output_type": "stream",
          "text": [
            "\u001b[2K     \u001b[90m━━━━━━━━━━━━━━━━━━━━━━━━━━━━━━━━━━━━━━━━\u001b[0m \u001b[32m973.5/973.5 kB\u001b[0m \u001b[31m6.8 MB/s\u001b[0m eta \u001b[36m0:00:00\u001b[0m\n",
            "\u001b[2K     \u001b[90m━━━━━━━━━━━━━━━━━━━━━━━━━━━━━━━━━━━━━━━━\u001b[0m \u001b[32m310.2/310.2 kB\u001b[0m \u001b[31m8.1 MB/s\u001b[0m eta \u001b[36m0:00:00\u001b[0m\n",
            "\u001b[2K     \u001b[90m━━━━━━━━━━━━━━━━━━━━━━━━━━━━━━━━━━━━━━━━\u001b[0m \u001b[32m124.4/124.4 kB\u001b[0m \u001b[31m4.2 MB/s\u001b[0m eta \u001b[36m0:00:00\u001b[0m\n",
            "\u001b[2K     \u001b[90m━━━━━━━━━━━━━━━━━━━━━━━━━━━━━━━━━━━━━━━━\u001b[0m \u001b[32m320.7/320.7 kB\u001b[0m \u001b[31m10.6 MB/s\u001b[0m eta \u001b[36m0:00:00\u001b[0m\n",
            "\u001b[2K     \u001b[90m━━━━━━━━━━━━━━━━━━━━━━━━━━━━━━━━━━━━━━━━\u001b[0m \u001b[32m1.1/1.1 MB\u001b[0m \u001b[31m17.6 MB/s\u001b[0m eta \u001b[36m0:00:00\u001b[0m\n",
            "\u001b[2K     \u001b[90m━━━━━━━━━━━━━━━━━━━━━━━━━━━━━━━━━━━━━━━━\u001b[0m \u001b[32m53.0/53.0 kB\u001b[0m \u001b[31m4.5 MB/s\u001b[0m eta \u001b[36m0:00:00\u001b[0m\n",
            "\u001b[2K     \u001b[90m━━━━━━━━━━━━━━━━━━━━━━━━━━━━━━━━━━━━━━━━\u001b[0m \u001b[32m142.5/142.5 kB\u001b[0m \u001b[31m2.7 MB/s\u001b[0m eta \u001b[36m0:00:00\u001b[0m\n",
            "\u001b[2K     \u001b[90m━━━━━━━━━━━━━━━━━━━━━━━━━━━━━━━━━━━━━━━━\u001b[0m \u001b[32m75.6/75.6 kB\u001b[0m \u001b[31m4.3 MB/s\u001b[0m eta \u001b[36m0:00:00\u001b[0m\n",
            "\u001b[2K     \u001b[90m━━━━━━━━━━━━━━━━━━━━━━━━━━━━━━━━━━━━━━━━\u001b[0m \u001b[32m77.9/77.9 kB\u001b[0m \u001b[31m6.2 MB/s\u001b[0m eta \u001b[36m0:00:00\u001b[0m\n",
            "\u001b[2K     \u001b[90m━━━━━━━━━━━━━━━━━━━━━━━━━━━━━━━━━━━━━━━━\u001b[0m \u001b[32m58.3/58.3 kB\u001b[0m \u001b[31m5.3 MB/s\u001b[0m eta \u001b[36m0:00:00\u001b[0m\n",
            "\u001b[?25h"
          ]
        }
      ],
      "source": [
        "!pip install --quiet langchain langchain-openai"
      ]
    },
    {
      "cell_type": "code",
      "execution_count": 24,
      "metadata": {
        "id": "7ENeTEuXN-pu"
      },
      "outputs": [],
      "source": [
        "import os\n",
        "\n",
        "os.environ[\"OPENAI_API_TYPE\"] = \"azure_ad\"\n",
        "os.environ[\"OPENAI_API_VERSION\"] = \"2024-05-01-preview\"\n",
        "os.environ[\"AZURE_OPENAI_ENDPOINT\"] = \"This form the Azure portal - model deployment\"\n",
        "os.environ[\"AZURE_OPENAI_API_KEY\"] = 'This form the Azure portal - model deployment'\n"
      ]
    },
    {
      "cell_type": "code",
      "execution_count": 25,
      "metadata": {
        "id": "6JF1hkhqPqbJ"
      },
      "outputs": [],
      "source": [
        "from langchain_openai import AzureChatOpenAI\n",
        "from langchain.chains import LLMChain\n",
        "from langchain.prompts import PromptTemplate\n",
        "from langchain_core.output_parsers import StrOutputParser"
      ]
    },
    {
      "cell_type": "code",
      "execution_count": 26,
      "metadata": {
        "id": "s0zqB-jsPsRa"
      },
      "outputs": [],
      "source": [
        "llm = AzureChatOpenAI(\n",
        "            temperature=1,\n",
        "            azure_deployment=\"gpt-4o\",\n",
        "        )"
      ]
    },
    {
      "cell_type": "markdown",
      "metadata": {
        "id": "g835WcwZQ7hv"
      },
      "source": [
        "## Chain 1: Synopsis Chain."
      ]
    },
    {
      "cell_type": "code",
      "execution_count": 38,
      "metadata": {
        "id": "OJ3QQ6OpQbmj"
      },
      "outputs": [],
      "source": [
        "template = \"\"\"\n",
        "  You are a playwright. Given the title of play and the era it is set in,\n",
        "  it is your job to write a short synopsis for that title.\n",
        "\n",
        "  Title: {title}\n",
        "  Era: {era}\n",
        "\n",
        "  Playwright: This is a synopsis for the above play:\n",
        "\"\"\"\n",
        "\n",
        "prompt_tempalte = PromptTemplate(\n",
        "    input_variables=['title', 'era'],\n",
        "    template=template\n",
        ")"
      ]
    },
    {
      "cell_type": "code",
      "execution_count": 39,
      "metadata": {
        "id": "yQBi49G7RBdc"
      },
      "outputs": [],
      "source": [
        "synopsis_chain = LLMChain(llm=llm,\n",
        "                          prompt=prompt_tempalte,\n",
        "                          output_key = 'synopsis')"
      ]
    },
    {
      "cell_type": "markdown",
      "metadata": {
        "id": "J7nA7QO-RO0e"
      },
      "source": [
        "## Chain 2: Review Chain."
      ]
    },
    {
      "cell_type": "code",
      "execution_count": 40,
      "metadata": {
        "id": "lax00sAMRFui"
      },
      "outputs": [],
      "source": [
        "template = \"\"\"\n",
        "  You are a play critic from the New York Times. Given the synopsis of play,\n",
        "  it is your job to write a short review for that play.\n",
        "\n",
        "  Play Synopsis:\n",
        "  {synopsis}\n",
        "\n",
        "  Review from a New York Times play critic of the above play:\n",
        "\"\"\"\n",
        "\n",
        "prompt_tempalte = PromptTemplate(\n",
        "    input_variables=['synopsis'],\n",
        "    template=template\n",
        ")"
      ]
    },
    {
      "cell_type": "code",
      "execution_count": 30,
      "metadata": {
        "id": "Oi8giGGLRa1k"
      },
      "outputs": [],
      "source": [
        "review_chain = LLMChain(llm=llm,\n",
        "                        prompt=prompt_tempalte,\n",
        "                        output_key='review')\n"
      ]
    },
    {
      "cell_type": "markdown",
      "metadata": {
        "id": "Bi4glLEPUEwJ"
      },
      "source": [
        "## Chain 3: Social Media Chain."
      ]
    },
    {
      "cell_type": "code",
      "execution_count": 41,
      "metadata": {
        "id": "f8-YeyumUJH2"
      },
      "outputs": [],
      "source": [
        "template = \"\"\"\n",
        "  You are a social media manager for a theater company.  Given the title of play,\n",
        "  the era it is set in, the date,time and location, the synopsis of the play, and the review of the play,\n",
        "  it is your job to write a short social media post for that play.\n",
        "\n",
        "  Here is some context about the time and location of the play:\n",
        "  Date and Time: {time}\n",
        "  Location: {location}\n",
        "\n",
        "  Play Synopsis:\n",
        "  {synopsis}\n",
        "\n",
        "  Review from a New York Times play critic of the above play:\n",
        "  {review}\n",
        "\n",
        "  Social Media Post:\n",
        "\"\"\"\n",
        "\n",
        "\n",
        "prompt_template = PromptTemplate(\n",
        "    input_variables=[\"synopsis\", \"review\", \"time\", \"location\"],\n",
        "    template=template\n",
        "                                 )\n"
      ]
    },
    {
      "cell_type": "code",
      "execution_count": 42,
      "metadata": {
        "id": "DrFnv7dkUOOZ"
      },
      "outputs": [],
      "source": [
        "social_chain = LLMChain(llm=llm,\n",
        "                        prompt=prompt_template,\n",
        "                        output_key=\"social_post_text\")"
      ]
    },
    {
      "cell_type": "markdown",
      "metadata": {
        "id": "GHiRRWfCRfr7"
      },
      "source": [
        "# Sequential Chain"
      ]
    },
    {
      "cell_type": "code",
      "execution_count": 45,
      "metadata": {
        "id": "PnkLiQw2Re7d"
      },
      "outputs": [],
      "source": [
        "from langchain.chains import SequentialChain\n",
        "from langchain.memory import SimpleMemory"
      ]
    },
    {
      "cell_type": "code",
      "execution_count": 46,
      "metadata": {
        "id": "am0UWWPRRm4G"
      },
      "outputs": [],
      "source": [
        "overall_chain = SequentialChain(\n",
        "    memory=SimpleMemory(\n",
        "        memories={\n",
        "            \"time\": \"December 25th, 8pm PST\",\n",
        "            \"location\": \"Theater in the Park\"\n",
        "            }\n",
        "        ),\n",
        "    chains = [synopsis_chain, review_chain, social_chain],\n",
        "    input_variables=['title', 'era'],\n",
        "    output_variables = ['social_post_text'],\n",
        "    verbose = True\n",
        ")"
      ]
    },
    {
      "cell_type": "code",
      "execution_count": 47,
      "metadata": {
        "colab": {
          "base_uri": "https://localhost:8080/"
        },
        "id": "pWWD8RfuRwmq",
        "outputId": "bd4a29cf-a3b4-4441-8552-392cfc26501b"
      },
      "outputs": [
        {
          "name": "stdout",
          "output_type": "stream",
          "text": [
            "\n",
            "\n",
            "\u001b[1m> Entering new SequentialChain chain...\u001b[0m\n",
            "\n",
            "\u001b[1m> Finished chain.\u001b[0m\n"
          ]
        },
        {
          "data": {
            "text/plain": [
              "{'title': 'Tragedy at sunset on the beach',\n",
              " 'era': 'Victorian England',\n",
              " 'time': 'December 25th, 8pm PST',\n",
              " 'location': 'Theater in the Park',\n",
              " 'social_post_text': '🌅✨ Witness a heartwrenching tale of forbidden love and societal constraint enveloped in the serene, yet melancholy, coastal ambiance of Victorian-era Brighton. \\n\\n🖼️ Join us on **December 25th at 8pm PST** at the iconic **Theater in the Park** for \"Tragedy at Sunset on the Beach.\" \\n\\n🎭 Follow the poignant journey of Cecilia Harrington, torn between duty to her family and her love for the impassioned artist Edward Mansfield. As the sun sets on their bittersweet romance, will they defy societal expectations or be forever imprisoned by them?\\n\\n🌊 \"Tragedy at Sunset on the Beach\" is a testament to the complexities of the human heart, the clash between duty and desire, and the inevitable tragedy of suppressed passions. 🌹\\n\\n✨ Don\\'t miss this evocative production hailed as a must-see by critics!\\n\\n🎟️ #TheaterInThePark #VictorianDrama #ForbiddenLove #TragicRomance #SunsetOnTheBeach #LiveTheatre #DecemberShow\\n\\nGet your tickets now!\\n\\n---\\nFeel free to reach out for more details or if you\\'d like flyers and additional promotional materials!'}"
            ]
          },
          "execution_count": 47,
          "metadata": {},
          "output_type": "execute_result"
        }
      ],
      "source": [
        "overall_chain.invoke({\"title\":\"Tragedy at sunset on the beach\", \"era\": \"Victorian England\"})"
      ]
    },
    {
      "cell_type": "code",
      "execution_count": null,
      "metadata": {
        "id": "LMGmnhkXR54d"
      },
      "outputs": [],
      "source": []
    }
  ],
  "metadata": {
    "colab": {
      "provenance": []
    },
    "kernelspec": {
      "display_name": "Python 3",
      "name": "python3"
    },
    "language_info": {
      "name": "python"
    }
  },
  "nbformat": 4,
  "nbformat_minor": 0
}

{
  "nbformat": 4,
  "nbformat_minor": 0,
  "metadata": {
    "colab": {
      "provenance": []
    },
    "kernelspec": {
      "name": "python3",
      "display_name": "Python 3"
    },
    "language_info": {
      "name": "python"
    }
  },
  "cells": [
    {
      "cell_type": "code",
      "execution_count": 1,
      "metadata": {
        "colab": {
          "base_uri": "https://localhost:8080/"
        },
        "id": "E1tp8iLtNlIh",
        "outputId": "4407a953-8bb8-44eb-8f61-dbf76618c5cf"
      },
      "outputs": [
        {
          "output_type": "stream",
          "name": "stdout",
          "text": [
            "\u001b[2K     \u001b[90m━━━━━━━━━━━━━━━━━━━━━━━━━━━━━━━━━━━━━━━━\u001b[0m \u001b[32m973.5/973.5 kB\u001b[0m \u001b[31m6.8 MB/s\u001b[0m eta \u001b[36m0:00:00\u001b[0m\n",
            "\u001b[2K     \u001b[90m━━━━━━━━━━━━━━━━━━━━━━━━━━━━━━━━━━━━━━━━\u001b[0m \u001b[32m310.2/310.2 kB\u001b[0m \u001b[31m8.1 MB/s\u001b[0m eta \u001b[36m0:00:00\u001b[0m\n",
            "\u001b[2K     \u001b[90m━━━━━━━━━━━━━━━━━━━━━━━━━━━━━━━━━━━━━━━━\u001b[0m \u001b[32m124.4/124.4 kB\u001b[0m \u001b[31m4.2 MB/s\u001b[0m eta \u001b[36m0:00:00\u001b[0m\n",
            "\u001b[2K     \u001b[90m━━━━━━━━━━━━━━━━━━━━━━━━━━━━━━━━━━━━━━━━\u001b[0m \u001b[32m320.7/320.7 kB\u001b[0m \u001b[31m10.6 MB/s\u001b[0m eta \u001b[36m0:00:00\u001b[0m\n",
            "\u001b[2K     \u001b[90m━━━━━━━━━━━━━━━━━━━━━━━━━━━━━━━━━━━━━━━━\u001b[0m \u001b[32m1.1/1.1 MB\u001b[0m \u001b[31m17.6 MB/s\u001b[0m eta \u001b[36m0:00:00\u001b[0m\n",
            "\u001b[2K     \u001b[90m━━━━━━━━━━━━━━━━━━━━━━━━━━━━━━━━━━━━━━━━\u001b[0m \u001b[32m53.0/53.0 kB\u001b[0m \u001b[31m4.5 MB/s\u001b[0m eta \u001b[36m0:00:00\u001b[0m\n",
            "\u001b[2K     \u001b[90m━━━━━━━━━━━━━━━━━━━━━━━━━━━━━━━━━━━━━━━━\u001b[0m \u001b[32m142.5/142.5 kB\u001b[0m \u001b[31m2.7 MB/s\u001b[0m eta \u001b[36m0:00:00\u001b[0m\n",
            "\u001b[2K     \u001b[90m━━━━━━━━━━━━━━━━━━━━━━━━━━━━━━━━━━━━━━━━\u001b[0m \u001b[32m75.6/75.6 kB\u001b[0m \u001b[31m4.3 MB/s\u001b[0m eta \u001b[36m0:00:00\u001b[0m\n",
            "\u001b[2K     \u001b[90m━━━━━━━━━━━━━━━━━━━━━━━━━━━━━━━━━━━━━━━━\u001b[0m \u001b[32m77.9/77.9 kB\u001b[0m \u001b[31m6.2 MB/s\u001b[0m eta \u001b[36m0:00:00\u001b[0m\n",
            "\u001b[2K     \u001b[90m━━━━━━━━━━━━━━━━━━━━━━━━━━━━━━━━━━━━━━━━\u001b[0m \u001b[32m58.3/58.3 kB\u001b[0m \u001b[31m5.3 MB/s\u001b[0m eta \u001b[36m0:00:00\u001b[0m\n",
            "\u001b[?25h"
          ]
        }
      ],
      "source": [
        "!pip install --quiet langchain langchain-openai"
      ]
    },
    {
      "cell_type": "code",
      "source": [
        "import os\n",
        "\n",
        "os.environ[\"OPENAI_API_TYPE\"] = \"azure_ad\"\n",
        "os.environ[\"OPENAI_API_VERSION\"] = \"2024-05-01-preview\"\n",
        "os.environ[\"AZURE_OPENAI_ENDPOINT\"] = \"This form the Azure portal - model deployment\"\n",
        "os.environ[\"AZURE_OPENAI_API_KEY\"] = 'This form the Azure portal - model deployment'\n"
      ],
      "metadata": {
        "id": "7ENeTEuXN-pu"
      },
      "execution_count": 11,
      "outputs": []
    },
    {
      "cell_type": "code",
      "source": [
        "from langchain_openai import AzureChatOpenAI\n",
        "from langchain.chains import LLMChain\n",
        "from langchain.prompts import PromptTemplate\n",
        "from langchain_core.output_parsers import StrOutputParser"
      ],
      "metadata": {
        "id": "6JF1hkhqPqbJ"
      },
      "execution_count": 12,
      "outputs": []
    },
    {
      "cell_type": "code",
      "source": [
        "llm = AzureChatOpenAI(\n",
        "            temperature=1,\n",
        "            azure_deployment=\"gpt-4o\",\n",
        "        )"
      ],
      "metadata": {
        "id": "s0zqB-jsPsRa"
      },
      "execution_count": 13,
      "outputs": []
    },
    {
      "cell_type": "markdown",
      "source": [
        "## Chain 1: Synopsis Chain."
      ],
      "metadata": {
        "id": "g835WcwZQ7hv"
      }
    },
    {
      "cell_type": "code",
      "source": [
        "synopsis_prompt = PromptTemplate.from_template(\n",
        "        \"\"\"\n",
        "            You are a playwright. Given the title of play, it is your job to write a synopsis for that title.\n",
        "\n",
        "            Title: {title}\n",
        "\n",
        "            Playwright: This is a synopsis for the above play:\n",
        "        \"\"\"\n",
        "    )"
      ],
      "metadata": {
        "id": "OJ3QQ6OpQbmj"
      },
      "execution_count": 14,
      "outputs": []
    },
    {
      "cell_type": "code",
      "source": [
        "synopsis_chain = LLMChain(llm=llm,\n",
        "                          prompt=synopsis_prompt)"
      ],
      "metadata": {
        "id": "yQBi49G7RBdc"
      },
      "execution_count": 15,
      "outputs": []
    },
    {
      "cell_type": "code",
      "source": [
        "synopsis_chain"
      ],
      "metadata": {
        "colab": {
          "base_uri": "https://localhost:8080/"
        },
        "id": "pVwQUbIRRESc",
        "outputId": "89aa99c2-6bf5-4ced-c257-5b7f0a3377d2"
      },
      "execution_count": 16,
      "outputs": [
        {
          "output_type": "execute_result",
          "data": {
            "text/plain": [
              "LLMChain(prompt=PromptTemplate(input_variables=['title'], template='\\n            You are a playwright. Given the title of play, it is your job to write a synopsis for that title.\\n        \\n            Title: {title}\\n            \\n            Playwright: This is a synopsis for the above play:\\n        '), llm=AzureChatOpenAI(client=<openai.resources.chat.completions.Completions object at 0x780c242d0d60>, async_client=<openai.resources.chat.completions.AsyncCompletions object at 0x780c240f0b80>, temperature=1.0, openai_api_key=SecretStr('**********'), openai_proxy='', azure_endpoint='https://mobility-sage-openai-services.openai.azure.com/', deployment_name='gpt-4o', openai_api_version='2024-05-01-preview', openai_api_type='azure_ad'))"
            ]
          },
          "metadata": {},
          "execution_count": 16
        }
      ]
    },
    {
      "cell_type": "markdown",
      "source": [
        "## Chain 2: Review Chain."
      ],
      "metadata": {
        "id": "J7nA7QO-RO0e"
      }
    },
    {
      "cell_type": "code",
      "source": [
        "review_prompt = PromptTemplate.from_template(\n",
        "    \"\"\"\n",
        "        You are a play critic from the New York Times. Given the synopsis of play, it is your job to write a review for that play.\n",
        "\n",
        "        Play Synopsis:\n",
        "        {synopsis}\n",
        "\n",
        "        Review from a New York Times play critic of the above play:\n",
        "    \"\"\"\n",
        "    )"
      ],
      "metadata": {
        "id": "lax00sAMRFui"
      },
      "execution_count": 17,
      "outputs": []
    },
    {
      "cell_type": "code",
      "source": [
        "review_chain = LLMChain(llm=llm,\n",
        "                        prompt=review_prompt)\n"
      ],
      "metadata": {
        "id": "Oi8giGGLRa1k"
      },
      "execution_count": 18,
      "outputs": []
    },
    {
      "cell_type": "code",
      "source": [
        "review_chain"
      ],
      "metadata": {
        "colab": {
          "base_uri": "https://localhost:8080/"
        },
        "id": "5y6FmKqpRdaK",
        "outputId": "75caf69b-9f4a-49a5-fb97-4dbaa1c74475"
      },
      "execution_count": 19,
      "outputs": [
        {
          "output_type": "execute_result",
          "data": {
            "text/plain": [
              "LLMChain(prompt=PromptTemplate(input_variables=['synopsis'], template='\\n        You are a play critic from the New York Times. Given the synopsis of play, it is your job to write a review for that play.\\n    \\n        Play Synopsis:\\n        {synopsis}\\n        \\n        Review from a New York Times play critic of the above play:\\n    '), llm=AzureChatOpenAI(client=<openai.resources.chat.completions.Completions object at 0x780c242d0d60>, async_client=<openai.resources.chat.completions.AsyncCompletions object at 0x780c240f0b80>, temperature=1.0, openai_api_key=SecretStr('**********'), openai_proxy='', azure_endpoint='https://mobility-sage-openai-services.openai.azure.com/', deployment_name='gpt-4o', openai_api_version='2024-05-01-preview', openai_api_type='azure_ad'))"
            ]
          },
          "metadata": {},
          "execution_count": 19
        }
      ]
    },
    {
      "cell_type": "markdown",
      "source": [
        "# Simple Sequential Chain"
      ],
      "metadata": {
        "id": "GHiRRWfCRfr7"
      }
    },
    {
      "cell_type": "code",
      "source": [
        "from langchain.chains import SimpleSequentialChain"
      ],
      "metadata": {
        "id": "PnkLiQw2Re7d"
      },
      "execution_count": 21,
      "outputs": []
    },
    {
      "cell_type": "code",
      "source": [
        "overall_chain = SimpleSequentialChain(\n",
        "    chains = [synopsis_chain, review_chain],\n",
        "    verbose = True\n",
        ")"
      ],
      "metadata": {
        "id": "am0UWWPRRm4G"
      },
      "execution_count": 22,
      "outputs": []
    },
    {
      "cell_type": "code",
      "source": [
        "overall_chain.run(\"Tragedy at sunset on the beach\")"
      ],
      "metadata": {
        "colab": {
          "base_uri": "https://localhost:8080/",
          "height": 1000
        },
        "id": "pWWD8RfuRwmq",
        "outputId": "f301f869-beee-4f7a-adb9-d41af5560690"
      },
      "execution_count": 23,
      "outputs": [
        {
          "output_type": "stream",
          "name": "stderr",
          "text": [
            "/usr/local/lib/python3.10/dist-packages/langchain_core/_api/deprecation.py:119: LangChainDeprecationWarning: The method `Chain.run` was deprecated in langchain 0.1.0 and will be removed in 0.3.0. Use invoke instead.\n",
            "  warn_deprecated(\n"
          ]
        },
        {
          "output_type": "stream",
          "name": "stdout",
          "text": [
            "\n",
            "\n",
            "\u001b[1m> Entering new SimpleSequentialChain chain...\u001b[0m\n",
            "\u001b[36;1m\u001b[1;3m**Tragedy at Sunset on the Beach**\n",
            "\n",
            "**Playwright:**\n",
            "\n",
            "*Synopsis:*\n",
            "\n",
            "Set against the backdrop of a secluded coastal village, \"Tragedy at Sunset on the Beach\" unfolds over the course of a single, fateful summer evening. The play explores themes of love, loss, and the ripple effects of choices made in desperation.\n",
            "\n",
            "The central characters are Emily, a young artist returning to her hometown after years in the city; Nathan, her estranged childhood love who's now a weary fisherman; and Laura, Nathan's vivacious but troubled wife, who harbors deep secrets of her own.\n",
            "\n",
            "The play opens with Emily arriving at the beach, seeking solace and inspiration in the familiar sunsets that once inspired her art. In the fading light, she unexpectedly encounters Nathan, who is wrestling with the burdens of his failing marriage and his sense of duty to a life he no longer recognizes. Despite their unresolved past, there is an undeniable connection between them.\n",
            "\n",
            "As the evening progresses and the sun inches towards the horizon, Emily and Nathan confront their shared history. Their candid conversation reveals lingering affections and regrets, setting off a chain of emotions that neither of them anticipated.\n",
            "\n",
            "Laura's arrival on the beach adds complexity to the unfolding drama. Loaded with the weight of her concealed despair and jealousy, she senses the rekindled spark between Emily and Nathan, igniting an explosive confrontation. The tension crescendos as the three characters confront their intertwined fates amid crashing waves and the encroaching twilight.\n",
            "\n",
            "In a moment of tragic irony, just as the sun sinks below the horizon, an accidental tumble on the rocky shoreline leaves Laura fatally injured. The once-beautiful sunset now casts a grim shadow over the beach as Nathan cradles his dying wife, grappling with guilt and a love that was never truly his to claim.\n",
            "\n",
            "Emily, devastated by the unintended consequences of her return, confronts the cruel twist of fate and her own intrusive role in the tragedy. The final scene leaves the audience with an image of Nathan alone on the dimming shore, bathed in the last light of the day, mourning the life he can never reclaim.\n",
            "\n",
            "\"Tragedy at Sunset on the Beach\" is a poignant exploration of human frailty, the relentless march of time, and the haunting echoes of unfulfilled destinies.\u001b[0m\n",
            "\u001b[33;1m\u001b[1;3m**A Sweeping Tale of Love and Loss: \"Tragedy at Sunset on the Beach\"**\n",
            "\n",
            "By [Your Name]\n",
            "\n",
            "Taking cues from the timeless themes of classic drama, \"Tragedy at Sunset on the Beach\" by [Playwright's Name] delivers a reverberating punch to the gut, casting its audience into the churning sea of human emotion and fragility. The melancholic coastal village setting is not just a backdrop but a living, breathing character in itself, mirroring the tempestuous inner lives of the play’s trio of protagonists. Indeed, this play’s haunting echoes linger long after the final bow.\n",
            "\n",
            "The narrative begins serenely enough, with Emily, a city-worn artist, returning to the village sunsets that once colored her canvases. From the moment she steps onto the sun-drenched sands, the stage is set for a convergence of past and present. Nathan, her childhood love turned weary fisherman, and Laura, his vibrant yet troubled spouse, form the rickety triangle at the heart of this emotional tempest.\n",
            "\n",
            "Emily’s encounter with Nathan is a masterclass in slow-burning tension. Reprising their unresolved history, the pair’s interaction is laden with unspoken regrets and wistful glances. It is in these heavy silences and tentative conversations that the play truly shines, capturing the messy complexity of human relationships in exquisite detail. The audience can feel the weighty burden of Nathan's reluctant marriage and Emily’s aspirational longing, a reunion bittersweet and fragile as the twilight.\n",
            "\n",
            "Laura’s arrival, however, shifts the tonal tides from remissive nostalgia to a brewing storm. Her character is a study in duality, her outward vivacity juxtaposed starkly with the dark secrets she hides. When she confronts the apparent rekindling of Emily and Nathan’s connection, the ensuing confrontation is charged with a raw, visceral energy. The crashing waves of the shoreline aptly parallel the escalating tension, culminating in a tragic irony that lands with a gut-wrenching impact.\n",
            "\n",
            "The climax of Laura’s untimely and accidental fall changes the course of the narrative like a tidal wave — swift and irrevocable. In the waning daylight, the beach morphs from a canvas of natural splendor to a site of heart-stopping tragedy. Nathan's anguish as he cradles his dying wife is a potent reminder of the fragility of life and love, a crescendo of emotion that leaves not a single eye dry in the house.\n",
            "\n",
            "Emily's devastation, poignantly portrayed, captures the essence of unintended consequences and uninvited responsibilities. She is left wrestling with the cruel notion of fate, reflecting the eternal human condition of confronting the unforeseen repercussions of one’s actions.\n",
            "\n",
            "The play’s final image is starkly unforgettable: Nathan alone on the dimming shore, a solitary figure embodying the irrevocable passage of time and loss. The final, fading light serves as a metaphor for lingering guilt and an unattainable past, cementing “Tragedy at Sunset on the Beach” as a stirring exploration of life's ephemeral beauty and its relentless tragedies.\n",
            "\n",
            "In essence, [Playwright's Name] has crafted a work of profound emotional resonance, tying universal themes of love, loss, and destiny to a singularly captivating setting. The play is indeed a tour de force, a reminder that while sunsets are inherently beautiful, they also signify an end. \"Tragedy at Sunset on the Beach\" captures this duality with an authenticity that will leave audiences contemplating their own sunsets and the shadows they cast.\u001b[0m\n",
            "\n",
            "\u001b[1m> Finished chain.\u001b[0m\n"
          ]
        },
        {
          "output_type": "execute_result",
          "data": {
            "text/plain": [
              "'**A Sweeping Tale of Love and Loss: \"Tragedy at Sunset on the Beach\"**\\n\\nBy [Your Name]\\n\\nTaking cues from the timeless themes of classic drama, \"Tragedy at Sunset on the Beach\" by [Playwright\\'s Name] delivers a reverberating punch to the gut, casting its audience into the churning sea of human emotion and fragility. The melancholic coastal village setting is not just a backdrop but a living, breathing character in itself, mirroring the tempestuous inner lives of the play’s trio of protagonists. Indeed, this play’s haunting echoes linger long after the final bow.\\n\\nThe narrative begins serenely enough, with Emily, a city-worn artist, returning to the village sunsets that once colored her canvases. From the moment she steps onto the sun-drenched sands, the stage is set for a convergence of past and present. Nathan, her childhood love turned weary fisherman, and Laura, his vibrant yet troubled spouse, form the rickety triangle at the heart of this emotional tempest.\\n\\nEmily’s encounter with Nathan is a masterclass in slow-burning tension. Reprising their unresolved history, the pair’s interaction is laden with unspoken regrets and wistful glances. It is in these heavy silences and tentative conversations that the play truly shines, capturing the messy complexity of human relationships in exquisite detail. The audience can feel the weighty burden of Nathan\\'s reluctant marriage and Emily’s aspirational longing, a reunion bittersweet and fragile as the twilight.\\n\\nLaura’s arrival, however, shifts the tonal tides from remissive nostalgia to a brewing storm. Her character is a study in duality, her outward vivacity juxtaposed starkly with the dark secrets she hides. When she confronts the apparent rekindling of Emily and Nathan’s connection, the ensuing confrontation is charged with a raw, visceral energy. The crashing waves of the shoreline aptly parallel the escalating tension, culminating in a tragic irony that lands with a gut-wrenching impact.\\n\\nThe climax of Laura’s untimely and accidental fall changes the course of the narrative like a tidal wave — swift and irrevocable. In the waning daylight, the beach morphs from a canvas of natural splendor to a site of heart-stopping tragedy. Nathan\\'s anguish as he cradles his dying wife is a potent reminder of the fragility of life and love, a crescendo of emotion that leaves not a single eye dry in the house.\\n\\nEmily\\'s devastation, poignantly portrayed, captures the essence of unintended consequences and uninvited responsibilities. She is left wrestling with the cruel notion of fate, reflecting the eternal human condition of confronting the unforeseen repercussions of one’s actions.\\n\\nThe play’s final image is starkly unforgettable: Nathan alone on the dimming shore, a solitary figure embodying the irrevocable passage of time and loss. The final, fading light serves as a metaphor for lingering guilt and an unattainable past, cementing “Tragedy at Sunset on the Beach” as a stirring exploration of life\\'s ephemeral beauty and its relentless tragedies.\\n\\nIn essence, [Playwright\\'s Name] has crafted a work of profound emotional resonance, tying universal themes of love, loss, and destiny to a singularly captivating setting. The play is indeed a tour de force, a reminder that while sunsets are inherently beautiful, they also signify an end. \"Tragedy at Sunset on the Beach\" captures this duality with an authenticity that will leave audiences contemplating their own sunsets and the shadows they cast.'"
            ],
            "application/vnd.google.colaboratory.intrinsic+json": {
              "type": "string"
            }
          },
          "metadata": {},
          "execution_count": 23
        }
      ]
    },
    {
      "cell_type": "code",
      "source": [],
      "metadata": {
        "id": "LMGmnhkXR54d"
      },
      "execution_count": null,
      "outputs": []
    }
  ]
}
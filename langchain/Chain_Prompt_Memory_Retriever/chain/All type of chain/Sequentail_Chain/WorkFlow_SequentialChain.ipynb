{
  "nbformat": 4,
  "nbformat_minor": 0,
  "metadata": {
    "colab": {
      "provenance": []
    },
    "kernelspec": {
      "name": "python3",
      "display_name": "Python 3"
    },
    "language_info": {
      "name": "python"
    }
  },
  "cells": [
    {
      "cell_type": "markdown",
      "source": [
        "## Sequential Chain\n",
        "\n",
        "Sequentially combining multiple LLMs by using the output of the first LLM as input for the second LLM"
      ],
      "metadata": {
        "id": "N8lHrhLBSUPr"
      }
    },
    {
      "cell_type": "code",
      "execution_count": null,
      "metadata": {
        "id": "66RRdICLRmY1"
      },
      "outputs": [],
      "source": [
        "# !pip install langchain langchain_openai openai"
      ]
    },
    {
      "cell_type": "code",
      "source": [
        "from langchain.chains import LLMChain, SimpleSequentialChain, SequentialChain\n",
        "from langchain.prompts import PromptTemplate\n",
        "from langchain_openai import ChatOpenAI\n",
        "import os\n",
        "\n",
        "from google.colab import userdata\n",
        "os.environ['OPENAI_API_KEY'] = userdata.get('OPENAI_API_KEY')\n",
        "\n",
        "llm = ChatOpenAI(temperature=0)"
      ],
      "metadata": {
        "id": "jjspeHGCSax8"
      },
      "execution_count": 25,
      "outputs": []
    },
    {
      "cell_type": "markdown",
      "source": [
        "1st LLM call"
      ],
      "metadata": {
        "id": "S2eXeewLS6mK"
      }
    },
    {
      "cell_type": "code",
      "source": [
        "first_template = \"\"\"\n",
        "Which is the most popular city in the {country} for tourist?\n",
        "Return the name of the city\n",
        "\"\"\"\n",
        "\n",
        "first_prompt_template = PromptTemplate(\n",
        "    input_variables=['country'],\n",
        "    template=first_template\n",
        ")\n",
        "\n",
        "chain_one = LLMChain(\n",
        "    llm = llm,\n",
        "    prompt = first_prompt_template\n",
        ")"
      ],
      "metadata": {
        "id": "88C7zDaeSq1e"
      },
      "execution_count": 26,
      "outputs": []
    },
    {
      "cell_type": "markdown",
      "source": [
        "**2nd LLM**"
      ],
      "metadata": {
        "id": "df8tHZ7-UwTo"
      }
    },
    {
      "cell_type": "code",
      "source": [
        "second_template = \"\"\"\n",
        "Suggest top 5 things to do in {city} for tourist.\n",
        "Provide answer in bullet points\n",
        "\"\"\"\n",
        "\n",
        "second_prompt_template = PromptTemplate(\n",
        "    input_variables=['city'],\n",
        "    template=second_template\n",
        ")\n",
        "\n",
        "chain_two = LLMChain(\n",
        "    llm = llm,\n",
        "    prompt = second_prompt_template\n",
        ")"
      ],
      "metadata": {
        "id": "ZA-p5NgrTn-d"
      },
      "execution_count": 27,
      "outputs": []
    },
    {
      "cell_type": "markdown",
      "source": [
        "**Simple Sequential Chain**"
      ],
      "metadata": {
        "id": "QQpOo1TSUBSp"
      }
    },
    {
      "cell_type": "code",
      "source": [
        "chain = SimpleSequentialChain(\n",
        "    chains=[chain_one, chain_two],\n",
        "    verbose = True\n",
        "    )"
      ],
      "metadata": {
        "id": "uqnwrTlYT_Y_"
      },
      "execution_count": 28,
      "outputs": []
    },
    {
      "cell_type": "code",
      "source": [
        "country = \"India\"\n",
        "response = chain.run(input = country)"
      ],
      "metadata": {
        "colab": {
          "base_uri": "https://localhost:8080/"
        },
        "id": "cqEQpXe6UPsj",
        "outputId": "acbcd012-3d59-47ff-f807-617f7ad683fe"
      },
      "execution_count": 29,
      "outputs": [
        {
          "output_type": "stream",
          "name": "stdout",
          "text": [
            "\n",
            "\n",
            "\u001b[1m> Entering new SimpleSequentialChain chain...\u001b[0m\n",
            "\u001b[36;1m\u001b[1;3mThe most popular city in India for tourists is Agra, known for the iconic Taj Mahal.\u001b[0m\n",
            "\u001b[33;1m\u001b[1;3m- Visit the Taj Mahal, one of the Seven Wonders of the World\n",
            "- Explore Agra Fort, a UNESCO World Heritage Site\n",
            "- Wander around the bustling streets of the old city and shop for local handicrafts\n",
            "- Visit Fatehpur Sikri, a historical city built by Emperor Akbar\n",
            "- Enjoy a traditional Mughlai meal at a local restaurant\u001b[0m\n",
            "\n",
            "\u001b[1m> Finished chain.\u001b[0m\n"
          ]
        }
      ]
    },
    {
      "cell_type": "markdown",
      "source": [
        "# Example 2:"
      ],
      "metadata": {
        "id": "uJ-VReEHR9uI"
      }
    },
    {
      "cell_type": "code",
      "source": [
        "first_template = \"\"\"\n",
        "  Which is the most popular city in the {country} for tourist?\n",
        "  Return the name of the city\n",
        "\"\"\"\n",
        "\n",
        "first_prompt_template = PromptTemplate(\n",
        "    input_variables=['country'],\n",
        "    template=first_template\n",
        ")\n",
        "\n",
        "chain_one = LLMChain(\n",
        "    llm = llm,\n",
        "    prompt = first_prompt_template,\n",
        "    output_key = \"city\"\n",
        ")"
      ],
      "metadata": {
        "id": "QufOUdwCUhFw"
      },
      "execution_count": 30,
      "outputs": []
    },
    {
      "cell_type": "code",
      "source": [
        "second_template = \"\"\"\n",
        "Suggest top 5 things to do in {city} for tourist.\n",
        "Provide answer in bullet points\n",
        "\"\"\"\n",
        "\n",
        "second_prompt_template = PromptTemplate(\n",
        "    input_variables=['city'],\n",
        "    template=second_template\n",
        ")\n",
        "\n",
        "chain_two = LLMChain(\n",
        "    llm = llm,\n",
        "    prompt = second_prompt_template,\n",
        "    output_key = 'todo'\n",
        ")"
      ],
      "metadata": {
        "id": "wjpbmRjRSSJ5"
      },
      "execution_count": 31,
      "outputs": []
    },
    {
      "cell_type": "markdown",
      "source": [
        "**Sequential Chain**"
      ],
      "metadata": {
        "id": "btHLjVYQTdNV"
      }
    },
    {
      "cell_type": "code",
      "source": [
        "chain = SequentialChain(\n",
        "    chains=[chain_one, chain_two],\n",
        "    input_variables=['country'],\n",
        "    output_variables=['city','todo'],\n",
        "    verbose = True\n",
        "    )"
      ],
      "metadata": {
        "id": "MFV0487ZShz3"
      },
      "execution_count": 32,
      "outputs": []
    },
    {
      "cell_type": "code",
      "source": [
        "country = \"India\"\n",
        "# response = chain.run(country) # `run` not supported when there is not exactly one output key. Got ['city', 'todo'].\n",
        "response = chain.invoke(input = country)"
      ],
      "metadata": {
        "colab": {
          "base_uri": "https://localhost:8080/"
        },
        "id": "TeYTMciiSmyB",
        "outputId": "1b07ef02-e274-4a1a-94b2-1fda47a002dc"
      },
      "execution_count": 38,
      "outputs": [
        {
          "output_type": "stream",
          "name": "stdout",
          "text": [
            "\n",
            "\n",
            "\u001b[1m> Entering new SequentialChain chain...\u001b[0m\n",
            "\n",
            "\u001b[1m> Finished chain.\u001b[0m\n"
          ]
        }
      ]
    },
    {
      "cell_type": "code",
      "source": [
        "response"
      ],
      "metadata": {
        "colab": {
          "base_uri": "https://localhost:8080/"
        },
        "id": "3RUUX3EUSs3n",
        "outputId": "f7a7d86b-3c23-47cd-b9bf-eab102dcfe0b"
      },
      "execution_count": 39,
      "outputs": [
        {
          "output_type": "execute_result",
          "data": {
            "text/plain": [
              "{'country': 'India',\n",
              " 'city': 'The most popular city in India for tourists is Agra.',\n",
              " 'todo': '- Visit the iconic Taj Mahal, one of the Seven Wonders of the World\\n- Explore the Agra Fort, a UNESCO World Heritage Site\\n- Wander around the bustling streets of the old city and shop for local handicrafts\\n- Enjoy a traditional Mughlai meal at a local restaurant\\n- Take a day trip to Fatehpur Sikri, a historical city located near Agra'}"
            ]
          },
          "metadata": {},
          "execution_count": 39
        }
      ]
    },
    {
      "cell_type": "code",
      "source": [],
      "metadata": {
        "id": "aPSMgFFkTXhY"
      },
      "execution_count": null,
      "outputs": []
    }
  ]
}
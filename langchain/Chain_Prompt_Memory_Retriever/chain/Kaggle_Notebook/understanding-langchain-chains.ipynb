{
 "cells": [
  {
   "cell_type": "markdown",
   "id": "9fd823ee",
   "metadata": {
    "_cell_guid": "b1076dfc-b9ad-4769-8c92-a6c4dae69d19",
    "_uuid": "8f2839f25d086af736a60e9eeb907d3b93b6e0e5",
    "papermill": {
     "duration": 0.013032,
     "end_time": "2024-05-25T14:48:53.713664",
     "exception": false,
     "start_time": "2024-05-25T14:48:53.700632",
     "status": "completed"
    },
    "tags": []
   },
   "source": [
    "# <center style=\"font-family: consolas; font-size: 32px; font-weight: bold;\">  Understanding LangChain Chains for Large Language Model Application Development\n",
    " </center>\n",
    "\n",
    "<center style=\"font-family: consolas; font-size: 32px; font-weight: bold;\">  Hands-On LangChain for LLMs App Development: Chains </center> \n",
    "\n",
    "\n",
    "\n",
    "***\n",
    "\n",
    "One of the fundamental pillars of LangChain, as implied by its name, is the concept of \"chains.\" These chains typically integrate a large language model (LLM) with a prompt.\n",
    "\n",
    "Through these chain structures, you have the ability to assemble multiple building blocks, enabling the execution of a series of operations on your text or other data.\n",
    "\n",
    "This notebook will delve into the significance of these chains, ranging from basic forms like the Simple Sequential Chain to more sophisticated variations such as the Router Chain, elucidated with practical illustrations."
   ]
  },
  {
   "cell_type": "markdown",
   "id": "fc68a150",
   "metadata": {
    "papermill": {
     "duration": 0.012039,
     "end_time": "2024-05-25T14:48:53.738699",
     "exception": false,
     "start_time": "2024-05-25T14:48:53.726660",
     "status": "completed"
    },
    "tags": []
   },
   "source": [
    "#### <a id=\"top\"></a>\n",
    "# <div style=\"box-shadow: rgb(60, 121, 245) 0px 0px 0px 3px inset, rgb(255, 255, 255) 10px -10px 0px -3px, rgb(31, 193, 27) 10px -10px, rgb(255, 255, 255) 20px -20px 0px -3px, rgb(255, 217, 19) 20px -20px, rgb(255, 255, 255) 30px -30px 0px -3px, rgb(255, 156, 85) 30px -30px, rgb(255, 255, 255) 40px -40px 0px -3px, rgb(255, 85, 85) 40px -40px; padding:20px; margin-right: 40px; font-size:30px; font-family: consolas; text-align:center; display:fill; border-radius:15px; color:rgb(60, 121, 245);\"><b>Table of contents</b></div>\n",
    "\n",
    "<div style=\"background-color: rgba(60, 121, 245, 0.03); padding:30px; font-size:15px; font-family: consolas;\">\n",
    "<ul>\n",
    "    <li><a href=\"#1\" target=\"_self\" rel=\" noreferrer nofollow\">1. Setting Up Working Environment & Getting Started </a> </li>\n",
    "    <li><a href=\"#2\" target=\"_self\" rel=\" noreferrer nofollow\">2. LLM Chain </a></li>\n",
    "    <li><a href=\"#3\" target=\"_self\" rel=\" noreferrer nofollow\">3. Sequential Chains </a> \n",
    "        <ul>\n",
    "<li><a href=\"#3.1\" target=\"_self\" rel=\" noreferrer nofollow\">3.1. Simple Sequential Chain</a></li>\n",
    "<li><a href=\"#3.2\" target=\"_self\" rel=\" noreferrer nofollow\">3.2. Complex Sequential Chain</a></li>    \n",
    "   </ul>\n",
    "    </li>\n",
    "    <li><a href=\"#4\" target=\"_self\" rel=\" noreferrer nofollow\">4. Router Chain </a></li> \n",
    "</ul>\n",
    "</div>\n",
    "\n",
    "***\n"
   ]
  },
  {
   "cell_type": "markdown",
   "id": "fe35495e",
   "metadata": {
    "papermill": {
     "duration": 0.014264,
     "end_time": "2024-05-25T14:48:53.765199",
     "exception": false,
     "start_time": "2024-05-25T14:48:53.750935",
     "status": "completed"
    },
    "tags": []
   },
   "source": [
    "<a id=\"1\"></a>\n",
    "# <div style=\"box-shadow: rgba(0, 0, 0, 0.16) 0px 1px 4px inset, rgb(51, 51, 51) 0px 0px 0px 3px inset; padding:20px; font-size:32px; font-family: consolas; text-align:center; display:fill; border-radius:15px;  color:rgb(34, 34, 34);\"> <b> 1. Setting Up Working Environment & Getting Started </b></div>\n",
    "\n",
    "We will start by loading the environment variables and the LLM that we will use in this article. Then we’re also going to load the data examples that we’re going to use.\n",
    "\n"
   ]
  },
  {
   "cell_type": "code",
   "execution_count": 1,
   "id": "4d2e17e4",
   "metadata": {
    "execution": {
     "iopub.execute_input": "2024-05-25T14:48:53.792138Z",
     "iopub.status.busy": "2024-05-25T14:48:53.791509Z",
     "iopub.status.idle": "2024-05-25T14:49:42.223709Z",
     "shell.execute_reply": "2024-05-25T14:49:42.222163Z"
    },
    "papermill": {
     "duration": 48.448957,
     "end_time": "2024-05-25T14:49:42.226501",
     "exception": false,
     "start_time": "2024-05-25T14:48:53.777544",
     "status": "completed"
    },
    "tags": []
   },
   "outputs": [
    {
     "name": "stdout",
     "output_type": "stream",
     "text": [
      "Collecting langchain\r\n",
      "  Downloading langchain-0.2.1-py3-none-any.whl.metadata (13 kB)\r\n",
      "Requirement already satisfied: PyYAML>=5.3 in /opt/conda/lib/python3.10/site-packages (from langchain) (6.0.1)\r\n",
      "Requirement already satisfied: SQLAlchemy<3,>=1.4 in /opt/conda/lib/python3.10/site-packages (from langchain) (2.0.25)\r\n",
      "Requirement already satisfied: aiohttp<4.0.0,>=3.8.3 in /opt/conda/lib/python3.10/site-packages (from langchain) (3.9.1)\r\n",
      "Requirement already satisfied: async-timeout<5.0.0,>=4.0.0 in /opt/conda/lib/python3.10/site-packages (from langchain) (4.0.3)\r\n",
      "Collecting langchain-core<0.3.0,>=0.2.0 (from langchain)\r\n",
      "  Downloading langchain_core-0.2.1-py3-none-any.whl.metadata (5.9 kB)\r\n",
      "Collecting langchain-text-splitters<0.3.0,>=0.2.0 (from langchain)\r\n",
      "  Downloading langchain_text_splitters-0.2.0-py3-none-any.whl.metadata (2.2 kB)\r\n",
      "Collecting langsmith<0.2.0,>=0.1.17 (from langchain)\r\n",
      "  Downloading langsmith-0.1.63-py3-none-any.whl.metadata (13 kB)\r\n",
      "Requirement already satisfied: numpy<2,>=1 in /opt/conda/lib/python3.10/site-packages (from langchain) (1.26.4)\r\n",
      "Requirement already satisfied: pydantic<3,>=1 in /opt/conda/lib/python3.10/site-packages (from langchain) (2.5.3)\r\n",
      "Requirement already satisfied: requests<3,>=2 in /opt/conda/lib/python3.10/site-packages (from langchain) (2.31.0)\r\n",
      "Requirement already satisfied: tenacity<9.0.0,>=8.1.0 in /opt/conda/lib/python3.10/site-packages (from langchain) (8.2.3)\r\n",
      "Requirement already satisfied: attrs>=17.3.0 in /opt/conda/lib/python3.10/site-packages (from aiohttp<4.0.0,>=3.8.3->langchain) (23.2.0)\r\n",
      "Requirement already satisfied: multidict<7.0,>=4.5 in /opt/conda/lib/python3.10/site-packages (from aiohttp<4.0.0,>=3.8.3->langchain) (6.0.4)\r\n",
      "Requirement already satisfied: yarl<2.0,>=1.0 in /opt/conda/lib/python3.10/site-packages (from aiohttp<4.0.0,>=3.8.3->langchain) (1.9.3)\r\n",
      "Requirement already satisfied: frozenlist>=1.1.1 in /opt/conda/lib/python3.10/site-packages (from aiohttp<4.0.0,>=3.8.3->langchain) (1.4.1)\r\n",
      "Requirement already satisfied: aiosignal>=1.1.2 in /opt/conda/lib/python3.10/site-packages (from aiohttp<4.0.0,>=3.8.3->langchain) (1.3.1)\r\n",
      "Requirement already satisfied: jsonpatch<2.0,>=1.33 in /opt/conda/lib/python3.10/site-packages (from langchain-core<0.3.0,>=0.2.0->langchain) (1.33)\r\n",
      "Collecting packaging<24.0,>=23.2 (from langchain-core<0.3.0,>=0.2.0->langchain)\r\n",
      "  Downloading packaging-23.2-py3-none-any.whl.metadata (3.2 kB)\r\n",
      "Collecting orjson<4.0.0,>=3.9.14 (from langsmith<0.2.0,>=0.1.17->langchain)\r\n",
      "  Downloading orjson-3.10.3-cp310-cp310-manylinux_2_17_x86_64.manylinux2014_x86_64.whl.metadata (49 kB)\r\n",
      "\u001b[2K     \u001b[90m━━━━━━━━━━━━━━━━━━━━━━━━━━━━━━━━━━━━━━━━\u001b[0m \u001b[32m49.7/49.7 kB\u001b[0m \u001b[31m2.2 MB/s\u001b[0m eta \u001b[36m0:00:00\u001b[0m\r\n",
      "\u001b[?25hRequirement already satisfied: annotated-types>=0.4.0 in /opt/conda/lib/python3.10/site-packages (from pydantic<3,>=1->langchain) (0.6.0)\r\n",
      "Requirement already satisfied: pydantic-core==2.14.6 in /opt/conda/lib/python3.10/site-packages (from pydantic<3,>=1->langchain) (2.14.6)\r\n",
      "Requirement already satisfied: typing-extensions>=4.6.1 in /opt/conda/lib/python3.10/site-packages (from pydantic<3,>=1->langchain) (4.9.0)\r\n",
      "Requirement already satisfied: charset-normalizer<4,>=2 in /opt/conda/lib/python3.10/site-packages (from requests<3,>=2->langchain) (3.3.2)\r\n",
      "Requirement already satisfied: idna<4,>=2.5 in /opt/conda/lib/python3.10/site-packages (from requests<3,>=2->langchain) (3.6)\r\n",
      "Requirement already satisfied: urllib3<3,>=1.21.1 in /opt/conda/lib/python3.10/site-packages (from requests<3,>=2->langchain) (1.26.18)\r\n",
      "Requirement already satisfied: certifi>=2017.4.17 in /opt/conda/lib/python3.10/site-packages (from requests<3,>=2->langchain) (2024.2.2)\r\n",
      "Requirement already satisfied: greenlet!=0.4.17 in /opt/conda/lib/python3.10/site-packages (from SQLAlchemy<3,>=1.4->langchain) (3.0.3)\r\n",
      "Requirement already satisfied: jsonpointer>=1.9 in /opt/conda/lib/python3.10/site-packages (from jsonpatch<2.0,>=1.33->langchain-core<0.3.0,>=0.2.0->langchain) (2.4)\r\n",
      "Downloading langchain-0.2.1-py3-none-any.whl (973 kB)\r\n",
      "\u001b[2K   \u001b[90m━━━━━━━━━━━━━━━━━━━━━━━━━━━━━━━━━━━━━━━━\u001b[0m \u001b[32m973.5/973.5 kB\u001b[0m \u001b[31m25.7 MB/s\u001b[0m eta \u001b[36m0:00:00\u001b[0m\r\n",
      "\u001b[?25hDownloading langchain_core-0.2.1-py3-none-any.whl (308 kB)\r\n",
      "\u001b[2K   \u001b[90m━━━━━━━━━━━━━━━━━━━━━━━━━━━━━━━━━━━━━━━━\u001b[0m \u001b[32m308.5/308.5 kB\u001b[0m \u001b[31m12.1 MB/s\u001b[0m eta \u001b[36m0:00:00\u001b[0m\r\n",
      "\u001b[?25hDownloading langchain_text_splitters-0.2.0-py3-none-any.whl (23 kB)\r\n",
      "Downloading langsmith-0.1.63-py3-none-any.whl (122 kB)\r\n",
      "\u001b[2K   \u001b[90m━━━━━━━━━━━━━━━━━━━━━━━━━━━━━━━━━━━━━━━━\u001b[0m \u001b[32m122.8/122.8 kB\u001b[0m \u001b[31m5.6 MB/s\u001b[0m eta \u001b[36m0:00:00\u001b[0m\r\n",
      "\u001b[?25hDownloading orjson-3.10.3-cp310-cp310-manylinux_2_17_x86_64.manylinux2014_x86_64.whl (142 kB)\r\n",
      "\u001b[2K   \u001b[90m━━━━━━━━━━━━━━━━━━━━━━━━━━━━━━━━━━━━━━━━\u001b[0m \u001b[32m142.5/142.5 kB\u001b[0m \u001b[31m5.9 MB/s\u001b[0m eta \u001b[36m0:00:00\u001b[0m\r\n",
      "\u001b[?25hDownloading packaging-23.2-py3-none-any.whl (53 kB)\r\n",
      "\u001b[2K   \u001b[90m━━━━━━━━━━━━━━━━━━━━━━━━━━━━━━━━━━━━━━━━\u001b[0m \u001b[32m53.0/53.0 kB\u001b[0m \u001b[31m2.7 MB/s\u001b[0m eta \u001b[36m0:00:00\u001b[0m\r\n",
      "\u001b[?25hInstalling collected packages: packaging, orjson, langsmith, langchain-core, langchain-text-splitters, langchain\r\n",
      "  Attempting uninstall: packaging\r\n",
      "    Found existing installation: packaging 21.3\r\n",
      "    Uninstalling packaging-21.3:\r\n",
      "      Successfully uninstalled packaging-21.3\r\n",
      "  Attempting uninstall: orjson\r\n",
      "    Found existing installation: orjson 3.9.10\r\n",
      "    Uninstalling orjson-3.9.10:\r\n",
      "      Successfully uninstalled orjson-3.9.10\r\n",
      "\u001b[31mERROR: pip's dependency resolver does not currently take into account all the packages that are installed. This behaviour is the source of the following dependency conflicts.\r\n",
      "keras-cv 0.8.2 requires keras-core, which is not installed.\r\n",
      "keras-nlp 0.9.3 requires keras-core, which is not installed.\r\n",
      "tensorflow-decision-forests 1.8.1 requires wurlitzer, which is not installed.\r\n",
      "apache-beam 2.46.0 requires dill<0.3.2,>=0.3.1.1, but you have dill 0.3.8 which is incompatible.\r\n",
      "apache-beam 2.46.0 requires numpy<1.25.0,>=1.14.3, but you have numpy 1.26.4 which is incompatible.\r\n",
      "apache-beam 2.46.0 requires pyarrow<10.0.0,>=3.0.0, but you have pyarrow 15.0.2 which is incompatible.\r\n",
      "google-cloud-bigquery 2.34.4 requires packaging<22.0dev,>=14.3, but you have packaging 23.2 which is incompatible.\r\n",
      "jupyterlab 4.1.6 requires jupyter-lsp>=2.0.0, but you have jupyter-lsp 1.5.1 which is incompatible.\r\n",
      "jupyterlab-lsp 5.1.0 requires jupyter-lsp>=2.0.0, but you have jupyter-lsp 1.5.1 which is incompatible.\r\n",
      "libpysal 4.9.2 requires shapely>=2.0.1, but you have shapely 1.8.5.post1 which is incompatible.\r\n",
      "momepy 0.7.0 requires shapely>=2, but you have shapely 1.8.5.post1 which is incompatible.\r\n",
      "osmnx 1.9.2 requires shapely>=2.0, but you have shapely 1.8.5.post1 which is incompatible.\r\n",
      "spopt 0.6.0 requires shapely>=2.0.1, but you have shapely 1.8.5.post1 which is incompatible.\r\n",
      "tensorflow 2.15.0 requires keras<2.16,>=2.15.0, but you have keras 3.2.1 which is incompatible.\r\n",
      "ydata-profiling 4.6.4 requires numpy<1.26,>=1.16.0, but you have numpy 1.26.4 which is incompatible.\u001b[0m\u001b[31m\r\n",
      "\u001b[0mSuccessfully installed langchain-0.2.1 langchain-core-0.2.1 langchain-text-splitters-0.2.0 langsmith-0.1.63 orjson-3.10.3 packaging-23.2\r\n",
      "Collecting langchain_community\r\n",
      "  Downloading langchain_community-0.2.1-py3-none-any.whl.metadata (8.9 kB)\r\n",
      "Requirement already satisfied: PyYAML>=5.3 in /opt/conda/lib/python3.10/site-packages (from langchain_community) (6.0.1)\r\n",
      "Requirement already satisfied: SQLAlchemy<3,>=1.4 in /opt/conda/lib/python3.10/site-packages (from langchain_community) (2.0.25)\r\n",
      "Requirement already satisfied: aiohttp<4.0.0,>=3.8.3 in /opt/conda/lib/python3.10/site-packages (from langchain_community) (3.9.1)\r\n",
      "Requirement already satisfied: dataclasses-json<0.7,>=0.5.7 in /opt/conda/lib/python3.10/site-packages (from langchain_community) (0.6.4)\r\n",
      "Requirement already satisfied: langchain<0.3.0,>=0.2.0 in /opt/conda/lib/python3.10/site-packages (from langchain_community) (0.2.1)\r\n",
      "Requirement already satisfied: langchain-core<0.3.0,>=0.2.0 in /opt/conda/lib/python3.10/site-packages (from langchain_community) (0.2.1)\r\n",
      "Requirement already satisfied: langsmith<0.2.0,>=0.1.0 in /opt/conda/lib/python3.10/site-packages (from langchain_community) (0.1.63)\r\n",
      "Requirement already satisfied: numpy<2,>=1 in /opt/conda/lib/python3.10/site-packages (from langchain_community) (1.26.4)\r\n",
      "Requirement already satisfied: requests<3,>=2 in /opt/conda/lib/python3.10/site-packages (from langchain_community) (2.31.0)\r\n",
      "Requirement already satisfied: tenacity<9.0.0,>=8.1.0 in /opt/conda/lib/python3.10/site-packages (from langchain_community) (8.2.3)\r\n",
      "Requirement already satisfied: attrs>=17.3.0 in /opt/conda/lib/python3.10/site-packages (from aiohttp<4.0.0,>=3.8.3->langchain_community) (23.2.0)\r\n",
      "Requirement already satisfied: multidict<7.0,>=4.5 in /opt/conda/lib/python3.10/site-packages (from aiohttp<4.0.0,>=3.8.3->langchain_community) (6.0.4)\r\n",
      "Requirement already satisfied: yarl<2.0,>=1.0 in /opt/conda/lib/python3.10/site-packages (from aiohttp<4.0.0,>=3.8.3->langchain_community) (1.9.3)\r\n",
      "Requirement already satisfied: frozenlist>=1.1.1 in /opt/conda/lib/python3.10/site-packages (from aiohttp<4.0.0,>=3.8.3->langchain_community) (1.4.1)\r\n",
      "Requirement already satisfied: aiosignal>=1.1.2 in /opt/conda/lib/python3.10/site-packages (from aiohttp<4.0.0,>=3.8.3->langchain_community) (1.3.1)\r\n",
      "Requirement already satisfied: async-timeout<5.0,>=4.0 in /opt/conda/lib/python3.10/site-packages (from aiohttp<4.0.0,>=3.8.3->langchain_community) (4.0.3)\r\n",
      "Requirement already satisfied: marshmallow<4.0.0,>=3.18.0 in /opt/conda/lib/python3.10/site-packages (from dataclasses-json<0.7,>=0.5.7->langchain_community) (3.21.1)\r\n",
      "Requirement already satisfied: typing-inspect<1,>=0.4.0 in /opt/conda/lib/python3.10/site-packages (from dataclasses-json<0.7,>=0.5.7->langchain_community) (0.9.0)\r\n",
      "Requirement already satisfied: langchain-text-splitters<0.3.0,>=0.2.0 in /opt/conda/lib/python3.10/site-packages (from langchain<0.3.0,>=0.2.0->langchain_community) (0.2.0)\r\n",
      "Requirement already satisfied: pydantic<3,>=1 in /opt/conda/lib/python3.10/site-packages (from langchain<0.3.0,>=0.2.0->langchain_community) (2.5.3)\r\n",
      "Requirement already satisfied: jsonpatch<2.0,>=1.33 in /opt/conda/lib/python3.10/site-packages (from langchain-core<0.3.0,>=0.2.0->langchain_community) (1.33)\r\n",
      "Requirement already satisfied: packaging<24.0,>=23.2 in /opt/conda/lib/python3.10/site-packages (from langchain-core<0.3.0,>=0.2.0->langchain_community) (23.2)\r\n",
      "Requirement already satisfied: orjson<4.0.0,>=3.9.14 in /opt/conda/lib/python3.10/site-packages (from langsmith<0.2.0,>=0.1.0->langchain_community) (3.10.3)\r\n",
      "Requirement already satisfied: charset-normalizer<4,>=2 in /opt/conda/lib/python3.10/site-packages (from requests<3,>=2->langchain_community) (3.3.2)\r\n",
      "Requirement already satisfied: idna<4,>=2.5 in /opt/conda/lib/python3.10/site-packages (from requests<3,>=2->langchain_community) (3.6)\r\n",
      "Requirement already satisfied: urllib3<3,>=1.21.1 in /opt/conda/lib/python3.10/site-packages (from requests<3,>=2->langchain_community) (1.26.18)\r\n",
      "Requirement already satisfied: certifi>=2017.4.17 in /opt/conda/lib/python3.10/site-packages (from requests<3,>=2->langchain_community) (2024.2.2)\r\n",
      "Requirement already satisfied: typing-extensions>=4.6.0 in /opt/conda/lib/python3.10/site-packages (from SQLAlchemy<3,>=1.4->langchain_community) (4.9.0)\r\n",
      "Requirement already satisfied: greenlet!=0.4.17 in /opt/conda/lib/python3.10/site-packages (from SQLAlchemy<3,>=1.4->langchain_community) (3.0.3)\r\n",
      "Requirement already satisfied: jsonpointer>=1.9 in /opt/conda/lib/python3.10/site-packages (from jsonpatch<2.0,>=1.33->langchain-core<0.3.0,>=0.2.0->langchain_community) (2.4)\r\n",
      "Requirement already satisfied: annotated-types>=0.4.0 in /opt/conda/lib/python3.10/site-packages (from pydantic<3,>=1->langchain<0.3.0,>=0.2.0->langchain_community) (0.6.0)\r\n",
      "Requirement already satisfied: pydantic-core==2.14.6 in /opt/conda/lib/python3.10/site-packages (from pydantic<3,>=1->langchain<0.3.0,>=0.2.0->langchain_community) (2.14.6)\r\n",
      "Requirement already satisfied: mypy-extensions>=0.3.0 in /opt/conda/lib/python3.10/site-packages (from typing-inspect<1,>=0.4.0->dataclasses-json<0.7,>=0.5.7->langchain_community) (1.0.0)\r\n",
      "Downloading langchain_community-0.2.1-py3-none-any.whl (2.1 MB)\r\n",
      "\u001b[2K   \u001b[90m━━━━━━━━━━━━━━━━━━━━━━━━━━━━━━━━━━━━━━━━\u001b[0m \u001b[32m2.1/2.1 MB\u001b[0m \u001b[31m33.9 MB/s\u001b[0m eta \u001b[36m0:00:00\u001b[0m\r\n",
      "\u001b[?25hInstalling collected packages: langchain_community\r\n",
      "Successfully installed langchain_community-0.2.1\r\n",
      "Collecting openai\r\n",
      "  Downloading openai-1.30.3-py3-none-any.whl.metadata (21 kB)\r\n",
      "Requirement already satisfied: anyio<5,>=3.5.0 in /opt/conda/lib/python3.10/site-packages (from openai) (4.2.0)\r\n",
      "Requirement already satisfied: distro<2,>=1.7.0 in /opt/conda/lib/python3.10/site-packages (from openai) (1.9.0)\r\n",
      "Requirement already satisfied: httpx<1,>=0.23.0 in /opt/conda/lib/python3.10/site-packages (from openai) (0.27.0)\r\n",
      "Requirement already satisfied: pydantic<3,>=1.9.0 in /opt/conda/lib/python3.10/site-packages (from openai) (2.5.3)\r\n",
      "Requirement already satisfied: sniffio in /opt/conda/lib/python3.10/site-packages (from openai) (1.3.0)\r\n",
      "Requirement already satisfied: tqdm>4 in /opt/conda/lib/python3.10/site-packages (from openai) (4.66.1)\r\n",
      "Requirement already satisfied: typing-extensions<5,>=4.7 in /opt/conda/lib/python3.10/site-packages (from openai) (4.9.0)\r\n",
      "Requirement already satisfied: idna>=2.8 in /opt/conda/lib/python3.10/site-packages (from anyio<5,>=3.5.0->openai) (3.6)\r\n",
      "Requirement already satisfied: exceptiongroup>=1.0.2 in /opt/conda/lib/python3.10/site-packages (from anyio<5,>=3.5.0->openai) (1.2.0)\r\n",
      "Requirement already satisfied: certifi in /opt/conda/lib/python3.10/site-packages (from httpx<1,>=0.23.0->openai) (2024.2.2)\r\n",
      "Requirement already satisfied: httpcore==1.* in /opt/conda/lib/python3.10/site-packages (from httpx<1,>=0.23.0->openai) (1.0.5)\r\n",
      "Requirement already satisfied: h11<0.15,>=0.13 in /opt/conda/lib/python3.10/site-packages (from httpcore==1.*->httpx<1,>=0.23.0->openai) (0.14.0)\r\n",
      "Requirement already satisfied: annotated-types>=0.4.0 in /opt/conda/lib/python3.10/site-packages (from pydantic<3,>=1.9.0->openai) (0.6.0)\r\n",
      "Requirement already satisfied: pydantic-core==2.14.6 in /opt/conda/lib/python3.10/site-packages (from pydantic<3,>=1.9.0->openai) (2.14.6)\r\n",
      "Downloading openai-1.30.3-py3-none-any.whl (320 kB)\r\n",
      "\u001b[2K   \u001b[90m━━━━━━━━━━━━━━━━━━━━━━━━━━━━━━━━━━━━━━━━\u001b[0m \u001b[32m320.6/320.6 kB\u001b[0m \u001b[31m9.4 MB/s\u001b[0m eta \u001b[36m0:00:00\u001b[0m\r\n",
      "\u001b[?25hInstalling collected packages: openai\r\n",
      "Successfully installed openai-1.30.3\r\n"
     ]
    }
   ],
   "source": [
    "!pip install langchain\n",
    "!pip install langchain_community\n",
    "!pip install openai\n",
    "\n",
    "import os\n",
    "import openai\n",
    "\n",
    "from openai import OpenAI\n",
    "import openai\n",
    "import os\n",
    "from kaggle_secrets import UserSecretsClient\n",
    "\n",
    "user_secrets = UserSecretsClient()\n",
    "openai.api_key = user_secrets.get_secret(\"openai_api\")\n",
    "client = OpenAI(\n",
    "    # This is the default and can be omitted\n",
    "    api_key=openai.api_key,\n",
    ")\n",
    "\n",
    "llm_model = \"gpt-3.5-turbo\""
   ]
  },
  {
   "cell_type": "code",
   "execution_count": 2,
   "id": "c41dfcf6",
   "metadata": {
    "execution": {
     "iopub.execute_input": "2024-05-25T14:49:42.259601Z",
     "iopub.status.busy": "2024-05-25T14:49:42.259061Z",
     "iopub.status.idle": "2024-05-25T14:49:43.212809Z",
     "shell.execute_reply": "2024-05-25T14:49:43.211598Z"
    },
    "papermill": {
     "duration": 0.973503,
     "end_time": "2024-05-25T14:49:43.215257",
     "exception": false,
     "start_time": "2024-05-25T14:49:42.241754",
     "status": "completed"
    },
    "tags": []
   },
   "outputs": [
    {
     "data": {
      "text/html": [
       "<div>\n",
       "<style scoped>\n",
       "    .dataframe tbody tr th:only-of-type {\n",
       "        vertical-align: middle;\n",
       "    }\n",
       "\n",
       "    .dataframe tbody tr th {\n",
       "        vertical-align: top;\n",
       "    }\n",
       "\n",
       "    .dataframe thead th {\n",
       "        text-align: right;\n",
       "    }\n",
       "</style>\n",
       "<table border=\"1\" class=\"dataframe\">\n",
       "  <thead>\n",
       "    <tr style=\"text-align: right;\">\n",
       "      <th></th>\n",
       "      <th>Product</th>\n",
       "      <th>Review</th>\n",
       "    </tr>\n",
       "  </thead>\n",
       "  <tbody>\n",
       "    <tr>\n",
       "      <th>0</th>\n",
       "      <td>Queen Size Sheet Set</td>\n",
       "      <td>I ordered a king size set. My only criticism w...</td>\n",
       "    </tr>\n",
       "    <tr>\n",
       "      <th>1</th>\n",
       "      <td>Waterproof Phone Pouch</td>\n",
       "      <td>I loved the waterproof sac, although the openi...</td>\n",
       "    </tr>\n",
       "    <tr>\n",
       "      <th>2</th>\n",
       "      <td>Luxury Air Mattress</td>\n",
       "      <td>This mattress had a small hole in the top of i...</td>\n",
       "    </tr>\n",
       "    <tr>\n",
       "      <th>3</th>\n",
       "      <td>Pillows Insert</td>\n",
       "      <td>This is the best throw pillow fillers on Amazo...</td>\n",
       "    </tr>\n",
       "    <tr>\n",
       "      <th>4</th>\n",
       "      <td>Milk Frother Handheld\\n</td>\n",
       "      <td>I loved this product. But they only seem to l...</td>\n",
       "    </tr>\n",
       "  </tbody>\n",
       "</table>\n",
       "</div>"
      ],
      "text/plain": [
       "                   Product                                             Review\n",
       "0     Queen Size Sheet Set  I ordered a king size set. My only criticism w...\n",
       "1   Waterproof Phone Pouch  I loved the waterproof sac, although the openi...\n",
       "2      Luxury Air Mattress  This mattress had a small hole in the top of i...\n",
       "3           Pillows Insert  This is the best throw pillow fillers on Amazo...\n",
       "4  Milk Frother Handheld\\n   I loved this product. But they only seem to l..."
      ]
     },
     "execution_count": 2,
     "metadata": {},
     "output_type": "execute_result"
    }
   ],
   "source": [
    "import pandas as pd\n",
    "data_path =  '/kaggle/input/product-review/product review.csv'\n",
    "df = pd.read_csv(data_path)\n",
    "df.head()"
   ]
  },
  {
   "cell_type": "markdown",
   "id": "5ce2a2ef",
   "metadata": {
    "papermill": {
     "duration": 0.015021,
     "end_time": "2024-05-25T14:49:43.245926",
     "exception": false,
     "start_time": "2024-05-25T14:49:43.230905",
     "status": "completed"
    },
    "tags": []
   },
   "source": [
    "If we look inside this pandas data frame, we can see that there is a product column and then a review column. Each of these rows is a different data point that we can start passing through our chains.  \n",
    "\n",
    "The first chain we’re going to cover is the LLM chain. This is a simple but really powerful chain that underpins a lot of the chains that we’ll go over in the future. \n",
    "\n"
   ]
  },
  {
   "cell_type": "markdown",
   "id": "78f0a5a9",
   "metadata": {
    "papermill": {
     "duration": 0.015666,
     "end_time": "2024-05-25T14:49:43.276882",
     "exception": false,
     "start_time": "2024-05-25T14:49:43.261216",
     "status": "completed"
    },
    "tags": []
   },
   "source": [
    "<a id=\"2\"></a>\n",
    "# <div style=\"box-shadow: rgba(0, 0, 0, 0.16) 0px 1px 4px inset, rgb(51, 51, 51) 0px 0px 0px 3px inset; padding:20px; font-size:32px; font-family: consolas; text-align:center; display:fill; border-radius:15px;  color:rgb(34, 34, 34);\"> <b> 2. LLM Chain </b></div>\n",
    "\n",
    "\n",
    "We will start with importing three different things. We’re going to import the OpenAI model, the chat prompt, and the LLMChain. \n"
   ]
  },
  {
   "cell_type": "code",
   "execution_count": 3,
   "id": "d46fd4e3",
   "metadata": {
    "execution": {
     "iopub.execute_input": "2024-05-25T14:49:43.311118Z",
     "iopub.status.busy": "2024-05-25T14:49:43.310762Z",
     "iopub.status.idle": "2024-05-25T14:49:43.813252Z",
     "shell.execute_reply": "2024-05-25T14:49:43.811814Z"
    },
    "papermill": {
     "duration": 0.523633,
     "end_time": "2024-05-25T14:49:43.816963",
     "exception": false,
     "start_time": "2024-05-25T14:49:43.293330",
     "status": "completed"
    },
    "tags": []
   },
   "outputs": [],
   "source": [
    "from langchain.chat_models import ChatOpenAI\n",
    "from langchain.prompts import ChatPromptTemplate\n",
    "from langchain.chains import LLMChain"
   ]
  },
  {
   "cell_type": "markdown",
   "id": "c85dff81",
   "metadata": {
    "papermill": {
     "duration": 0.015132,
     "end_time": "2024-05-25T14:49:43.848241",
     "exception": false,
     "start_time": "2024-05-25T14:49:43.833109",
     "status": "completed"
    },
    "tags": []
   },
   "source": [
    "Let's initialize the language model that we want to use. So we’re gonna initialize the chat open AI with a temperature, with a high temperature so that we can get diverse answers. "
   ]
  },
  {
   "cell_type": "code",
   "execution_count": 4,
   "id": "dd94a07a",
   "metadata": {
    "execution": {
     "iopub.execute_input": "2024-05-25T14:49:43.881348Z",
     "iopub.status.busy": "2024-05-25T14:49:43.880103Z",
     "iopub.status.idle": "2024-05-25T14:49:44.069546Z",
     "shell.execute_reply": "2024-05-25T14:49:44.067677Z"
    },
    "papermill": {
     "duration": 0.208694,
     "end_time": "2024-05-25T14:49:44.072149",
     "exception": false,
     "start_time": "2024-05-25T14:49:43.863455",
     "status": "completed"
    },
    "tags": []
   },
   "outputs": [
    {
     "name": "stderr",
     "output_type": "stream",
     "text": [
      "/opt/conda/lib/python3.10/site-packages/langchain_core/_api/deprecation.py:119: LangChainDeprecationWarning: The class `ChatOpenAI` was deprecated in LangChain 0.0.10 and will be removed in 0.3.0. An updated version of the class exists in the langchain-openai package and should be used instead. To use it run `pip install -U langchain-openai` and import as `from langchain_openai import ChatOpenAI`.\n",
      "  warn_deprecated(\n"
     ]
    }
   ],
   "source": [
    "\n",
    "llm = ChatOpenAI(temperature=0.9, model=llm_model, openai_api_key=openai.api_key)\n"
   ]
  },
  {
   "cell_type": "markdown",
   "id": "8228132d",
   "metadata": {
    "papermill": {
     "duration": 0.016253,
     "end_time": "2024-05-25T14:49:44.103902",
     "exception": false,
     "start_time": "2024-05-25T14:49:44.087649",
     "status": "completed"
    },
    "tags": []
   },
   "source": [
    "Now we will initialize a prompt and this prompt is going to take in a variable called product. It’s gonna ask the LLM to generate the best name to describe a company that makes that product."
   ]
  },
  {
   "cell_type": "code",
   "execution_count": 5,
   "id": "8453beeb",
   "metadata": {
    "execution": {
     "iopub.execute_input": "2024-05-25T14:49:44.152609Z",
     "iopub.status.busy": "2024-05-25T14:49:44.152026Z",
     "iopub.status.idle": "2024-05-25T14:49:44.157821Z",
     "shell.execute_reply": "2024-05-25T14:49:44.156670Z"
    },
    "papermill": {
     "duration": 0.034211,
     "end_time": "2024-05-25T14:49:44.160701",
     "exception": false,
     "start_time": "2024-05-25T14:49:44.126490",
     "status": "completed"
    },
    "tags": []
   },
   "outputs": [],
   "source": [
    "prompt = ChatPromptTemplate.from_template(\n",
    "    \"What is the best name to describe \\\n",
    "    a company that makes {product}?\"\n",
    ")"
   ]
  },
  {
   "cell_type": "markdown",
   "id": "ad53076c",
   "metadata": {
    "papermill": {
     "duration": 0.016534,
     "end_time": "2024-05-25T14:49:44.195529",
     "exception": false,
     "start_time": "2024-05-25T14:49:44.178995",
     "status": "completed"
    },
    "tags": []
   },
   "source": [
    "Finally, we’re going to combine these two things into a chain. This is what we call an LLM chain. And it’s quite simple. It’s just the combination of the LLM and the prompt. But now this chain will let us run through the prompt and into the LLM sequentially. \n",
    "\n"
   ]
  },
  {
   "cell_type": "code",
   "execution_count": 6,
   "id": "ae1b2c4c",
   "metadata": {
    "execution": {
     "iopub.execute_input": "2024-05-25T14:49:44.228935Z",
     "iopub.status.busy": "2024-05-25T14:49:44.228454Z",
     "iopub.status.idle": "2024-05-25T14:49:44.242263Z",
     "shell.execute_reply": "2024-05-25T14:49:44.241367Z"
    },
    "papermill": {
     "duration": 0.032994,
     "end_time": "2024-05-25T14:49:44.244534",
     "exception": false,
     "start_time": "2024-05-25T14:49:44.211540",
     "status": "completed"
    },
    "tags": []
   },
   "outputs": [
    {
     "name": "stderr",
     "output_type": "stream",
     "text": [
      "/opt/conda/lib/python3.10/site-packages/langchain_core/_api/deprecation.py:119: LangChainDeprecationWarning: The class `LLMChain` was deprecated in LangChain 0.1.17 and will be removed in 0.3.0. Use RunnableSequence, e.g., `prompt | llm` instead.\n",
      "  warn_deprecated(\n"
     ]
    }
   ],
   "source": [
    "chain = LLMChain(llm=llm, prompt=prompt)"
   ]
  },
  {
   "cell_type": "markdown",
   "id": "9e86e094",
   "metadata": {
    "papermill": {
     "duration": 0.017826,
     "end_time": "2024-05-25T14:49:44.278317",
     "exception": false,
     "start_time": "2024-05-25T14:49:44.260491",
     "status": "completed"
    },
    "tags": []
   },
   "source": [
    "If we have a product called Deep Learning GPUs, we can run this through the chain by using chain.run(). This will do is it will format the prompt under the hood, and then it will pass the whole prompt into the LLM. We can see that we get back the name of this hypothetical company called **DeepMind GPUs**."
   ]
  },
  {
   "cell_type": "code",
   "execution_count": 7,
   "id": "e9ac9a99",
   "metadata": {
    "execution": {
     "iopub.execute_input": "2024-05-25T14:49:44.312451Z",
     "iopub.status.busy": "2024-05-25T14:49:44.311707Z",
     "iopub.status.idle": "2024-05-25T14:49:45.021028Z",
     "shell.execute_reply": "2024-05-25T14:49:45.019066Z"
    },
    "papermill": {
     "duration": 0.729065,
     "end_time": "2024-05-25T14:49:45.023765",
     "exception": false,
     "start_time": "2024-05-25T14:49:44.294700",
     "status": "completed"
    },
    "tags": []
   },
   "outputs": [
    {
     "name": "stderr",
     "output_type": "stream",
     "text": [
      "/opt/conda/lib/python3.10/site-packages/langchain_core/_api/deprecation.py:119: LangChainDeprecationWarning: The method `Chain.run` was deprecated in langchain 0.1.0 and will be removed in 0.3.0. Use invoke instead.\n",
      "  warn_deprecated(\n"
     ]
    },
    {
     "data": {
      "text/plain": [
       "'DeepMind GPU Technologies'"
      ]
     },
     "execution_count": 7,
     "metadata": {},
     "output_type": "execute_result"
    }
   ],
   "source": [
    "product = \"Deep Learning GPUs\"\n",
    "chain.run(product)"
   ]
  },
  {
   "cell_type": "markdown",
   "id": "b0c6c270",
   "metadata": {
    "papermill": {
     "duration": 0.016763,
     "end_time": "2024-05-25T14:49:45.056410",
     "exception": false,
     "start_time": "2024-05-25T14:49:45.039647",
     "status": "completed"
    },
    "tags": []
   },
   "source": [
    "Here would be a good time to try it, you can input any product descriptions that you would want, and you can see what the chain will output as a result. \n",
    "\n",
    "So the LLM chain is the most basic type of chain, and that’s gonna be used a lot in the future. And so we can see how this will be used in the next type of chain, which will be sequential chains."
   ]
  },
  {
   "cell_type": "markdown",
   "id": "1f539cec",
   "metadata": {
    "papermill": {
     "duration": 0.015356,
     "end_time": "2024-05-25T14:49:45.088223",
     "exception": false,
     "start_time": "2024-05-25T14:49:45.072867",
     "status": "completed"
    },
    "tags": []
   },
   "source": [
    "<a id=\"3\"></a>\n",
    "# <div style=\"box-shadow: rgba(0, 0, 0, 0.16) 0px 1px 4px inset, rgb(51, 51, 51) 0px 0px 0px 3px inset; padding:20px; font-size:32px; font-family: consolas; text-align:center; display:fill; border-radius:15px;  color:rgb(34, 34, 34);\"> <b> 3. Sequential Chains </b></div>\n",
    "\n",
    "\n",
    "Sequential chains run a sequence of chains, one after another. So to start, you’re going to import the simple sequential chain. This works well when we have subchains that expect only one input and return only one outpu"
   ]
  },
  {
   "cell_type": "code",
   "execution_count": 8,
   "id": "de62405f",
   "metadata": {
    "execution": {
     "iopub.execute_input": "2024-05-25T14:49:45.123131Z",
     "iopub.status.busy": "2024-05-25T14:49:45.122760Z",
     "iopub.status.idle": "2024-05-25T14:49:45.135604Z",
     "shell.execute_reply": "2024-05-25T14:49:45.134371Z"
    },
    "papermill": {
     "duration": 0.033332,
     "end_time": "2024-05-25T14:49:45.138190",
     "exception": false,
     "start_time": "2024-05-25T14:49:45.104858",
     "status": "completed"
    },
    "tags": []
   },
   "outputs": [],
   "source": [
    "from langchain.chains import SimpleSequentialChain\n"
   ]
  },
  {
   "cell_type": "markdown",
   "id": "2c259635",
   "metadata": {
    "papermill": {
     "duration": 0.015945,
     "end_time": "2024-05-25T14:49:45.170417",
     "exception": false,
     "start_time": "2024-05-25T14:49:45.154472",
     "status": "completed"
    },
    "tags": []
   },
   "source": [
    "<a id=\"3.1\"></a>\n",
    "## <div style=\"box-shadow: rgba(0, 0, 0, 0.18) 0px 2px 4px inset; padding:20px; font-size:24px; font-family: consolas; text-align:center; display:fill; border-radius:15px; color:rgb(67, 66, 66)\"> <b> 3.1 Simple Sequential Chain </b></div>\n",
    "\n",
    "We are going to first create one chain, which uses an LLM and a prompt. This prompt is going to take in the product and will return the best name to describe that company. So that will be the first chain.\n",
    "\n"
   ]
  },
  {
   "cell_type": "code",
   "execution_count": 9,
   "id": "9cc8ae8d",
   "metadata": {
    "execution": {
     "iopub.execute_input": "2024-05-25T14:49:45.281481Z",
     "iopub.status.busy": "2024-05-25T14:49:45.280424Z",
     "iopub.status.idle": "2024-05-25T14:49:45.317138Z",
     "shell.execute_reply": "2024-05-25T14:49:45.315742Z"
    },
    "papermill": {
     "duration": 0.06259,
     "end_time": "2024-05-25T14:49:45.320484",
     "exception": false,
     "start_time": "2024-05-25T14:49:45.257894",
     "status": "completed"
    },
    "tags": []
   },
   "outputs": [],
   "source": [
    "llm = ChatOpenAI(temperature=0.9, model=llm_model, openai_api_key=openai.api_key)\n",
    "\n",
    "# prompt template 1\n",
    "first_prompt = ChatPromptTemplate.from_template(\n",
    "    \"What is the best name to describe \\\n",
    "    a company that makes {product}?\"\n",
    ")\n",
    "\n",
    "# Chain 1\n",
    "chain_one = LLMChain(llm=llm, prompt=first_prompt)\n"
   ]
  },
  {
   "cell_type": "markdown",
   "id": "a49a01d1",
   "metadata": {
    "papermill": {
     "duration": 0.016468,
     "end_time": "2024-05-25T14:49:45.354572",
     "exception": false,
     "start_time": "2024-05-25T14:49:45.338104",
     "status": "completed"
    },
    "tags": []
   },
   "source": [
    "Next, we’re going to create a second chain. The second chain will take in the company name and then output a 30-word description of that company. \n",
    "\n"
   ]
  },
  {
   "cell_type": "code",
   "execution_count": 10,
   "id": "1f2cec5c",
   "metadata": {
    "execution": {
     "iopub.execute_input": "2024-05-25T14:49:45.388930Z",
     "iopub.status.busy": "2024-05-25T14:49:45.388178Z",
     "iopub.status.idle": "2024-05-25T14:49:45.393138Z",
     "shell.execute_reply": "2024-05-25T14:49:45.392310Z"
    },
    "papermill": {
     "duration": 0.025117,
     "end_time": "2024-05-25T14:49:45.396086",
     "exception": false,
     "start_time": "2024-05-25T14:49:45.370969",
     "status": "completed"
    },
    "tags": []
   },
   "outputs": [],
   "source": [
    "# prompt template 2\n",
    "second_prompt = ChatPromptTemplate.from_template(\n",
    "    \"Write a 30 words description for the following \\\n",
    "    company:{company_name}\"\n",
    ")\n",
    "# chain 2\n",
    "chain_two = LLMChain(llm=llm, prompt=second_prompt)"
   ]
  },
  {
   "cell_type": "markdown",
   "id": "9e01da02",
   "metadata": {
    "papermill": {
     "duration": 0.015743,
     "end_time": "2024-05-25T14:49:45.428575",
     "exception": false,
     "start_time": "2024-05-25T14:49:45.412832",
     "status": "completed"
    },
    "tags": []
   },
   "source": [
    "You can imagine how these chains might want to be run one after another, where the output of the first chain, the company name is then passed into the second chain. We can easily do this by creating a simple sequential chain where we have the two chains described there. We’ll call this overall simple chain. "
   ]
  },
  {
   "cell_type": "code",
   "execution_count": 11,
   "id": "edacc0a1",
   "metadata": {
    "execution": {
     "iopub.execute_input": "2024-05-25T14:49:45.464488Z",
     "iopub.status.busy": "2024-05-25T14:49:45.464081Z",
     "iopub.status.idle": "2024-05-25T14:49:45.469094Z",
     "shell.execute_reply": "2024-05-25T14:49:45.468004Z"
    },
    "papermill": {
     "duration": 0.026105,
     "end_time": "2024-05-25T14:49:45.471441",
     "exception": false,
     "start_time": "2024-05-25T14:49:45.445336",
     "status": "completed"
    },
    "tags": []
   },
   "outputs": [],
   "source": [
    "overall_simple_chain = SimpleSequentialChain(chains=[chain_one, chain_two],\n",
    "                                             verbose=True)"
   ]
  },
  {
   "cell_type": "markdown",
   "id": "51f8848d",
   "metadata": {
    "papermill": {
     "duration": 0.015801,
     "end_time": "2024-05-25T14:49:45.503136",
     "exception": false,
     "start_time": "2024-05-25T14:49:45.487335",
     "status": "completed"
    },
    "tags": []
   },
   "source": [
    "Now, we will run this chain over any product description. And so if we use it with the product above, the Deep Learning GPUs, we can run it over and we can see that it first outputs royal bedding, and then it passes it into the second chain and it comes up with this description of what that company could be about. "
   ]
  },
  {
   "cell_type": "code",
   "execution_count": 12,
   "id": "230573b0",
   "metadata": {
    "execution": {
     "iopub.execute_input": "2024-05-25T14:49:45.538596Z",
     "iopub.status.busy": "2024-05-25T14:49:45.538182Z",
     "iopub.status.idle": "2024-05-25T14:49:47.219706Z",
     "shell.execute_reply": "2024-05-25T14:49:47.218635Z"
    },
    "papermill": {
     "duration": 1.703815,
     "end_time": "2024-05-25T14:49:47.222648",
     "exception": false,
     "start_time": "2024-05-25T14:49:45.518833",
     "status": "completed"
    },
    "tags": []
   },
   "outputs": [
    {
     "name": "stdout",
     "output_type": "stream",
     "text": [
      "\n",
      "\n",
      "\u001b[1m> Entering new SimpleSequentialChain chain...\u001b[0m\n",
      "\u001b[36;1m\u001b[1;3mNeuralTech Solutions\u001b[0m\n",
      "\u001b[33;1m\u001b[1;3mNeuralTech Solutions is a cutting-edge technology company specializing in artificial intelligence and machine learning solutions. We provide innovative and advanced technology to help businesses optimize their operations and improve efficiency.\u001b[0m\n",
      "\n",
      "\u001b[1m> Finished chain.\u001b[0m\n"
     ]
    },
    {
     "data": {
      "text/plain": [
       "'NeuralTech Solutions is a cutting-edge technology company specializing in artificial intelligence and machine learning solutions. We provide innovative and advanced technology to help businesses optimize their operations and improve efficiency.'"
      ]
     },
     "execution_count": 12,
     "metadata": {},
     "output_type": "execute_result"
    }
   ],
   "source": [
    "overall_simple_chain.run(product)"
   ]
  },
  {
   "cell_type": "markdown",
   "id": "5e5fe0a6",
   "metadata": {
    "papermill": {
     "duration": 0.017171,
     "end_time": "2024-05-25T14:49:47.256130",
     "exception": false,
     "start_time": "2024-05-25T14:49:47.238959",
     "status": "completed"
    },
    "tags": []
   },
   "source": [
    "The simple sequential chain works well when there’s only a single input and a single output. But what about when there are multiple inputs or multiple outputs? And so we can do this by using just the regular sequential chain. "
   ]
  },
  {
   "cell_type": "markdown",
   "id": "8b738be3",
   "metadata": {
    "papermill": {
     "duration": 0.015926,
     "end_time": "2024-05-25T14:49:47.290837",
     "exception": false,
     "start_time": "2024-05-25T14:49:47.274911",
     "status": "completed"
    },
    "tags": []
   },
   "source": [
    "<a id=\"3.2\"></a>\n",
    "## <div style=\"box-shadow: rgba(0, 0, 0, 0.18) 0px 2px 4px inset; padding:20px; font-size:24px; font-family: consolas; text-align:center; display:fill; border-radius:15px; color:rgb(67, 66, 66)\"> <b> 3.2 Complex Sequential Chain </b></div>\n",
    "\n",
    "So let’s import the sequential chain, and then you’re going to create a bunch of chains that we’re going to use one after another. "
   ]
  },
  {
   "cell_type": "code",
   "execution_count": 13,
   "id": "a0de4478",
   "metadata": {
    "execution": {
     "iopub.execute_input": "2024-05-25T14:49:47.324926Z",
     "iopub.status.busy": "2024-05-25T14:49:47.324558Z",
     "iopub.status.idle": "2024-05-25T14:49:47.330028Z",
     "shell.execute_reply": "2024-05-25T14:49:47.328816Z"
    },
    "papermill": {
     "duration": 0.025776,
     "end_time": "2024-05-25T14:49:47.332590",
     "exception": false,
     "start_time": "2024-05-25T14:49:47.306814",
     "status": "completed"
    },
    "tags": []
   },
   "outputs": [],
   "source": [
    "from langchain.chains import SequentialChain"
   ]
  },
  {
   "cell_type": "markdown",
   "id": "3ec3069e",
   "metadata": {
    "papermill": {
     "duration": 0.016574,
     "end_time": "2024-05-25T14:49:47.365241",
     "exception": false,
     "start_time": "2024-05-25T14:49:47.348667",
     "status": "completed"
    },
    "tags": []
   },
   "source": [
    "We’re going to be using the data from above, which has a review. In the first chain, we’re going to take the review and translate it into English. "
   ]
  },
  {
   "cell_type": "code",
   "execution_count": 14,
   "id": "2f59b6f8",
   "metadata": {
    "execution": {
     "iopub.execute_input": "2024-05-25T14:49:47.400535Z",
     "iopub.status.busy": "2024-05-25T14:49:47.399858Z",
     "iopub.status.idle": "2024-05-25T14:49:47.434627Z",
     "shell.execute_reply": "2024-05-25T14:49:47.432737Z"
    },
    "papermill": {
     "duration": 0.056312,
     "end_time": "2024-05-25T14:49:47.437760",
     "exception": false,
     "start_time": "2024-05-25T14:49:47.381448",
     "status": "completed"
    },
    "tags": []
   },
   "outputs": [],
   "source": [
    "llm = ChatOpenAI(temperature=0.9, model=llm_model, openai_api_key=openai.api_key)\n",
    "\n",
    "# prompt template 1: translate to english\n",
    "first_prompt = ChatPromptTemplate.from_template(\n",
    "    \"Translate the following review to english:\"\n",
    "    \"\\n\\n{Review}\"\n",
    ")\n",
    "# chain 1: input= Review and output= English_Review\n",
    "chain_one = LLMChain(llm=llm, prompt=first_prompt, \n",
    "                     output_key=\"English_Review\"\n",
    "                    )"
   ]
  },
  {
   "cell_type": "markdown",
   "id": "7243a0ef",
   "metadata": {
    "papermill": {
     "duration": 0.015828,
     "end_time": "2024-05-25T14:49:47.471153",
     "exception": false,
     "start_time": "2024-05-25T14:49:47.455325",
     "status": "completed"
    },
    "tags": []
   },
   "source": [
    "With the second chain, we’re going to create a summary of that review in one sentence. This will use the previously generated English review."
   ]
  },
  {
   "cell_type": "code",
   "execution_count": 15,
   "id": "d2638649",
   "metadata": {
    "execution": {
     "iopub.execute_input": "2024-05-25T14:49:47.507459Z",
     "iopub.status.busy": "2024-05-25T14:49:47.507057Z",
     "iopub.status.idle": "2024-05-25T14:49:47.512682Z",
     "shell.execute_reply": "2024-05-25T14:49:47.511560Z"
    },
    "papermill": {
     "duration": 0.026707,
     "end_time": "2024-05-25T14:49:47.515151",
     "exception": false,
     "start_time": "2024-05-25T14:49:47.488444",
     "status": "completed"
    },
    "tags": []
   },
   "outputs": [],
   "source": [
    "second_prompt = ChatPromptTemplate.from_template(\n",
    "    \"Can you summarize the following review in 1 sentence:\"\n",
    "    \"\\n\\n{English_Review}\"\n",
    ")\n",
    "# chain 2: input= English_Review and output= summary\n",
    "chain_two = LLMChain(llm=llm, prompt=second_prompt, \n",
    "                     output_key=\"summary\"\n",
    "                    )"
   ]
  },
  {
   "cell_type": "markdown",
   "id": "f0c2c37d",
   "metadata": {
    "papermill": {
     "duration": 0.017622,
     "end_time": "2024-05-25T14:49:47.548858",
     "exception": false,
     "start_time": "2024-05-25T14:49:47.531236",
     "status": "completed"
    },
    "tags": []
   },
   "source": [
    "The third chain is going to detect what the language of the review was in the first place. And so if you notice, this is using the review variable that is coming from the original review. "
   ]
  },
  {
   "cell_type": "code",
   "execution_count": 16,
   "id": "b1977eb9",
   "metadata": {
    "execution": {
     "iopub.execute_input": "2024-05-25T14:49:47.585576Z",
     "iopub.status.busy": "2024-05-25T14:49:47.585182Z",
     "iopub.status.idle": "2024-05-25T14:49:47.591726Z",
     "shell.execute_reply": "2024-05-25T14:49:47.590602Z"
    },
    "papermill": {
     "duration": 0.027388,
     "end_time": "2024-05-25T14:49:47.593880",
     "exception": false,
     "start_time": "2024-05-25T14:49:47.566492",
     "status": "completed"
    },
    "tags": []
   },
   "outputs": [],
   "source": [
    "# prompt template 3: translate to english\n",
    "third_prompt = ChatPromptTemplate.from_template(\n",
    "    \"What language is the following review:\\n\\n{Review}\"\n",
    ")\n",
    "# chain 3: input= Review and output= language\n",
    "chain_three = LLMChain(llm=llm, prompt=third_prompt,\n",
    "                       output_key=\"language\"\n",
    "                      )"
   ]
  },
  {
   "cell_type": "markdown",
   "id": "8c77b05f",
   "metadata": {
    "papermill": {
     "duration": 0.016303,
     "end_time": "2024-05-25T14:49:47.627510",
     "exception": false,
     "start_time": "2024-05-25T14:49:47.611207",
     "status": "completed"
    },
    "tags": []
   },
   "source": [
    "Finally, the fourth chain will take in multiple inputs. So this will take in the summary variable, which we calculated with the second chain, and the language variable, which we calculated with the third chain. And it’s going to ask for a follow-up response to the summary in the specified language. "
   ]
  },
  {
   "cell_type": "code",
   "execution_count": 17,
   "id": "b6bbfa01",
   "metadata": {
    "execution": {
     "iopub.execute_input": "2024-05-25T14:49:47.664515Z",
     "iopub.status.busy": "2024-05-25T14:49:47.663363Z",
     "iopub.status.idle": "2024-05-25T14:49:47.670477Z",
     "shell.execute_reply": "2024-05-25T14:49:47.669231Z"
    },
    "papermill": {
     "duration": 0.029097,
     "end_time": "2024-05-25T14:49:47.673025",
     "exception": false,
     "start_time": "2024-05-25T14:49:47.643928",
     "status": "completed"
    },
    "tags": []
   },
   "outputs": [],
   "source": [
    "# prompt template 4: follow up message\n",
    "fourth_prompt = ChatPromptTemplate.from_template(\n",
    "    \"Write a follow up response to the following \"\n",
    "    \"summary in the specified language:\"\n",
    "    \"\\n\\nSummary: {summary}\\n\\nLanguage: {language}\"\n",
    ")\n",
    "# chain 4: input= summary, language and output= followup_message\n",
    "chain_four = LLMChain(llm=llm, prompt=fourth_prompt,\n",
    "                      output_key=\"followup_message\"\n",
    "                     )"
   ]
  },
  {
   "cell_type": "markdown",
   "id": "0677b0d5",
   "metadata": {
    "papermill": {
     "duration": 0.017019,
     "end_time": "2024-05-25T14:49:47.706136",
     "exception": false,
     "start_time": "2024-05-25T14:49:47.689117",
     "status": "completed"
    },
    "tags": []
   },
   "source": [
    "One important thing to note about all these subchains is that the input keys and output keys need to be pretty precise. So here we’re taking in review. This is a variable that will be passed in at the start. We can see that we explicitly set the output key to English review. \n",
    "\n",
    "This is then used in the next prompt down below, where we take an English review with that same variable name. And we set the output key of that chain to the summary, which we can see is used in the final chain. \n",
    "\n",
    "The third prompt takes in review, the original variable, and outputs language, which is again used in the final prompt. It’s really important to get these variable names lined up exactly right because there are so many different inputs and outputs going on. And if you get any key errors, you should check that they are lined up. The simple sequential chain takes in multiple chains where each one has a single input and a single output. \n",
    "\n",
    "This is useful when you have more complicated downstream chains that need to be a composition of multiple previous chains. Now that we have all these chains, we can easily combine them into the sequential chain. So you’ll notice here that we’ll pass in the four chains we created into the chains variable. We’ll create the input variable with the one human input, which is the review. And then we want to return all of the intermediate outputs. So the English review, the summary, and then the follow-up message. "
   ]
  },
  {
   "cell_type": "code",
   "execution_count": 18,
   "id": "72a8715a",
   "metadata": {
    "execution": {
     "iopub.execute_input": "2024-05-25T14:49:47.740855Z",
     "iopub.status.busy": "2024-05-25T14:49:47.740224Z",
     "iopub.status.idle": "2024-05-25T14:49:47.745899Z",
     "shell.execute_reply": "2024-05-25T14:49:47.744765Z"
    },
    "papermill": {
     "duration": 0.025595,
     "end_time": "2024-05-25T14:49:47.748358",
     "exception": false,
     "start_time": "2024-05-25T14:49:47.722763",
     "status": "completed"
    },
    "tags": []
   },
   "outputs": [],
   "source": [
    "# overall_chain: input= Review \n",
    "# and output= English_Review,summary, followup_message\n",
    "overall_chain = SequentialChain(\n",
    "    chains=[chain_one, chain_two, chain_three, chain_four],\n",
    "    input_variables=[\"Review\"],\n",
    "    output_variables=[\"English_Review\", \"summary\",\"followup_message\"],\n",
    "    verbose=True\n",
    ")"
   ]
  },
  {
   "cell_type": "markdown",
   "id": "f00f7482",
   "metadata": {
    "execution": {
     "iopub.execute_input": "2024-05-25T12:30:31.857071Z",
     "iopub.status.busy": "2024-05-25T12:30:31.856604Z",
     "iopub.status.idle": "2024-05-25T12:30:31.864257Z",
     "shell.execute_reply": "2024-05-25T12:30:31.862876Z",
     "shell.execute_reply.started": "2024-05-25T12:30:31.857037Z"
    },
    "papermill": {
     "duration": 0.015922,
     "end_time": "2024-05-25T14:49:47.780567",
     "exception": false,
     "start_time": "2024-05-25T14:49:47.764645",
     "status": "completed"
    },
    "tags": []
   },
   "source": [
    "Now we can run this over some of the data. So let’s choose a review and pass it in through the overall chain."
   ]
  },
  {
   "cell_type": "code",
   "execution_count": 19,
   "id": "447dbdc2",
   "metadata": {
    "execution": {
     "iopub.execute_input": "2024-05-25T14:49:47.816209Z",
     "iopub.status.busy": "2024-05-25T14:49:47.815851Z",
     "iopub.status.idle": "2024-05-25T14:49:52.394944Z",
     "shell.execute_reply": "2024-05-25T14:49:52.393489Z"
    },
    "papermill": {
     "duration": 4.599061,
     "end_time": "2024-05-25T14:49:52.397198",
     "exception": false,
     "start_time": "2024-05-25T14:49:47.798137",
     "status": "completed"
    },
    "tags": []
   },
   "outputs": [
    {
     "name": "stderr",
     "output_type": "stream",
     "text": [
      "/opt/conda/lib/python3.10/site-packages/langchain_core/_api/deprecation.py:119: LangChainDeprecationWarning: The method `Chain.__call__` was deprecated in langchain 0.1.0 and will be removed in 0.3.0. Use invoke instead.\n",
      "  warn_deprecated(\n"
     ]
    },
    {
     "name": "stdout",
     "output_type": "stream",
     "text": [
      "\n",
      "\n",
      "\u001b[1m> Entering new SequentialChain chain...\u001b[0m\n",
      "\n",
      "\u001b[1m> Finished chain.\u001b[0m\n"
     ]
    },
    {
     "data": {
      "text/plain": [
       "{'Review': \"Je trouve le goût médiocre. La mousse ne tient pas, c'est bizarre. J'achète les mêmes dans le commerce et le goût est bien meilleur...\\nVieux lot ou contrefaçon !?\",\n",
       " 'English_Review': \"I find the taste mediocre. The foam doesn't hold, it's weird. I buy the same ones in stores and the taste is much better... Old batch or counterfeit!?\",\n",
       " 'summary': 'The reviewer is disappointed in the taste of the product and suspects that it may be an old batch or counterfeit.',\n",
       " 'followup_message': \"Je suis désolé(e) d'apprendre que vous avez été déçu(e) par le goût du produit. Il est possible qu'il s'agisse effectivement d'un lot ancien ou contrefait. Pourriez-vous contacter le service client pour signaler votre expérience et obtenir des informations supplémentaires? Nous tenons à nous assurer de la qualité de nos produits et de la satisfaction de nos clients. Merci pour votre retour.\"}"
      ]
     },
     "execution_count": 19,
     "metadata": {},
     "output_type": "execute_result"
    }
   ],
   "source": [
    "review = df.Review[5]\n",
    "overall_chain(review)\n"
   ]
  },
  {
   "cell_type": "markdown",
   "id": "e093b140",
   "metadata": {
    "papermill": {
     "duration": 0.017353,
     "end_time": "2024-05-25T14:49:52.431723",
     "exception": false,
     "start_time": "2024-05-25T14:49:52.414370",
     "status": "completed"
    },
    "tags": []
   },
   "source": [
    "We can see here that the original review looks like it was in French. We can see the English review as a translation. We can see a summary of that review, and then we can see a follow-up message in the original language of French.\n"
   ]
  },
  {
   "cell_type": "markdown",
   "id": "050d3a25",
   "metadata": {
    "papermill": {
     "duration": 0.016109,
     "end_time": "2024-05-25T14:49:52.464803",
     "exception": false,
     "start_time": "2024-05-25T14:49:52.448694",
     "status": "completed"
    },
    "tags": []
   },
   "source": [
    "<a id=\"4\"></a>\n",
    "# <div style=\"box-shadow: rgba(0, 0, 0, 0.16) 0px 1px 4px inset, rgb(51, 51, 51) 0px 0px 0px 3px inset; padding:20px; font-size:32px; font-family: consolas; text-align:center; display:fill; border-radius:15px;  color:rgb(34, 34, 34);\"> <b> 4. Router Chain </b></div>\n",
    "\n",
    "\n",
    "So far, we’ve covered the LLM chain and then a sequential chain. But what if you want to do something more complicated? A pretty common but basic operation is to route an input to a chain depending on what exactly that input is. \n",
    "\n",
    "A good way to imagine this is if you have multiple subchains, each of which is specialized for a particular type of input, you could have a router chain, which first decides which subchain to pass it to and then passes it to that chain. \n",
    "\n",
    "For a concrete example, let’s look at where we are routing between different types of chains depending on the subject that seems to come in. So we have here different prompts. One prompt is good for answering physics questions. The second prompt is good for answering math questions, the third for history, and then a fourth for computer science. Let’s define all these prompt templates. "
   ]
  },
  {
   "cell_type": "code",
   "execution_count": 20,
   "id": "65f41eb0",
   "metadata": {
    "execution": {
     "iopub.execute_input": "2024-05-25T14:49:52.500285Z",
     "iopub.status.busy": "2024-05-25T14:49:52.499119Z",
     "iopub.status.idle": "2024-05-25T14:49:52.507008Z",
     "shell.execute_reply": "2024-05-25T14:49:52.505647Z"
    },
    "papermill": {
     "duration": 0.02846,
     "end_time": "2024-05-25T14:49:52.509558",
     "exception": false,
     "start_time": "2024-05-25T14:49:52.481098",
     "status": "completed"
    },
    "tags": []
   },
   "outputs": [],
   "source": [
    "physics_template = \"\"\"You are a very smart physics professor. \\\n",
    "You are great at answering questions about physics in a concise\\\n",
    "and easy to understand manner. \\\n",
    "When you don't know the answer to a question you admit\\\n",
    "that you don't know.\n",
    "\n",
    "Here is a question:\n",
    "{input}\"\"\"\n",
    "\n",
    "\n",
    "math_template = \"\"\"You are a very good mathematician. \\\n",
    "You are great at answering math questions. \\\n",
    "You are so good because you are able to break down \\\n",
    "hard problems into their component parts, \n",
    "answer the component parts, and then put them together\\\n",
    "to answer the broader question.\n",
    "\n",
    "Here is a question:\n",
    "{input}\"\"\"\n",
    "\n",
    "history_template = \"\"\"You are a very good historian. \\\n",
    "You have an excellent knowledge of and understanding of people,\\\n",
    "events and contexts from a range of historical periods. \\\n",
    "You have the ability to think, reflect, debate, discuss and \\\n",
    "evaluate the past. You have a respect for historical evidence\\\n",
    "and the ability to make use of it to support your explanations \\\n",
    "and judgements.\n",
    "\n",
    "Here is a question:\n",
    "{input}\"\"\"\n",
    "\n",
    "\n",
    "computerscience_template = \"\"\" You are a successful computer scientist.\\\n",
    "You have a passion for creativity, collaboration,\\\n",
    "forward-thinking, confidence, strong problem-solving capabilities,\\\n",
    "understanding of theories and algorithms, and excellent communication \\\n",
    "skills. You are great at answering coding questions. \\\n",
    "You are so good because you know how to solve a problem by \\\n",
    "describing the solution in imperative steps \\\n",
    "that a machine can easily interpret and you know how to \\\n",
    "choose a solution that has a good balance between \\\n",
    "time complexity and space complexity. \n",
    "\n",
    "Here is a question:\n",
    "{input}\"\"\""
   ]
  },
  {
   "cell_type": "markdown",
   "id": "b8a1ec13",
   "metadata": {
    "papermill": {
     "duration": 0.017742,
     "end_time": "2024-05-25T14:49:52.544821",
     "exception": false,
     "start_time": "2024-05-25T14:49:52.527079",
     "status": "completed"
    },
    "tags": []
   },
   "source": [
    "After we have these prompt templates, we can then provide more information about them. We can give each one a name and then a description. This information is going to be passed to the router chain, so the router chain can decide when to use this subchain. "
   ]
  },
  {
   "cell_type": "code",
   "execution_count": 21,
   "id": "01159740",
   "metadata": {
    "execution": {
     "iopub.execute_input": "2024-05-25T14:49:52.582324Z",
     "iopub.status.busy": "2024-05-25T14:49:52.581142Z",
     "iopub.status.idle": "2024-05-25T14:49:52.587139Z",
     "shell.execute_reply": "2024-05-25T14:49:52.586262Z"
    },
    "papermill": {
     "duration": 0.028189,
     "end_time": "2024-05-25T14:49:52.589718",
     "exception": false,
     "start_time": "2024-05-25T14:49:52.561529",
     "status": "completed"
    },
    "tags": []
   },
   "outputs": [],
   "source": [
    "prompt_infos = [\n",
    "    {\n",
    "        \"name\": \"physics\", \n",
    "        \"description\": \"Good for answering questions about physics\", \n",
    "        \"prompt_template\": physics_template\n",
    "    },\n",
    "    {\n",
    "        \"name\": \"math\", \n",
    "        \"description\": \"Good for answering math questions\", \n",
    "        \"prompt_template\": math_template\n",
    "    },\n",
    "    {\n",
    "        \"name\": \"History\", \n",
    "        \"description\": \"Good for answering history questions\", \n",
    "        \"prompt_template\": history_template\n",
    "    },\n",
    "    {\n",
    "        \"name\": \"computer science\", \n",
    "        \"description\": \"Good for answering computer science questions\", \n",
    "        \"prompt_template\": computerscience_template\n",
    "    }\n",
    "]"
   ]
  },
  {
   "cell_type": "markdown",
   "id": "80f8664b",
   "metadata": {
    "papermill": {
     "duration": 0.017007,
     "end_time": "2024-05-25T14:49:52.624117",
     "exception": false,
     "start_time": "2024-05-25T14:49:52.607110",
     "status": "completed"
    },
    "tags": []
   },
   "source": [
    "Let’s now import the other types of chains that we need. "
   ]
  },
  {
   "cell_type": "code",
   "execution_count": 22,
   "id": "faf41c16",
   "metadata": {
    "execution": {
     "iopub.execute_input": "2024-05-25T14:49:52.660787Z",
     "iopub.status.busy": "2024-05-25T14:49:52.659955Z",
     "iopub.status.idle": "2024-05-25T14:49:52.797214Z",
     "shell.execute_reply": "2024-05-25T14:49:52.795681Z"
    },
    "papermill": {
     "duration": 0.158475,
     "end_time": "2024-05-25T14:49:52.800204",
     "exception": false,
     "start_time": "2024-05-25T14:49:52.641729",
     "status": "completed"
    },
    "tags": []
   },
   "outputs": [],
   "source": [
    "from langchain.chains.router import MultiPromptChain\n",
    "from langchain.chains.router.llm_router import LLMRouterChain,RouterOutputParser\n",
    "from langchain.prompts import PromptTemplate"
   ]
  },
  {
   "cell_type": "markdown",
   "id": "abefefcd",
   "metadata": {
    "papermill": {
     "duration": 0.016087,
     "end_time": "2024-05-25T14:49:52.832727",
     "exception": false,
     "start_time": "2024-05-25T14:49:52.816640",
     "status": "completed"
    },
    "tags": []
   },
   "source": [
    "Here we need a multi-prompt chain. This is a specific type of chain that is used when routing between multiple different prompt templates. As you can see, all the options we have are prompt templates themselves. But this is just one type of thing that you can route between. You can route between any type of chain. \n",
    "\n",
    "The other classes that we’ll implement here are an LLM router chain. This uses a language model itself to route between the different subchains. This is where the description and the name provided above will be used. We’ll also import a router output parser. This parses the LLM output into a dictionary that can be used downstream to determine which chain to use and what the input to that chain should be. \n",
    "\n",
    "Now we can get around to using it. First, let’s import and define the language model that we will use. "
   ]
  },
  {
   "cell_type": "code",
   "execution_count": 23,
   "id": "7e78c25b",
   "metadata": {
    "execution": {
     "iopub.execute_input": "2024-05-25T14:49:52.870107Z",
     "iopub.status.busy": "2024-05-25T14:49:52.869709Z",
     "iopub.status.idle": "2024-05-25T14:49:52.903318Z",
     "shell.execute_reply": "2024-05-25T14:49:52.902242Z"
    },
    "papermill": {
     "duration": 0.055417,
     "end_time": "2024-05-25T14:49:52.905850",
     "exception": false,
     "start_time": "2024-05-25T14:49:52.850433",
     "status": "completed"
    },
    "tags": []
   },
   "outputs": [],
   "source": [
    "llm = ChatOpenAI(temperature=0, model=llm_model,openai_api_key=openai.api_key)"
   ]
  },
  {
   "cell_type": "markdown",
   "id": "970d0403",
   "metadata": {
    "papermill": {
     "duration": 0.017232,
     "end_time": "2024-05-25T14:49:52.939607",
     "exception": false,
     "start_time": "2024-05-25T14:49:52.922375",
     "status": "completed"
    },
    "tags": []
   },
   "source": [
    "We now create the destination chains. These are the chains that will be called by the router chain. \n",
    "\n"
   ]
  },
  {
   "cell_type": "code",
   "execution_count": 24,
   "id": "0de1de28",
   "metadata": {
    "execution": {
     "iopub.execute_input": "2024-05-25T14:49:52.974444Z",
     "iopub.status.busy": "2024-05-25T14:49:52.974059Z",
     "iopub.status.idle": "2024-05-25T14:49:52.981989Z",
     "shell.execute_reply": "2024-05-25T14:49:52.980792Z"
    },
    "papermill": {
     "duration": 0.028495,
     "end_time": "2024-05-25T14:49:52.984578",
     "exception": false,
     "start_time": "2024-05-25T14:49:52.956083",
     "status": "completed"
    },
    "tags": []
   },
   "outputs": [],
   "source": [
    "destination_chains = {}\n",
    "for p_info in prompt_infos:\n",
    "    name = p_info[\"name\"]\n",
    "    prompt_template = p_info[\"prompt_template\"]\n",
    "    prompt = ChatPromptTemplate.from_template(template=prompt_template)\n",
    "    chain = LLMChain(llm=llm, prompt=prompt)\n",
    "    destination_chains[name] = chain  \n",
    "    \n",
    "destinations = [f\"{p['name']}: {p['description']}\" for p in prompt_infos]\n",
    "destinations_str = \"\\n\".join(destinations)\n"
   ]
  },
  {
   "cell_type": "markdown",
   "id": "4c1b1d8c",
   "metadata": {
    "papermill": {
     "duration": 0.016292,
     "end_time": "2024-05-25T14:49:53.017327",
     "exception": false,
     "start_time": "2024-05-25T14:49:53.001035",
     "status": "completed"
    },
    "tags": []
   },
   "source": [
    "As you can see, each destination chain itself is a language model chain, an LLM chain. In addition to the destination chains, we also need a default chain. This is the chain that’s called when the router can’t decide which of the sub-chains to use. For the example above, this might be called when the input question has nothing to do with physics, math, history, or computer science. "
   ]
  },
  {
   "cell_type": "code",
   "execution_count": 25,
   "id": "c67d7116",
   "metadata": {
    "execution": {
     "iopub.execute_input": "2024-05-25T14:49:53.052056Z",
     "iopub.status.busy": "2024-05-25T14:49:53.051695Z",
     "iopub.status.idle": "2024-05-25T14:49:53.058016Z",
     "shell.execute_reply": "2024-05-25T14:49:53.056965Z"
    },
    "papermill": {
     "duration": 0.026378,
     "end_time": "2024-05-25T14:49:53.060069",
     "exception": false,
     "start_time": "2024-05-25T14:49:53.033691",
     "status": "completed"
    },
    "tags": []
   },
   "outputs": [],
   "source": [
    "default_prompt = ChatPromptTemplate.from_template(\"{input}\")\n",
    "default_chain = LLMChain(llm=llm, prompt=default_prompt)"
   ]
  },
  {
   "cell_type": "markdown",
   "id": "ef6f3bf3",
   "metadata": {
    "papermill": {
     "duration": 0.016904,
     "end_time": "2024-05-25T14:49:53.093760",
     "exception": false,
     "start_time": "2024-05-25T14:49:53.076856",
     "status": "completed"
    },
    "tags": []
   },
   "source": [
    "Now we define the template that is used by the LLM to route between the different chains. This has instructions on the task to be done, as well as the specific formatting that the output should be in."
   ]
  },
  {
   "cell_type": "code",
   "execution_count": 26,
   "id": "fb54e980",
   "metadata": {
    "execution": {
     "iopub.execute_input": "2024-05-25T14:49:53.128826Z",
     "iopub.status.busy": "2024-05-25T14:49:53.128096Z",
     "iopub.status.idle": "2024-05-25T14:49:53.135519Z",
     "shell.execute_reply": "2024-05-25T14:49:53.133914Z"
    },
    "papermill": {
     "duration": 0.027895,
     "end_time": "2024-05-25T14:49:53.138019",
     "exception": false,
     "start_time": "2024-05-25T14:49:53.110124",
     "status": "completed"
    },
    "tags": []
   },
   "outputs": [],
   "source": [
    "MULTI_PROMPT_ROUTER_TEMPLATE = \"\"\"Given a raw text input to a \\\n",
    "language model select the model prompt best suited for the input. \\\n",
    "You will be given the names of the available prompts and a \\\n",
    "description of what the prompt is best suited for. \\\n",
    "You may also revise the original input if you think that revising\\\n",
    "it will ultimately lead to a better response from the language model.\n",
    "\n",
    "<< FORMATTING >>\n",
    "Return a markdown code snippet with a JSON object formatted to look like:\n",
    "```json\n",
    "{{{{\n",
    "    \"destination\": string \\ name of the prompt to use or \"DEFAULT\"\n",
    "    \"next_inputs\": string \\ a potentially modified version of the original input\n",
    "}}}}\n",
    "```\n",
    "\n",
    "REMEMBER: \"destination\" MUST be one of the candidate prompt \\\n",
    "names specified below OR it can be \"DEFAULT\" if the input is not\\\n",
    "well suited for any of the candidate prompts.\n",
    "REMEMBER: \"next_inputs\" can just be the original input \\\n",
    "if you don't think any modifications are needed.\n",
    "\n",
    "<< CANDIDATE PROMPTS >>\n",
    "{destinations}\n",
    "\n",
    "<< INPUT >>\n",
    "{{input}}\n",
    "\n",
    "<< OUTPUT (remember to include the ```json)>>\"\"\""
   ]
  },
  {
   "cell_type": "markdown",
   "id": "64f049e6",
   "metadata": {
    "papermill": {
     "duration": 0.016698,
     "end_time": "2024-05-25T14:49:53.171195",
     "exception": false,
     "start_time": "2024-05-25T14:49:53.154497",
     "status": "completed"
    },
    "tags": []
   },
   "source": [
    "Let’s put a few of these pieces together to build the router chain. First, we create the full router template by formatting it with the destinations that we defined above. This template is flexible to a bunch of different types of destinations. "
   ]
  },
  {
   "cell_type": "code",
   "execution_count": 27,
   "id": "98bc1158",
   "metadata": {
    "execution": {
     "iopub.execute_input": "2024-05-25T14:49:53.208373Z",
     "iopub.status.busy": "2024-05-25T14:49:53.207991Z",
     "iopub.status.idle": "2024-05-25T14:49:53.214496Z",
     "shell.execute_reply": "2024-05-25T14:49:53.213099Z"
    },
    "papermill": {
     "duration": 0.027606,
     "end_time": "2024-05-25T14:49:53.217779",
     "exception": false,
     "start_time": "2024-05-25T14:49:53.190173",
     "status": "completed"
    },
    "tags": []
   },
   "outputs": [],
   "source": [
    "MULTI_PROMPT_ROUTER_TEMPLATE = \"\"\"Given a raw text input to a \\\n",
    "language model select the model prompt best suited for the input. \\\n",
    "You will be given the names of the available prompts and a \\\n",
    "description of what the prompt is best suited for. \\\n",
    "You may also revise the original input if you think that revising\\\n",
    "it will ultimately lead to a better response from the language model.\n",
    "\n",
    "<< FORMATTING >>\n",
    "Return a markdown code snippet with a JSON object formatted to look like:\n",
    "```json\n",
    "{{{{\n",
    "    \"destination\": string \\ name of the prompt to use or \"DEFAULT\"\n",
    "    \"next_inputs\": string \\ a potentially modified version of the original input\n",
    "}}}}\n",
    "```\n",
    "\n",
    "REMEMBER: \"destination\" MUST be one of the candidate prompt \\\n",
    "names specified below OR it can be \"DEFAULT\" if the input is not\\\n",
    "well suited for any of the candidate prompts.\n",
    "REMEMBER: \"next_inputs\" can just be the original input \\\n",
    "if you don't think any modifications are needed.\n",
    "\n",
    "<< CANDIDATE PROMPTS >>\n",
    "{destinations}\n",
    "\n",
    "<< INPUT >>\n",
    "{{input}}\n",
    "\n",
    "<< OUTPUT (remember to include the ```json)>>\"\"\""
   ]
  },
  {
   "cell_type": "markdown",
   "id": "9db67ea7",
   "metadata": {
    "execution": {
     "iopub.execute_input": "2024-05-25T12:39:05.486484Z",
     "iopub.status.busy": "2024-05-25T12:39:05.486123Z",
     "iopub.status.idle": "2024-05-25T12:39:05.493110Z",
     "shell.execute_reply": "2024-05-25T12:39:05.492086Z",
     "shell.execute_reply.started": "2024-05-25T12:39:05.486458Z"
    },
    "papermill": {
     "duration": 0.017294,
     "end_time": "2024-05-25T14:49:53.252131",
     "exception": false,
     "start_time": "2024-05-25T14:49:53.234837",
     "status": "completed"
    },
    "tags": []
   },
   "source": [
    "Next, we create the prompt template from this template, and then we create the router chain by passing in the LLM and the overall router prompt. "
   ]
  },
  {
   "cell_type": "code",
   "execution_count": 28,
   "id": "25a09ed0",
   "metadata": {
    "execution": {
     "iopub.execute_input": "2024-05-25T14:49:53.288291Z",
     "iopub.status.busy": "2024-05-25T14:49:53.287902Z",
     "iopub.status.idle": "2024-05-25T14:49:53.294352Z",
     "shell.execute_reply": "2024-05-25T14:49:53.293191Z"
    },
    "papermill": {
     "duration": 0.028416,
     "end_time": "2024-05-25T14:49:53.297575",
     "exception": false,
     "start_time": "2024-05-25T14:49:53.269159",
     "status": "completed"
    },
    "tags": []
   },
   "outputs": [],
   "source": [
    "router_template = MULTI_PROMPT_ROUTER_TEMPLATE.format(\n",
    "    destinations=destinations_str\n",
    ")\n",
    "router_prompt = PromptTemplate(\n",
    "    template=router_template,\n",
    "    input_variables=[\"input\"],\n",
    "    output_parser=RouterOutputParser(),\n",
    ")\n",
    "\n",
    "router_chain = LLMRouterChain.from_llm(llm, router_prompt)"
   ]
  },
  {
   "cell_type": "markdown",
   "id": "b7c42718",
   "metadata": {
    "papermill": {
     "duration": 0.016193,
     "end_time": "2024-05-25T14:49:53.330752",
     "exception": false,
     "start_time": "2024-05-25T14:49:53.314559",
     "status": "completed"
    },
    "tags": []
   },
   "source": [
    "Note that here we have the router output parser. This is important as it will help this chain decide which subchains to route between. Finally, we will put it all together, we can create the overall chain. This has a router chain, which is defined here. It has destination chains, which we pass in here. Then we also pass in the default chain."
   ]
  },
  {
   "cell_type": "code",
   "execution_count": 29,
   "id": "fcf90d4a",
   "metadata": {
    "execution": {
     "iopub.execute_input": "2024-05-25T14:49:53.366225Z",
     "iopub.status.busy": "2024-05-25T14:49:53.365606Z",
     "iopub.status.idle": "2024-05-25T14:49:53.371497Z",
     "shell.execute_reply": "2024-05-25T14:49:53.370331Z"
    },
    "papermill": {
     "duration": 0.026695,
     "end_time": "2024-05-25T14:49:53.373822",
     "exception": false,
     "start_time": "2024-05-25T14:49:53.347127",
     "status": "completed"
    },
    "tags": []
   },
   "outputs": [],
   "source": [
    "chain = MultiPromptChain(router_chain=router_chain, \n",
    "                         destination_chains=destination_chains, \n",
    "                         default_chain=default_chain, verbose=True\n",
    "                        )"
   ]
  },
  {
   "cell_type": "markdown",
   "id": "6f5c5d28",
   "metadata": {
    "papermill": {
     "duration": 0.017616,
     "end_time": "2024-05-25T14:49:53.408358",
     "exception": false,
     "start_time": "2024-05-25T14:49:53.390742",
     "status": "completed"
    },
    "tags": []
   },
   "source": [
    "We can now use this chain. So let’s ask it some questions. We will ask it a physics question, we should hopefully see that it is routed to the physics chain with the input, what is blackbody radiation? And then that is passed into the chain down below, and we can see that the response is very detailed with lots of physics details. "
   ]
  },
  {
   "cell_type": "code",
   "execution_count": 30,
   "id": "daf2443d",
   "metadata": {
    "execution": {
     "iopub.execute_input": "2024-05-25T14:49:53.446142Z",
     "iopub.status.busy": "2024-05-25T14:49:53.445710Z",
     "iopub.status.idle": "2024-05-25T14:49:57.630442Z",
     "shell.execute_reply": "2024-05-25T14:49:57.629109Z"
    },
    "papermill": {
     "duration": 4.205727,
     "end_time": "2024-05-25T14:49:57.632932",
     "exception": false,
     "start_time": "2024-05-25T14:49:53.427205",
     "status": "completed"
    },
    "tags": []
   },
   "outputs": [
    {
     "name": "stdout",
     "output_type": "stream",
     "text": [
      "\n",
      "\n",
      "\u001b[1m> Entering new MultiPromptChain chain...\u001b[0m\n",
      "computer science: {'input': 'What is Generative AI in the field of computer science?'}\n",
      "\u001b[1m> Finished chain.\u001b[0m\n"
     ]
    },
    {
     "data": {
      "text/plain": [
       "'Generative AI, also known as generative adversarial networks (GANs), is a type of artificial intelligence that is used to generate new data samples that resemble a given dataset. This technology involves two neural networks - a generator and a discriminator - that work together in a competitive manner to produce realistic outputs.\\n\\nThe generator network creates new data samples, such as images, music, or text, based on random noise input. The discriminator network then evaluates these generated samples and provides feedback to the generator on how realistic they are compared to the original dataset. Through this process of competition and feedback, the generator network learns to produce increasingly realistic outputs.\\n\\nGenerative AI has a wide range of applications, including image generation, text generation, and even deepfake technology. It is a powerful tool for creative tasks and can be used to generate new content, enhance existing data, or even create entirely new datasets for training machine learning models.'"
      ]
     },
     "execution_count": 30,
     "metadata": {},
     "output_type": "execute_result"
    }
   ],
   "source": [
    "chain.run(\"What is Generative AI?\")"
   ]
  },
  {
   "cell_type": "code",
   "execution_count": null,
   "id": "db126478",
   "metadata": {
    "papermill": {
     "duration": 0.01773,
     "end_time": "2024-05-25T14:49:57.669216",
     "exception": false,
     "start_time": "2024-05-25T14:49:57.651486",
     "status": "completed"
    },
    "tags": []
   },
   "outputs": [],
   "source": []
  }
 ],
 "metadata": {
  "kaggle": {
   "accelerator": "none",
   "dataSources": [
    {
     "datasetId": 5082549,
     "sourceId": 8513658,
     "sourceType": "datasetVersion"
    }
   ],
   "dockerImageVersionId": 30698,
   "isGpuEnabled": false,
   "isInternetEnabled": true,
   "language": "python",
   "sourceType": "notebook"
  },
  "kernelspec": {
   "display_name": "Python 3",
   "language": "python",
   "name": "python3"
  },
  "language_info": {
   "codemirror_mode": {
    "name": "ipython",
    "version": 3
   },
   "file_extension": ".py",
   "mimetype": "text/x-python",
   "name": "python",
   "nbconvert_exporter": "python",
   "pygments_lexer": "ipython3",
   "version": "3.10.13"
  },
  "papermill": {
   "default_parameters": {},
   "duration": 67.659444,
   "end_time": "2024-05-25T14:49:58.510111",
   "environment_variables": {},
   "exception": null,
   "input_path": "__notebook__.ipynb",
   "output_path": "__notebook__.ipynb",
   "parameters": {},
   "start_time": "2024-05-25T14:48:50.850667",
   "version": "2.5.0"
  }
 },
 "nbformat": 4,
 "nbformat_minor": 5
}

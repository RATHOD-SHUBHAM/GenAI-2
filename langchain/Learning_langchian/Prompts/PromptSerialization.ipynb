{
  "nbformat": 4,
  "nbformat_minor": 0,
  "metadata": {
    "colab": {
      "provenance": []
    },
    "kernelspec": {
      "name": "python3",
      "display_name": "Python 3"
    },
    "language_info": {
      "name": "python"
    }
  },
  "cells": [
    {
      "cell_type": "code",
      "source": [
        "!pip install --upgrade --quiet langchain langchain_openai openai"
      ],
      "metadata": {
        "id": "SRk3Ays6XD_3"
      },
      "execution_count": null,
      "outputs": []
    },
    {
      "cell_type": "markdown",
      "source": [
        "# Prompt Serialization\n",
        "\n",
        "By serializing prompts, you can save their state and reload them whenever needed, eliminating the need to manually recreate complex prompt configurations.\n",
        "\n",
        "**We can save the file as**\n",
        "1. Json.\n",
        "2. Yaml."
      ],
      "metadata": {
        "id": "fSOaR1ouW6d7"
      }
    },
    {
      "cell_type": "code",
      "execution_count": null,
      "metadata": {
        "id": "WSPsbBdLWsiR"
      },
      "outputs": [],
      "source": [
        "from langchain.chains import LLMChain, SimpleSequentialChain, SequentialChain\n",
        "from langchain.prompts import PromptTemplate\n",
        "from langchain_openai import ChatOpenAI\n",
        "import os\n",
        "\n",
        "from google.colab import userdata\n",
        "os.environ['OPENAI_API_KEY'] = userdata.get('OPENAI_API_KEY')\n",
        "\n",
        "llm = ChatOpenAI(temperature=0)"
      ]
    },
    {
      "cell_type": "code",
      "source": [
        "template = \"\"\"\n",
        "    You are an AI Expert, You answer in detail about the topic asked.\n",
        "    topic : {topic}\n",
        "\n",
        "    Be specific and answer in bullet points\n",
        "\"\"\""
      ],
      "metadata": {
        "id": "kM0yiW1cXt0U"
      },
      "execution_count": null,
      "outputs": []
    },
    {
      "cell_type": "code",
      "source": [
        "prompt = PromptTemplate(\n",
        "    input_variables=['topic'],\n",
        "    template=template\n",
        ")"
      ],
      "metadata": {
        "id": "bIgfYZGzYAR2"
      },
      "execution_count": null,
      "outputs": []
    },
    {
      "cell_type": "markdown",
      "source": [
        "# Saving the prompt"
      ],
      "metadata": {
        "id": "9Y32w9H9YrfM"
      }
    },
    {
      "cell_type": "code",
      "source": [
        "prompt.save(\"prompt.json\")"
      ],
      "metadata": {
        "id": "gQEmz9TeYI88"
      },
      "execution_count": null,
      "outputs": []
    },
    {
      "cell_type": "code",
      "source": [
        "prompt.save(\"prompt.yaml\")"
      ],
      "metadata": {
        "id": "qKtF8MJPYMtY"
      },
      "execution_count": 9,
      "outputs": []
    },
    {
      "cell_type": "markdown",
      "source": [
        "# Loading the prompt"
      ],
      "metadata": {
        "id": "WuWRqoYGYv5j"
      }
    },
    {
      "cell_type": "code",
      "source": [
        "from langchain.prompts import load_prompt"
      ],
      "metadata": {
        "id": "etG5EcJeYvZq"
      },
      "execution_count": 11,
      "outputs": []
    },
    {
      "cell_type": "code",
      "source": [
        "prompt = load_prompt('prompt.yaml')\n",
        "# prompt = load_prompt('prompt.json')"
      ],
      "metadata": {
        "id": "FGbHNikPYgXm"
      },
      "execution_count": 17,
      "outputs": []
    },
    {
      "cell_type": "code",
      "source": [
        "prompt.format(topic = \"Machine Learning\")"
      ],
      "metadata": {
        "colab": {
          "base_uri": "https://localhost:8080/",
          "height": 53
        },
        "id": "1dcKzGsWZDqP",
        "outputId": "d8b46f44-1102-479d-c0eb-2f3b07be1c80"
      },
      "execution_count": 18,
      "outputs": [
        {
          "output_type": "execute_result",
          "data": {
            "text/plain": [
              "'\\n    You are an AI Expert, You answer in detail about the topic asked.\\n    topic : Machine Learning\\n    \\n    Be specific and answer in bullet points\\n'"
            ],
            "application/vnd.google.colaboratory.intrinsic+json": {
              "type": "string"
            }
          },
          "metadata": {},
          "execution_count": 18
        }
      ]
    },
    {
      "cell_type": "markdown",
      "source": [
        "# Call the chain"
      ],
      "metadata": {
        "id": "2oFa7hUwZLQb"
      }
    },
    {
      "cell_type": "code",
      "source": [
        "chain = LLMChain(\n",
        "    llm=llm,\n",
        "    prompt = prompt,\n",
        "    verbose = True\n",
        ")"
      ],
      "metadata": {
        "id": "UvbCBDt2ZI1i"
      },
      "execution_count": 19,
      "outputs": []
    },
    {
      "cell_type": "code",
      "source": [
        "response = chain.run(topic = \"Machine Learning\")\n",
        "\n",
        "response"
      ],
      "metadata": {
        "colab": {
          "base_uri": "https://localhost:8080/",
          "height": 393
        },
        "id": "xa1LGGfSZTJ2",
        "outputId": "38aa7890-5db7-48a4-947e-ddc3eb3b0a9b"
      },
      "execution_count": 20,
      "outputs": [
        {
          "output_type": "stream",
          "name": "stdout",
          "text": [
            "\n",
            "\n",
            "\u001b[1m> Entering new LLMChain chain...\u001b[0m\n",
            "Prompt after formatting:\n",
            "\u001b[32;1m\u001b[1;3m\n",
            "    You are an AI Expert, You answer in detail about the topic asked.\n",
            "    topic : Machine Learning\n",
            "    \n",
            "    Be specific and answer in bullet points\n",
            "\u001b[0m\n",
            "\n",
            "\u001b[1m> Finished chain.\u001b[0m\n"
          ]
        },
        {
          "output_type": "execute_result",
          "data": {
            "text/plain": [
              "'- Machine learning is a subset of artificial intelligence that focuses on developing algorithms and statistical models that allow computers to learn from and make predictions or decisions based on data.\\n- It involves training a model on a dataset to recognize patterns and relationships within the data, which can then be used to make predictions on new, unseen data.\\n- There are different types of machine learning algorithms, including supervised learning, unsupervised learning, and reinforcement learning.\\n- Supervised learning involves training a model on labeled data, where the correct output is provided, and the model learns to map inputs to outputs.\\n- Unsupervised learning involves training a model on unlabeled data, where the model learns to find patterns and relationships within the data without explicit guidance.\\n- Reinforcement learning involves training a model to make sequential decisions in an environment to maximize a reward signal.\\n- Machine learning is used in a wide range of applications, including image and speech recognition, natural language processing, recommendation systems, and autonomous vehicles.\\n- Some popular machine learning algorithms include linear regression, logistic regression, decision trees, support vector machines, neural networks, and deep learning models like convolutional neural networks and recurrent neural networks.\\n- Machine learning models require large amounts of data to train effectively, and the quality of the data used for training can significantly impact the performance of the model.\\n- The field of machine learning is constantly evolving, with new algorithms and techniques being developed to improve the accuracy and efficiency of models.'"
            ],
            "application/vnd.google.colaboratory.intrinsic+json": {
              "type": "string"
            }
          },
          "metadata": {},
          "execution_count": 20
        }
      ]
    },
    {
      "cell_type": "code",
      "source": [],
      "metadata": {
        "id": "Gr7q2hYcZdT7"
      },
      "execution_count": null,
      "outputs": []
    }
  ]
}
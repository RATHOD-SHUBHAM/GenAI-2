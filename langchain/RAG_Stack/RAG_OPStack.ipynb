{
  "nbformat": 4,
  "nbformat_minor": 0,
  "metadata": {
    "colab": {
      "provenance": []
    },
    "kernelspec": {
      "name": "python3",
      "display_name": "Python 3"
    },
    "language_info": {
      "name": "python"
    }
  },
  "cells": [
    {
      "cell_type": "code",
      "execution_count": 1,
      "metadata": {
        "id": "h2jVQG3CazEJ"
      },
      "outputs": [],
      "source": [
        "!pip install --upgrade --quiet langchain langchain-openai langchain-pinecone pypdf"
      ]
    },
    {
      "cell_type": "code",
      "source": [
        "import os\n",
        "from google.colab import userdata\n",
        "from langchain_community.document_loaders import PyPDFLoader\n",
        "from langchain.text_splitter import RecursiveCharacterTextSplitter\n",
        "from langchain_openai import OpenAI, OpenAIEmbeddings\n",
        "from langchain_pinecone import PineconeVectorStore\n",
        "from langchain.chains.question_answering import load_qa_chain\n",
        "from langchain.chains import RetrievalQA"
      ],
      "metadata": {
        "id": "3jJvA1zm0s5p"
      },
      "execution_count": 2,
      "outputs": []
    },
    {
      "cell_type": "code",
      "source": [
        "# from google.colab import drive\n",
        "# drive.mount('/content/drive')"
      ],
      "metadata": {
        "id": "A5zcnCxn1Dm5"
      },
      "execution_count": 3,
      "outputs": []
    },
    {
      "cell_type": "markdown",
      "source": [
        "Set the following environment variables to make using the Pinecone integration easier:\n",
        "\n",
        "* PINECONE_API_KEY: Your Pinecone API key.\n",
        "* PINECONE_INDEX_NAME: The name of the index you want to use.\n"
      ],
      "metadata": {
        "id": "6hyan7or2wZm"
      }
    },
    {
      "cell_type": "code",
      "source": [
        "os.environ['OPENAI_API_KEY'] = userdata.get('OPENAI_API_KEY')\n",
        "os.environ['PINECONE_API_KEY'] = userdata.get('pinecone')\n",
        "# index name for pine cone\n",
        "os.environ['environment'] = \"gcp-starter\""
      ],
      "metadata": {
        "id": "zweYR91R0_G4"
      },
      "execution_count": 4,
      "outputs": []
    },
    {
      "cell_type": "code",
      "source": [
        "loader = PyPDFLoader(\"/content/yoloWorld.pdf\")\n",
        "pages = loader.load()"
      ],
      "metadata": {
        "id": "yEyMHKjJ0rf2"
      },
      "execution_count": 5,
      "outputs": []
    },
    {
      "cell_type": "code",
      "source": [
        "text_splitter = RecursiveCharacterTextSplitter(\n",
        "    # Set a really small chunk size, just to show.\n",
        "    chunk_size=1000,\n",
        "    chunk_overlap=800,\n",
        "    length_function=len,\n",
        "    is_separator_regex=False,\n",
        ")\n",
        "\n",
        "docs = text_splitter.split_documents(pages)"
      ],
      "metadata": {
        "id": "BRYRAycI02fG"
      },
      "execution_count": 6,
      "outputs": []
    },
    {
      "cell_type": "code",
      "source": [
        "embeddings = OpenAIEmbeddings()"
      ],
      "metadata": {
        "id": "fWBmesvQ0-XH"
      },
      "execution_count": 7,
      "outputs": []
    },
    {
      "cell_type": "code",
      "source": [
        "embedding_size = embeddings.embed_query(\"Hi\")\n",
        "print(len(embedding_size))"
      ],
      "metadata": {
        "colab": {
          "base_uri": "https://localhost:8080/"
        },
        "id": "By8Vh97u3k57",
        "outputId": "354ccc20-7c04-4f44-b3ed-bc2b830d760a"
      },
      "execution_count": 8,
      "outputs": [
        {
          "output_type": "stream",
          "name": "stdout",
          "text": [
            "1536\n"
          ]
        }
      ]
    },
    {
      "cell_type": "markdown",
      "source": [
        "# Storing data in DB."
      ],
      "metadata": {
        "id": "U65YY3Wi2StE"
      }
    },
    {
      "cell_type": "code",
      "source": [
        "index_name = \"test-index-for-op-stack\"\n",
        "\n",
        "index = PineconeVectorStore.from_documents(docs, embeddings, index_name=index_name)"
      ],
      "metadata": {
        "id": "AXkGr2DF1_uW"
      },
      "execution_count": 9,
      "outputs": []
    },
    {
      "cell_type": "markdown",
      "source": [
        "# Similarity Search"
      ],
      "metadata": {
        "id": "NTcdurud5Cg5"
      }
    },
    {
      "cell_type": "code",
      "source": [
        "query = \"What is yolo-world?\"\n",
        "docs = index.similarity_search(query)\n",
        "print(docs)"
      ],
      "metadata": {
        "colab": {
          "base_uri": "https://localhost:8080/"
        },
        "id": "NBHHSUG02Wcq",
        "outputId": "f4d1d9b5-6514-49e7-fe5a-a671669d617b"
      },
      "execution_count": 10,
      "outputs": [
        {
          "output_type": "stream",
          "name": "stdout",
          "text": [
            "[Document(page_content='YOLO-World as an open-vocabulary detector', metadata={'page': 2.0, 'source': '/content/yoloWorld.pdf'}), Document(page_content='YOLO-World as an open-vocabulary detector', metadata={'page': 2.0, 'source': '/content/yoloWorld.pdf'}), Document(page_content='YOLO-World: Real-Time Open-Vocabulary Object Detection', metadata={'page': 0.0, 'source': '/content/yoloWorld.pdf'}), Document(page_content='YOLO-World: Real-Time Open-Vocabulary Object Detection', metadata={'page': 0.0, 'source': '/content/yoloWorld.pdf'})]\n"
          ]
        }
      ]
    },
    {
      "cell_type": "code",
      "source": [
        "print(docs[0].page_content)"
      ],
      "metadata": {
        "colab": {
          "base_uri": "https://localhost:8080/"
        },
        "id": "dSVNTgrL5OEg",
        "outputId": "23c44156-d024-404a-cfab-17ac73cf8337"
      },
      "execution_count": 11,
      "outputs": [
        {
          "output_type": "stream",
          "name": "stdout",
          "text": [
            "YOLO-World as an open-vocabulary detector\n"
          ]
        }
      ]
    },
    {
      "cell_type": "code",
      "source": [
        "query = \"What is yolo-world?\"\n",
        "docs = index.similarity_search(query, k = 3)\n",
        "print(docs)"
      ],
      "metadata": {
        "colab": {
          "base_uri": "https://localhost:8080/"
        },
        "id": "iCP--lEl47u3",
        "outputId": "582586b4-44d6-4697-e10b-b09458587857"
      },
      "execution_count": 12,
      "outputs": [
        {
          "output_type": "stream",
          "name": "stdout",
          "text": [
            "[Document(page_content='YOLO-World as an open-vocabulary detector', metadata={'page': 2.0, 'source': '/content/yoloWorld.pdf'}), Document(page_content='YOLO-World as an open-vocabulary detector', metadata={'page': 2.0, 'source': '/content/yoloWorld.pdf'}), Document(page_content='YOLO-World: Real-Time Open-Vocabulary Object Detection', metadata={'page': 0.0, 'source': '/content/yoloWorld.pdf'})]\n"
          ]
        }
      ]
    },
    {
      "cell_type": "markdown",
      "source": [
        "# Add data to existing embeddings."
      ],
      "metadata": {
        "id": "S-7r7L8S5YxQ"
      }
    },
    {
      "cell_type": "code",
      "source": [
        "vectorstore = PineconeVectorStore(index_name=index_name, embedding=embeddings)\n",
        "\n",
        "vectorstore.add_texts([\"My name is Shubham!\"])"
      ],
      "metadata": {
        "colab": {
          "base_uri": "https://localhost:8080/"
        },
        "id": "MwC8kUhL5GMC",
        "outputId": "62d19480-0d17-4db0-ee6e-5875f2445910"
      },
      "execution_count": 13,
      "outputs": [
        {
          "output_type": "execute_result",
          "data": {
            "text/plain": [
              "['d90f880c-6d79-4a74-bbb9-ec3e9aec0e09']"
            ]
          },
          "metadata": {},
          "execution_count": 13
        }
      ]
    },
    {
      "cell_type": "markdown",
      "source": [
        "# Retriever"
      ],
      "metadata": {
        "id": "ohtuV3Bq51qc"
      }
    },
    {
      "cell_type": "markdown",
      "source": [
        "**MMR**"
      ],
      "metadata": {
        "id": "Wi8UiTpV7_gt"
      }
    },
    {
      "cell_type": "code",
      "source": [
        "retriever = index.as_retriever(search_type=\"mmr\")"
      ],
      "metadata": {
        "id": "DHjlyeqf5k8J"
      },
      "execution_count": 14,
      "outputs": []
    },
    {
      "cell_type": "code",
      "source": [
        "matched_docs = retriever.get_relevant_documents(query)\n",
        "for i, d in enumerate(matched_docs):\n",
        "    print(f\"\\n## Document {i}\\n\")\n",
        "    print(d.page_content)"
      ],
      "metadata": {
        "colab": {
          "base_uri": "https://localhost:8080/"
        },
        "id": "37dt9BEv6Bou",
        "outputId": "a29d0e89-8463-4b44-fe93-8715bee0800f"
      },
      "execution_count": 28,
      "outputs": [
        {
          "output_type": "stream",
          "name": "stdout",
          "text": [
            "\n",
            "## Document 0\n",
            "\n",
            "YOLO-World as an open-vocabulary detector\n",
            "\n",
            "## Document 1\n",
            "\n",
            "mance of YOLO-World-S; (2) using an excessive amount\n",
            "\n",
            "## Document 2\n",
            "\n",
            "ically, YOLO-World follows the standard YOLO archi-\n",
            "\n",
            "## Document 3\n",
            "\n",
            "of YOLO-World are evaluated for both the\n"
          ]
        }
      ]
    },
    {
      "cell_type": "markdown",
      "source": [
        "**max_marginal_relevance_search**"
      ],
      "metadata": {
        "id": "otTmRsyA8DbN"
      }
    },
    {
      "cell_type": "code",
      "source": [
        "# retriever = index.max_marginal_relevance_search(query, k=2, fetch_k=10)\n",
        "\n",
        "# for i, doc in enumerate(retriever):\n",
        "#     print(f\"{i + 1}.\", doc.page_content, \"\\n\")"
      ],
      "metadata": {
        "id": "U45ScTf96D1f"
      },
      "execution_count": 16,
      "outputs": []
    },
    {
      "cell_type": "markdown",
      "source": [
        "# Load QA Chain"
      ],
      "metadata": {
        "id": "VoN0m2DF-l_y"
      }
    },
    {
      "cell_type": "code",
      "source": [
        "llm = OpenAI(temperature=0)\n",
        "\n",
        "chain = load_qa_chain(llm,\n",
        "                      chain_type='stuff')"
      ],
      "metadata": {
        "id": "RtyA6_vA8M4W"
      },
      "execution_count": 17,
      "outputs": []
    },
    {
      "cell_type": "code",
      "source": [
        "query = 'What is yolo world?'\n",
        "similarity_docs = index.similarity_search(query)\n",
        "response = chain.run(question = query, input_documents = similarity_docs)"
      ],
      "metadata": {
        "colab": {
          "base_uri": "https://localhost:8080/"
        },
        "id": "xLKxhuXn9ukW",
        "outputId": "d754f9c6-f9de-41fa-d7d1-694d07000719"
      },
      "execution_count": 18,
      "outputs": [
        {
          "output_type": "stream",
          "name": "stderr",
          "text": [
            "/usr/local/lib/python3.10/dist-packages/langchain_core/_api/deprecation.py:117: LangChainDeprecationWarning: The function `run` was deprecated in LangChain 0.1.0 and will be removed in 0.2.0. Use invoke instead.\n",
            "  warn_deprecated(\n"
          ]
        }
      ]
    },
    {
      "cell_type": "code",
      "source": [
        "print(response)"
      ],
      "metadata": {
        "colab": {
          "base_uri": "https://localhost:8080/"
        },
        "id": "ji9lKY6R-hi4",
        "outputId": "7f3cc84c-3dc2-4b41-97ae-d83719f967a0"
      },
      "execution_count": 19,
      "outputs": [
        {
          "output_type": "stream",
          "name": "stdout",
          "text": [
            " YOLO-World is a real-time open-vocabulary object detection system.\n"
          ]
        }
      ]
    },
    {
      "cell_type": "markdown",
      "source": [
        "# Retriever QA Chain"
      ],
      "metadata": {
        "id": "H8T1SjR9-p3p"
      }
    },
    {
      "cell_type": "code",
      "source": [
        "# query = 'What is YOLO-World ?'\n",
        "query = 'What is yolo world ?'\n",
        "qa_chain = RetrievalQA.from_chain_type(\n",
        "    llm = llm,\n",
        "    chain_type=\"stuff\",\n",
        "    retriever=retriever,\n",
        "    return_source_documents=True\n",
        ")"
      ],
      "metadata": {
        "id": "djg0zb9T-jVU"
      },
      "execution_count": 41,
      "outputs": []
    },
    {
      "cell_type": "code",
      "source": [
        "result = qa_chain.invoke({'query':query})"
      ],
      "metadata": {
        "id": "9uILx52N-xoH"
      },
      "execution_count": 42,
      "outputs": []
    },
    {
      "cell_type": "code",
      "source": [
        "result"
      ],
      "metadata": {
        "colab": {
          "base_uri": "https://localhost:8080/"
        },
        "id": "u60E2kT6-8jo",
        "outputId": "5a93ca97-269a-40f3-eaad-6a4ec0914387"
      },
      "execution_count": 43,
      "outputs": [
        {
          "output_type": "execute_result",
          "data": {
            "text/plain": [
              "{'query': 'What is yolo world ?',\n",
              " 'result': \" I don't know.\",\n",
              " 'source_documents': [Document(page_content='YOLO-World as an open-vocabulary detector', metadata={'page': 2.0, 'source': '/content/yoloWorld.pdf'}),\n",
              "  Document(page_content='mance of YOLO-World-S; (2) using an excessive amount', metadata={'page': 13.0, 'source': '/content/yoloWorld.pdf'}),\n",
              "  Document(page_content='ically, YOLO-World follows the standard YOLO archi-', metadata={'page': 1.0, 'source': '/content/yoloWorld.pdf'}),\n",
              "  Document(page_content='of YOLO-World are evaluated for both the', metadata={'page': 6.0, 'source': '/content/yoloWorld.pdf'})]}"
            ]
          },
          "metadata": {},
          "execution_count": 43
        }
      ]
    },
    {
      "cell_type": "code",
      "source": [
        "result['result']"
      ],
      "metadata": {
        "colab": {
          "base_uri": "https://localhost:8080/",
          "height": 35
        },
        "id": "DL3BQ1dF-3Rm",
        "outputId": "8ba3c9a1-db1c-45aa-a54f-53087edd1cec"
      },
      "execution_count": 44,
      "outputs": [
        {
          "output_type": "execute_result",
          "data": {
            "text/plain": [
              "\" I don't know.\""
            ],
            "application/vnd.google.colaboratory.intrinsic+json": {
              "type": "string"
            }
          },
          "metadata": {},
          "execution_count": 44
        }
      ]
    },
    {
      "cell_type": "code",
      "source": [],
      "metadata": {
        "id": "A3o7gSRh_24L"
      },
      "execution_count": null,
      "outputs": []
    }
  ]
}